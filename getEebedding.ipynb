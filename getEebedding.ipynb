{
 "cells": [
  {
   "cell_type": "code",
   "execution_count": 1,
   "metadata": {},
   "outputs": [],
   "source": [
    "import deepwalk as dw\n",
    "import numpy as np\n",
    "import pandas as pd\n",
    "\n",
    "import networkx as nx"
   ]
  },
  {
   "cell_type": "code",
   "execution_count": 2,
   "metadata": {},
   "outputs": [
    {
     "name": "stdout",
     "output_type": "stream",
     "text": [
      "Uploading...\n",
      "Uploading done!\n"
     ]
    }
   ],
   "source": [
    "print('Uploading...')\n",
    "ppi_adj = pd.read_csv('/root/work/data/stad_ppi', index_col=0)\n",
    "exp_matrix = pd.read_csv('/root/work/data/stad_exp_matrix', index_col=0)\n",
    "met_matrix = pd.read_csv('/root/work/data/stad_met_matrix', index_col=0)\n",
    "label = pd.read_csv('/root/work/data/stad_label')\n",
    "print('Uploading done!')"
   ]
  },
  {
   "cell_type": "code",
   "execution_count": 7,
   "metadata": {},
   "outputs": [
    {
     "data": {
      "text/html": [
       "<div>\n",
       "<style scoped>\n",
       "    .dataframe tbody tr th:only-of-type {\n",
       "        vertical-align: middle;\n",
       "    }\n",
       "\n",
       "    .dataframe tbody tr th {\n",
       "        vertical-align: top;\n",
       "    }\n",
       "\n",
       "    .dataframe thead th {\n",
       "        text-align: right;\n",
       "    }\n",
       "</style>\n",
       "<table border=\"1\" class=\"dataframe\">\n",
       "  <thead>\n",
       "    <tr style=\"text-align: right;\">\n",
       "      <th></th>\n",
       "      <th>TCGA-B7-5816</th>\n",
       "      <th>TCGA-B7-5818</th>\n",
       "      <th>TCGA-BR-6452</th>\n",
       "      <th>TCGA-BR-6453</th>\n",
       "      <th>TCGA-BR-6454</th>\n",
       "      <th>TCGA-BR-6455</th>\n",
       "      <th>TCGA-BR-6456</th>\n",
       "      <th>TCGA-BR-6457</th>\n",
       "      <th>TCGA-BR-6458</th>\n",
       "      <th>TCGA-BR-6563</th>\n",
       "      <th>...</th>\n",
       "      <th>TCGA-HU-A4H4</th>\n",
       "      <th>TCGA-HU-A4H5</th>\n",
       "      <th>TCGA-HU-A4H6</th>\n",
       "      <th>TCGA-HU-A4H8</th>\n",
       "      <th>TCGA-HU-A4HD</th>\n",
       "      <th>TCGA-IN-7806</th>\n",
       "      <th>TCGA-IN-7808</th>\n",
       "      <th>TCGA-IN-8462</th>\n",
       "      <th>TCGA-IN-8663</th>\n",
       "      <th>TCGA-IP-7968</th>\n",
       "    </tr>\n",
       "    <tr>\n",
       "      <th>Hugo_Symbol</th>\n",
       "      <th></th>\n",
       "      <th></th>\n",
       "      <th></th>\n",
       "      <th></th>\n",
       "      <th></th>\n",
       "      <th></th>\n",
       "      <th></th>\n",
       "      <th></th>\n",
       "      <th></th>\n",
       "      <th></th>\n",
       "      <th></th>\n",
       "      <th></th>\n",
       "      <th></th>\n",
       "      <th></th>\n",
       "      <th></th>\n",
       "      <th></th>\n",
       "      <th></th>\n",
       "      <th></th>\n",
       "      <th></th>\n",
       "      <th></th>\n",
       "      <th></th>\n",
       "    </tr>\n",
       "  </thead>\n",
       "  <tbody>\n",
       "    <tr>\n",
       "      <th>DOCK11</th>\n",
       "      <td>-0.172321</td>\n",
       "      <td>-1.698091</td>\n",
       "      <td>-0.395498</td>\n",
       "      <td>0.797247</td>\n",
       "      <td>0.040342</td>\n",
       "      <td>-0.405609</td>\n",
       "      <td>0.535314</td>\n",
       "      <td>0.777071</td>\n",
       "      <td>1.280067</td>\n",
       "      <td>0.847552</td>\n",
       "      <td>...</td>\n",
       "      <td>-0.558228</td>\n",
       "      <td>0.111199</td>\n",
       "      <td>-0.030437</td>\n",
       "      <td>-0.690486</td>\n",
       "      <td>-0.670120</td>\n",
       "      <td>-1.377293</td>\n",
       "      <td>2.053025</td>\n",
       "      <td>-0.365134</td>\n",
       "      <td>-1.958642</td>\n",
       "      <td>0.777071</td>\n",
       "    </tr>\n",
       "    <tr>\n",
       "      <th>GPBP1L1</th>\n",
       "      <td>-0.440377</td>\n",
       "      <td>-0.310255</td>\n",
       "      <td>0.000000</td>\n",
       "      <td>-0.290230</td>\n",
       "      <td>-0.690662</td>\n",
       "      <td>0.180130</td>\n",
       "      <td>-0.290230</td>\n",
       "      <td>-0.750740</td>\n",
       "      <td>-0.530477</td>\n",
       "      <td>-0.110078</td>\n",
       "      <td>...</td>\n",
       "      <td>0.020023</td>\n",
       "      <td>-0.280222</td>\n",
       "      <td>-0.060042</td>\n",
       "      <td>0.480312</td>\n",
       "      <td>0.170121</td>\n",
       "      <td>0.530336</td>\n",
       "      <td>0.340228</td>\n",
       "      <td>-0.270218</td>\n",
       "      <td>0.250180</td>\n",
       "      <td>0.590366</td>\n",
       "    </tr>\n",
       "    <tr>\n",
       "      <th>MLYCD</th>\n",
       "      <td>-0.612400</td>\n",
       "      <td>-3.361548</td>\n",
       "      <td>-0.411500</td>\n",
       "      <td>-0.210758</td>\n",
       "      <td>-0.170581</td>\n",
       "      <td>-1.387321</td>\n",
       "      <td>-0.863770</td>\n",
       "      <td>-0.401467</td>\n",
       "      <td>0.030055</td>\n",
       "      <td>-0.270945</td>\n",
       "      <td>...</td>\n",
       "      <td>-1.105208</td>\n",
       "      <td>-1.427725</td>\n",
       "      <td>-0.763211</td>\n",
       "      <td>-0.552119</td>\n",
       "      <td>-0.642551</td>\n",
       "      <td>-0.421543</td>\n",
       "      <td>-0.632549</td>\n",
       "      <td>-1.256274</td>\n",
       "      <td>-0.612400</td>\n",
       "      <td>-0.753107</td>\n",
       "    </tr>\n",
       "    <tr>\n",
       "      <th>GMPS</th>\n",
       "      <td>1.511755</td>\n",
       "      <td>0.881231</td>\n",
       "      <td>1.331625</td>\n",
       "      <td>0.320520</td>\n",
       "      <td>1.041395</td>\n",
       "      <td>1.311616</td>\n",
       "      <td>1.521761</td>\n",
       "      <td>0.010000</td>\n",
       "      <td>1.231557</td>\n",
       "      <td>0.250431</td>\n",
       "      <td>...</td>\n",
       "      <td>2.102079</td>\n",
       "      <td>0.741088</td>\n",
       "      <td>0.941298</td>\n",
       "      <td>0.991343</td>\n",
       "      <td>1.461725</td>\n",
       "      <td>0.320520</td>\n",
       "      <td>0.120206</td>\n",
       "      <td>0.180304</td>\n",
       "      <td>0.871218</td>\n",
       "      <td>1.071420</td>\n",
       "    </tr>\n",
       "    <tr>\n",
       "      <th>CYBA</th>\n",
       "      <td>1.400185</td>\n",
       "      <td>1.740214</td>\n",
       "      <td>0.850124</td>\n",
       "      <td>2.320249</td>\n",
       "      <td>2.010232</td>\n",
       "      <td>0.590084</td>\n",
       "      <td>0.910132</td>\n",
       "      <td>0.970139</td>\n",
       "      <td>1.340179</td>\n",
       "      <td>1.650207</td>\n",
       "      <td>...</td>\n",
       "      <td>1.330178</td>\n",
       "      <td>-0.380141</td>\n",
       "      <td>1.080152</td>\n",
       "      <td>-0.150075</td>\n",
       "      <td>0.220014</td>\n",
       "      <td>0.119994</td>\n",
       "      <td>0.980140</td>\n",
       "      <td>0.740108</td>\n",
       "      <td>0.380048</td>\n",
       "      <td>0.089988</td>\n",
       "    </tr>\n",
       "    <tr>\n",
       "      <th>...</th>\n",
       "      <td>...</td>\n",
       "      <td>...</td>\n",
       "      <td>...</td>\n",
       "      <td>...</td>\n",
       "      <td>...</td>\n",
       "      <td>...</td>\n",
       "      <td>...</td>\n",
       "      <td>...</td>\n",
       "      <td>...</td>\n",
       "      <td>...</td>\n",
       "      <td>...</td>\n",
       "      <td>...</td>\n",
       "      <td>...</td>\n",
       "      <td>...</td>\n",
       "      <td>...</td>\n",
       "      <td>...</td>\n",
       "      <td>...</td>\n",
       "      <td>...</td>\n",
       "      <td>...</td>\n",
       "      <td>...</td>\n",
       "      <td>...</td>\n",
       "    </tr>\n",
       "    <tr>\n",
       "      <th>FOXF2</th>\n",
       "      <td>-2.536788</td>\n",
       "      <td>-6.539229</td>\n",
       "      <td>-1.355439</td>\n",
       "      <td>-1.194522</td>\n",
       "      <td>-1.738168</td>\n",
       "      <td>-2.953452</td>\n",
       "      <td>0.180372</td>\n",
       "      <td>0.250515</td>\n",
       "      <td>-0.070207</td>\n",
       "      <td>0.020030</td>\n",
       "      <td>...</td>\n",
       "      <td>-1.970231</td>\n",
       "      <td>-3.877121</td>\n",
       "      <td>-0.882986</td>\n",
       "      <td>-2.709256</td>\n",
       "      <td>-1.566868</td>\n",
       "      <td>-1.325294</td>\n",
       "      <td>-4.929512</td>\n",
       "      <td>-0.070207</td>\n",
       "      <td>-1.929779</td>\n",
       "      <td>-1.003541</td>\n",
       "    </tr>\n",
       "    <tr>\n",
       "      <th>AADAT</th>\n",
       "      <td>-0.126643</td>\n",
       "      <td>-0.441247</td>\n",
       "      <td>-0.248364</td>\n",
       "      <td>-2.837900</td>\n",
       "      <td>0.671308</td>\n",
       "      <td>0.055521</td>\n",
       "      <td>0.711658</td>\n",
       "      <td>-0.086208</td>\n",
       "      <td>1.234867</td>\n",
       "      <td>-1.382676</td>\n",
       "      <td>...</td>\n",
       "      <td>0.499929</td>\n",
       "      <td>0.207289</td>\n",
       "      <td>-0.777358</td>\n",
       "      <td>-2.968549</td>\n",
       "      <td>0.812388</td>\n",
       "      <td>-0.086208</td>\n",
       "      <td>-0.818051</td>\n",
       "      <td>-0.065950</td>\n",
       "      <td>-2.216349</td>\n",
       "      <td>0.913050</td>\n",
       "    </tr>\n",
       "    <tr>\n",
       "      <th>FRMD4B</th>\n",
       "      <td>-0.814555</td>\n",
       "      <td>0.471615</td>\n",
       "      <td>-0.583006</td>\n",
       "      <td>-0.311501</td>\n",
       "      <td>0.712296</td>\n",
       "      <td>-0.583006</td>\n",
       "      <td>-0.794463</td>\n",
       "      <td>-0.231112</td>\n",
       "      <td>-0.231112</td>\n",
       "      <td>-0.020106</td>\n",
       "      <td>...</td>\n",
       "      <td>-0.643442</td>\n",
       "      <td>0.281041</td>\n",
       "      <td>-0.532735</td>\n",
       "      <td>0.130491</td>\n",
       "      <td>-0.020106</td>\n",
       "      <td>-1.531254</td>\n",
       "      <td>-0.351671</td>\n",
       "      <td>1.503851</td>\n",
       "      <td>-0.532735</td>\n",
       "      <td>0.080272</td>\n",
       "    </tr>\n",
       "    <tr>\n",
       "      <th>EIF5A2</th>\n",
       "      <td>1.115586</td>\n",
       "      <td>-0.322633</td>\n",
       "      <td>0.492966</td>\n",
       "      <td>-1.061298</td>\n",
       "      <td>0.924902</td>\n",
       "      <td>-1.621300</td>\n",
       "      <td>1.215909</td>\n",
       "      <td>0.110708</td>\n",
       "      <td>1.386393</td>\n",
       "      <td>0.120831</td>\n",
       "      <td>...</td>\n",
       "      <td>0.623597</td>\n",
       "      <td>0.352185</td>\n",
       "      <td>0.412528</td>\n",
       "      <td>-3.513879</td>\n",
       "      <td>0.281837</td>\n",
       "      <td>-0.534612</td>\n",
       "      <td>-1.254379</td>\n",
       "      <td>-0.504364</td>\n",
       "      <td>0.130883</td>\n",
       "      <td>0.653723</td>\n",
       "    </tr>\n",
       "    <tr>\n",
       "      <th>PALLD</th>\n",
       "      <td>0.145068</td>\n",
       "      <td>-2.087617</td>\n",
       "      <td>-0.095069</td>\n",
       "      <td>-1.396315</td>\n",
       "      <td>-1.296167</td>\n",
       "      <td>-0.355239</td>\n",
       "      <td>0.955376</td>\n",
       "      <td>1.435493</td>\n",
       "      <td>-0.295193</td>\n",
       "      <td>0.265122</td>\n",
       "      <td>...</td>\n",
       "      <td>-1.326209</td>\n",
       "      <td>-1.726853</td>\n",
       "      <td>-1.406326</td>\n",
       "      <td>-0.035032</td>\n",
       "      <td>-1.756922</td>\n",
       "      <td>0.095038</td>\n",
       "      <td>-1.726853</td>\n",
       "      <td>0.495221</td>\n",
       "      <td>-0.225149</td>\n",
       "      <td>-0.295193</td>\n",
       "    </tr>\n",
       "  </tbody>\n",
       "</table>\n",
       "<p>9742 rows × 218 columns</p>\n",
       "</div>"
      ],
      "text/plain": [
       "             TCGA-B7-5816  TCGA-B7-5818  TCGA-BR-6452  TCGA-BR-6453  \\\n",
       "Hugo_Symbol                                                           \n",
       "DOCK11          -0.172321     -1.698091     -0.395498      0.797247   \n",
       "GPBP1L1         -0.440377     -0.310255      0.000000     -0.290230   \n",
       "MLYCD           -0.612400     -3.361548     -0.411500     -0.210758   \n",
       "GMPS             1.511755      0.881231      1.331625      0.320520   \n",
       "CYBA             1.400185      1.740214      0.850124      2.320249   \n",
       "...                   ...           ...           ...           ...   \n",
       "FOXF2           -2.536788     -6.539229     -1.355439     -1.194522   \n",
       "AADAT           -0.126643     -0.441247     -0.248364     -2.837900   \n",
       "FRMD4B          -0.814555      0.471615     -0.583006     -0.311501   \n",
       "EIF5A2           1.115586     -0.322633      0.492966     -1.061298   \n",
       "PALLD            0.145068     -2.087617     -0.095069     -1.396315   \n",
       "\n",
       "             TCGA-BR-6454  TCGA-BR-6455  TCGA-BR-6456  TCGA-BR-6457  \\\n",
       "Hugo_Symbol                                                           \n",
       "DOCK11           0.040342     -0.405609      0.535314      0.777071   \n",
       "GPBP1L1         -0.690662      0.180130     -0.290230     -0.750740   \n",
       "MLYCD           -0.170581     -1.387321     -0.863770     -0.401467   \n",
       "GMPS             1.041395      1.311616      1.521761      0.010000   \n",
       "CYBA             2.010232      0.590084      0.910132      0.970139   \n",
       "...                   ...           ...           ...           ...   \n",
       "FOXF2           -1.738168     -2.953452      0.180372      0.250515   \n",
       "AADAT            0.671308      0.055521      0.711658     -0.086208   \n",
       "FRMD4B           0.712296     -0.583006     -0.794463     -0.231112   \n",
       "EIF5A2           0.924902     -1.621300      1.215909      0.110708   \n",
       "PALLD           -1.296167     -0.355239      0.955376      1.435493   \n",
       "\n",
       "             TCGA-BR-6458  TCGA-BR-6563  ...  TCGA-HU-A4H4  TCGA-HU-A4H5  \\\n",
       "Hugo_Symbol                              ...                               \n",
       "DOCK11           1.280067      0.847552  ...     -0.558228      0.111199   \n",
       "GPBP1L1         -0.530477     -0.110078  ...      0.020023     -0.280222   \n",
       "MLYCD            0.030055     -0.270945  ...     -1.105208     -1.427725   \n",
       "GMPS             1.231557      0.250431  ...      2.102079      0.741088   \n",
       "CYBA             1.340179      1.650207  ...      1.330178     -0.380141   \n",
       "...                   ...           ...  ...           ...           ...   \n",
       "FOXF2           -0.070207      0.020030  ...     -1.970231     -3.877121   \n",
       "AADAT            1.234867     -1.382676  ...      0.499929      0.207289   \n",
       "FRMD4B          -0.231112     -0.020106  ...     -0.643442      0.281041   \n",
       "EIF5A2           1.386393      0.120831  ...      0.623597      0.352185   \n",
       "PALLD           -0.295193      0.265122  ...     -1.326209     -1.726853   \n",
       "\n",
       "             TCGA-HU-A4H6  TCGA-HU-A4H8  TCGA-HU-A4HD  TCGA-IN-7806  \\\n",
       "Hugo_Symbol                                                           \n",
       "DOCK11          -0.030437     -0.690486     -0.670120     -1.377293   \n",
       "GPBP1L1         -0.060042      0.480312      0.170121      0.530336   \n",
       "MLYCD           -0.763211     -0.552119     -0.642551     -0.421543   \n",
       "GMPS             0.941298      0.991343      1.461725      0.320520   \n",
       "CYBA             1.080152     -0.150075      0.220014      0.119994   \n",
       "...                   ...           ...           ...           ...   \n",
       "FOXF2           -0.882986     -2.709256     -1.566868     -1.325294   \n",
       "AADAT           -0.777358     -2.968549      0.812388     -0.086208   \n",
       "FRMD4B          -0.532735      0.130491     -0.020106     -1.531254   \n",
       "EIF5A2           0.412528     -3.513879      0.281837     -0.534612   \n",
       "PALLD           -1.406326     -0.035032     -1.756922      0.095038   \n",
       "\n",
       "             TCGA-IN-7808  TCGA-IN-8462  TCGA-IN-8663  TCGA-IP-7968  \n",
       "Hugo_Symbol                                                          \n",
       "DOCK11           2.053025     -0.365134     -1.958642      0.777071  \n",
       "GPBP1L1          0.340228     -0.270218      0.250180      0.590366  \n",
       "MLYCD           -0.632549     -1.256274     -0.612400     -0.753107  \n",
       "GMPS             0.120206      0.180304      0.871218      1.071420  \n",
       "CYBA             0.980140      0.740108      0.380048      0.089988  \n",
       "...                   ...           ...           ...           ...  \n",
       "FOXF2           -4.929512     -0.070207     -1.929779     -1.003541  \n",
       "AADAT           -0.818051     -0.065950     -2.216349      0.913050  \n",
       "FRMD4B          -0.351671      1.503851     -0.532735      0.080272  \n",
       "EIF5A2          -1.254379     -0.504364      0.130883      0.653723  \n",
       "PALLD           -1.726853      0.495221     -0.225149     -0.295193  \n",
       "\n",
       "[9742 rows x 218 columns]"
      ]
     },
     "execution_count": 7,
     "metadata": {},
     "output_type": "execute_result"
    }
   ],
   "source": [
    "exp_matrix"
   ]
  },
  {
   "cell_type": "code",
   "execution_count": 3,
   "metadata": {},
   "outputs": [
    {
     "data": {
      "text/plain": [
       "9742"
      ]
     },
     "execution_count": 3,
     "metadata": {},
     "output_type": "execute_result"
    }
   ],
   "source": [
    "# construct a graph\n",
    "ppi_graph = nx.from_pandas_adjacency(ppi_adj)\n",
    "len(ppi_graph)\n",
    "## 5s"
   ]
  },
  {
   "cell_type": "code",
   "execution_count": 4,
   "metadata": {},
   "outputs": [
    {
     "name": "stdout",
     "output_type": "stream",
     "text": [
      "No. 0\n"
     ]
    },
    {
     "name": "stderr",
     "output_type": "stream",
     "text": [
      "[Parallel(n_jobs=8)]: Using backend LokyBackend with 8 concurrent workers.\n",
      "[Parallel(n_jobs=8)]: Done   2 out of   8 | elapsed:   12.1s remaining:   36.4s\n",
      "[Parallel(n_jobs=8)]: Done   8 out of   8 | elapsed:   31.8s finished\n"
     ]
    },
    {
     "name": "stdout",
     "output_type": "stream",
     "text": [
      "Learning embedding vectors...\n",
      "Learning embedding vectors done!\n",
      "No. 1\n"
     ]
    },
    {
     "name": "stderr",
     "output_type": "stream",
     "text": [
      "[Parallel(n_jobs=8)]: Using backend LokyBackend with 8 concurrent workers.\n",
      "[Parallel(n_jobs=8)]: Done   2 out of   8 | elapsed:   11.4s remaining:   34.3s\n",
      "[Parallel(n_jobs=8)]: Done   8 out of   8 | elapsed:   31.4s finished\n"
     ]
    },
    {
     "name": "stdout",
     "output_type": "stream",
     "text": [
      "Learning embedding vectors...\n",
      "Learning embedding vectors done!\n",
      "No. 2\n"
     ]
    },
    {
     "name": "stderr",
     "output_type": "stream",
     "text": [
      "[Parallel(n_jobs=8)]: Using backend LokyBackend with 8 concurrent workers.\n",
      "[Parallel(n_jobs=8)]: Done   2 out of   8 | elapsed:   11.3s remaining:   33.9s\n",
      "[Parallel(n_jobs=8)]: Done   8 out of   8 | elapsed:   31.2s finished\n"
     ]
    },
    {
     "name": "stdout",
     "output_type": "stream",
     "text": [
      "Learning embedding vectors...\n",
      "Learning embedding vectors done!\n",
      "No. 3\n"
     ]
    },
    {
     "name": "stderr",
     "output_type": "stream",
     "text": [
      "[Parallel(n_jobs=8)]: Using backend LokyBackend with 8 concurrent workers.\n",
      "[Parallel(n_jobs=8)]: Done   2 out of   8 | elapsed:   11.3s remaining:   33.9s\n",
      "[Parallel(n_jobs=8)]: Done   8 out of   8 | elapsed:   31.1s finished\n"
     ]
    },
    {
     "name": "stdout",
     "output_type": "stream",
     "text": [
      "Learning embedding vectors...\n",
      "Learning embedding vectors done!\n",
      "No. 4\n"
     ]
    },
    {
     "name": "stderr",
     "output_type": "stream",
     "text": [
      "[Parallel(n_jobs=8)]: Using backend LokyBackend with 8 concurrent workers.\n",
      "[Parallel(n_jobs=8)]: Done   2 out of   8 | elapsed:   11.5s remaining:   34.6s\n",
      "[Parallel(n_jobs=8)]: Done   8 out of   8 | elapsed:   31.8s finished\n"
     ]
    },
    {
     "name": "stdout",
     "output_type": "stream",
     "text": [
      "Learning embedding vectors...\n",
      "Learning embedding vectors done!\n",
      "No. 5\n"
     ]
    },
    {
     "name": "stderr",
     "output_type": "stream",
     "text": [
      "[Parallel(n_jobs=8)]: Using backend LokyBackend with 8 concurrent workers.\n",
      "[Parallel(n_jobs=8)]: Done   2 out of   8 | elapsed:   11.3s remaining:   34.0s\n",
      "[Parallel(n_jobs=8)]: Done   8 out of   8 | elapsed:   32.1s finished\n"
     ]
    },
    {
     "name": "stdout",
     "output_type": "stream",
     "text": [
      "Learning embedding vectors...\n",
      "Learning embedding vectors done!\n",
      "No. 6\n"
     ]
    },
    {
     "name": "stderr",
     "output_type": "stream",
     "text": [
      "[Parallel(n_jobs=8)]: Using backend LokyBackend with 8 concurrent workers.\n",
      "[Parallel(n_jobs=8)]: Done   2 out of   8 | elapsed:   11.5s remaining:   34.6s\n",
      "[Parallel(n_jobs=8)]: Done   8 out of   8 | elapsed:   32.3s finished\n"
     ]
    },
    {
     "name": "stdout",
     "output_type": "stream",
     "text": [
      "Learning embedding vectors...\n",
      "Learning embedding vectors done!\n",
      "No. 7\n"
     ]
    },
    {
     "name": "stderr",
     "output_type": "stream",
     "text": [
      "[Parallel(n_jobs=8)]: Using backend LokyBackend with 8 concurrent workers.\n",
      "[Parallel(n_jobs=8)]: Done   2 out of   8 | elapsed:   11.7s remaining:   35.0s\n",
      "[Parallel(n_jobs=8)]: Done   8 out of   8 | elapsed:   33.1s finished\n"
     ]
    },
    {
     "name": "stdout",
     "output_type": "stream",
     "text": [
      "Learning embedding vectors...\n",
      "Learning embedding vectors done!\n",
      "No. 8\n"
     ]
    },
    {
     "name": "stderr",
     "output_type": "stream",
     "text": [
      "[Parallel(n_jobs=8)]: Using backend LokyBackend with 8 concurrent workers.\n",
      "[Parallel(n_jobs=8)]: Done   2 out of   8 | elapsed:   11.8s remaining:   35.3s\n",
      "[Parallel(n_jobs=8)]: Done   8 out of   8 | elapsed:   33.4s finished\n"
     ]
    },
    {
     "name": "stdout",
     "output_type": "stream",
     "text": [
      "Learning embedding vectors...\n",
      "Learning embedding vectors done!\n",
      "No. 9\n"
     ]
    },
    {
     "name": "stderr",
     "output_type": "stream",
     "text": [
      "[Parallel(n_jobs=8)]: Using backend LokyBackend with 8 concurrent workers.\n",
      "[Parallel(n_jobs=8)]: Done   2 out of   8 | elapsed:   12.2s remaining:   36.6s\n",
      "[Parallel(n_jobs=8)]: Done   8 out of   8 | elapsed:   34.4s finished\n"
     ]
    },
    {
     "name": "stdout",
     "output_type": "stream",
     "text": [
      "Learning embedding vectors...\n",
      "Learning embedding vectors done!\n"
     ]
    }
   ],
   "source": [
    "label_sp = label[0:10]\n",
    "embeddings = np.empty\n",
    "for i in range(len(label_sp)):\n",
    "    print('No.',i)\n",
    "    exp = pd.DataFrame(exp_matrix.iloc[:,i].T)\n",
    "    met = pd.DataFrame(met_matrix.iloc[:,i].T)\n",
    "    feature = met.join(exp, lsuffix='_met', rsuffix='_exp').to_dict('index')\n",
    "    nx.set_node_attributes(ppi_graph, feature)\n",
    "    emb_dict = dw.getEmbedding(ppi_graph)\n",
    "    emb = np.array(pd.DataFrame.from_dict(emb_dict)).reshape(1,32*ppi_adj.shape[0])\n",
    "    if i == 0:\n",
    "        embeddings = emb\n",
    "    else:\n",
    "        embeddings = np.concatenate((embeddings, emb), axis=0)"
   ]
  },
  {
   "cell_type": "code",
   "execution_count": 5,
   "metadata": {},
   "outputs": [
    {
     "name": "stdout",
     "output_type": "stream",
     "text": [
      "Saving done!\n"
     ]
    }
   ],
   "source": [
    "np.save('/root/work/data/emb_stad_32_10.npy',embeddings)\n",
    "print('Saving done!')"
   ]
  },
  {
   "cell_type": "code",
   "execution_count": 6,
   "metadata": {},
   "outputs": [],
   "source": [
    "# #single test\n",
    "# met = pd.DataFrame(met_matrix.iloc[:,0].T)\n",
    "# exp = pd.DataFrame(exp_matrix.iloc[:,0].T)\n",
    "# feature = met.join(exp, lsuffix='_met', rsuffix='_exp').to_dict('index')\n",
    "# nx.set_node_attributes(ppi_graph, feature)\n",
    "# emb_dict = dw.getEmbedding(ppi_graph)\n",
    "# ## 2m43s    \n",
    "# emb1 = np.array(pd.DataFrame.from_dict(emb_dict)).reshape(1,64*ppi_adj.shape[0])"
   ]
  }
 ],
 "metadata": {
  "interpreter": {
   "hash": "31f2aee4e71d21fbe5cf8b01ff0e069b9275f58929596ceb00d14d90e3e16cd6"
  },
  "kernelspec": {
   "display_name": "Python 3.6.9 64-bit",
   "language": "python",
   "name": "python3"
  },
  "language_info": {
   "codemirror_mode": {
    "name": "ipython",
    "version": 3
   },
   "file_extension": ".py",
   "mimetype": "text/x-python",
   "name": "python",
   "nbconvert_exporter": "python",
   "pygments_lexer": "ipython3",
   "version": "3.6.9"
  },
  "orig_nbformat": 4
 },
 "nbformat": 4,
 "nbformat_minor": 2
}
