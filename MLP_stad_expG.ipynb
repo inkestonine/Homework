{
 "cells": [
  {
   "cell_type": "code",
   "execution_count": 3,
   "metadata": {},
   "outputs": [],
   "source": [
    "import numpy as np\n",
    "import pandas as pd\n",
    "\n",
    "from sklearn.model_selection import train_test_split\n",
    "\n",
    "from tensorflow import keras as kr\n",
    "from tensorflow.keras import optimizers\n",
    "from tensorflow.keras.models import Sequential\n",
    "from tensorflow.keras.layers import Dense, Dropout\n",
    "\n",
    "import talos\n",
    "\n",
    "import matplotlib.pyplot as plt"
   ]
  },
  {
   "cell_type": "code",
   "execution_count": 4,
   "metadata": {},
   "outputs": [],
   "source": [
    "# upload & joint\n",
    "emb = np.load('/root/work/data/emb_stad_exp32.npy')\n",
    "label = pd.read_csv('/root/work/data/STAD/label_met_stad')\n",
    "\n",
    "emb_size = emb.shape[1]\n",
    "num_classes =len(label['Molecular.Subtype'].value_counts())"
   ]
  },
  {
   "cell_type": "code",
   "execution_count": 5,
   "metadata": {},
   "outputs": [],
   "source": [
    "# data preprocessing\n",
    "x = emb\n",
    "\n",
    "# str -> int\n",
    "y = np.array(label['Molecular.Subtype'].map({'CIN':0, 'GS':1, 'MSI':2, 'EBV':3}).astype(int))\n",
    "\n",
    "# int -> onthot\n",
    "def getOnehotLable(old_label, num_classes):\n",
    "    num_labels = old_label.shape[0]\n",
    "    index_offset = np.arange(num_labels) * num_classes\n",
    "    labels_one_hot = np.zeros((num_labels, num_classes))\n",
    "    labels_one_hot.flat[index_offset + old_label.ravel()] = 1\n",
    "    return labels_one_hot\n",
    "    \n",
    "y = getOnehotLable(y, num_classes)"
   ]
  },
  {
   "cell_type": "code",
   "execution_count": 6,
   "metadata": {},
   "outputs": [
    {
     "name": "stdout",
     "output_type": "stream",
     "text": [
      "(195, 312640) (65, 312640) (195, 4) (65, 4)\n"
     ]
    }
   ],
   "source": [
    "seed = 2022\n",
    "np.random.seed(seed)\n",
    "train_x, test_x, train_y, test_y = train_test_split(x, y, test_size=0.25, random_state=seed)\n",
    "print(train_x.shape, test_x.shape, train_y.shape, test_y.shape)"
   ]
  },
  {
   "cell_type": "code",
   "execution_count": 7,
   "metadata": {},
   "outputs": [],
   "source": [
    "model = Sequential()\n",
    "model.add(Dense(2048, input_dim=train_x.shape[1], kernel_initializer='uniform', activation='relu'))\n",
    "# model.add(Dropout(0.1))\n",
    "model.add(Dense(512,kernel_initializer='uniform',activation='relu'))\n",
    "# model.add(Dropout(0.1))\n",
    "model.add(Dense(128,kernel_initializer='uniform',activation='relu'))\n",
    "model.add(Dense(num_classes,kernel_initializer='uniform',activation='softmax'))\n",
    "\n",
    "model.compile(loss=kr.losses.CategoricalCrossentropy(), optimizer='sgd', metrics=['categorical_accuracy'])\n",
    "sgd = optimizers.SGD(learning_rate=0.0001)"
   ]
  },
  {
   "cell_type": "code",
   "execution_count": 8,
   "metadata": {},
   "outputs": [
    {
     "name": "stdout",
     "output_type": "stream",
     "text": [
      "Epoch 1/50\n",
      "2/2 [==============================] - 2s 1s/step - loss: 1.3384 - categorical_accuracy: 0.4615 - val_loss: 1.2162 - val_categorical_accuracy: 0.4769\n",
      "Epoch 2/50\n",
      "2/2 [==============================] - 2s 953ms/step - loss: 1.2412 - categorical_accuracy: 0.4974 - val_loss: 1.2687 - val_categorical_accuracy: 0.4000\n",
      "Epoch 3/50\n",
      "2/2 [==============================] - 2s 955ms/step - loss: 1.1731 - categorical_accuracy: 0.4821 - val_loss: 1.1921 - val_categorical_accuracy: 0.4462\n",
      "Epoch 4/50\n",
      "2/2 [==============================] - 2s 958ms/step - loss: 0.9883 - categorical_accuracy: 0.6513 - val_loss: 1.2416 - val_categorical_accuracy: 0.4462\n",
      "Epoch 5/50\n",
      "2/2 [==============================] - 2s 949ms/step - loss: 0.9418 - categorical_accuracy: 0.6256 - val_loss: 1.2345 - val_categorical_accuracy: 0.5231\n",
      "Epoch 6/50\n",
      "2/2 [==============================] - 2s 981ms/step - loss: 0.8673 - categorical_accuracy: 0.7231 - val_loss: 1.2599 - val_categorical_accuracy: 0.4462\n",
      "Epoch 7/50\n",
      "2/2 [==============================] - 2s 975ms/step - loss: 0.7317 - categorical_accuracy: 0.7795 - val_loss: 1.2530 - val_categorical_accuracy: 0.4769\n",
      "Epoch 8/50\n",
      "2/2 [==============================] - 4s 4s/step - loss: 0.6532 - categorical_accuracy: 0.8513 - val_loss: 1.2140 - val_categorical_accuracy: 0.4462\n",
      "Epoch 9/50\n",
      "2/2 [==============================] - 2s 1s/step - loss: 0.5920 - categorical_accuracy: 0.8872 - val_loss: 1.2502 - val_categorical_accuracy: 0.4769\n",
      "Epoch 10/50\n",
      "2/2 [==============================] - 2s 1s/step - loss: 0.5291 - categorical_accuracy: 0.9077 - val_loss: 1.2393 - val_categorical_accuracy: 0.4769\n",
      "Epoch 11/50\n",
      "2/2 [==============================] - 2s 1s/step - loss: 0.4525 - categorical_accuracy: 0.9385 - val_loss: 1.2016 - val_categorical_accuracy: 0.4769\n",
      "Epoch 12/50\n",
      "2/2 [==============================] - 2s 1s/step - loss: 0.4178 - categorical_accuracy: 0.9436 - val_loss: 1.2267 - val_categorical_accuracy: 0.4615\n",
      "Epoch 13/50\n",
      "2/2 [==============================] - 5s 2s/step - loss: 0.3473 - categorical_accuracy: 0.9744 - val_loss: 1.2780 - val_categorical_accuracy: 0.4462\n",
      "Epoch 14/50\n",
      "2/2 [==============================] - 2s 960ms/step - loss: 0.3438 - categorical_accuracy: 0.9692 - val_loss: 1.2899 - val_categorical_accuracy: 0.5077\n",
      "Epoch 15/50\n",
      "2/2 [==============================] - 2s 961ms/step - loss: 0.3180 - categorical_accuracy: 0.9744 - val_loss: 1.2942 - val_categorical_accuracy: 0.4462\n",
      "Epoch 16/50\n",
      "2/2 [==============================] - 2s 1s/step - loss: 0.2406 - categorical_accuracy: 0.9949 - val_loss: 1.2739 - val_categorical_accuracy: 0.4615\n",
      "Epoch 17/50\n",
      "2/2 [==============================] - 2s 978ms/step - loss: 0.1938 - categorical_accuracy: 1.0000 - val_loss: 1.3636 - val_categorical_accuracy: 0.4615\n",
      "Epoch 18/50\n",
      "2/2 [==============================] - 2s 968ms/step - loss: 0.1603 - categorical_accuracy: 1.0000 - val_loss: 1.3818 - val_categorical_accuracy: 0.4615\n",
      "Epoch 19/50\n",
      "2/2 [==============================] - 2s 948ms/step - loss: 0.1402 - categorical_accuracy: 1.0000 - val_loss: 1.4470 - val_categorical_accuracy: 0.4769\n",
      "Epoch 20/50\n",
      "2/2 [==============================] - 2s 960ms/step - loss: 0.1253 - categorical_accuracy: 1.0000 - val_loss: 1.4886 - val_categorical_accuracy: 0.4462\n",
      "Epoch 21/50\n",
      "2/2 [==============================] - 2s 977ms/step - loss: 0.1141 - categorical_accuracy: 1.0000 - val_loss: 1.4188 - val_categorical_accuracy: 0.4615\n",
      "Epoch 22/50\n",
      "2/2 [==============================] - 2s 957ms/step - loss: 0.0991 - categorical_accuracy: 1.0000 - val_loss: 1.4566 - val_categorical_accuracy: 0.4615\n",
      "Epoch 23/50\n",
      "2/2 [==============================] - 2s 985ms/step - loss: 0.0887 - categorical_accuracy: 1.0000 - val_loss: 1.4231 - val_categorical_accuracy: 0.4615\n",
      "Epoch 24/50\n",
      "2/2 [==============================] - 2s 949ms/step - loss: 0.0808 - categorical_accuracy: 1.0000 - val_loss: 1.4889 - val_categorical_accuracy: 0.4615\n",
      "Epoch 25/50\n",
      "2/2 [==============================] - 2s 965ms/step - loss: 0.0722 - categorical_accuracy: 1.0000 - val_loss: 1.4748 - val_categorical_accuracy: 0.4615\n",
      "Epoch 26/50\n",
      "2/2 [==============================] - 2s 963ms/step - loss: 0.0661 - categorical_accuracy: 1.0000 - val_loss: 1.4781 - val_categorical_accuracy: 0.4615\n",
      "Epoch 27/50\n",
      "2/2 [==============================] - 2s 973ms/step - loss: 0.0607 - categorical_accuracy: 1.0000 - val_loss: 1.4822 - val_categorical_accuracy: 0.4615\n",
      "Epoch 28/50\n",
      "2/2 [==============================] - 2s 949ms/step - loss: 0.0561 - categorical_accuracy: 1.0000 - val_loss: 1.4940 - val_categorical_accuracy: 0.4615\n",
      "Epoch 29/50\n",
      "2/2 [==============================] - 2s 960ms/step - loss: 0.0520 - categorical_accuracy: 1.0000 - val_loss: 1.5132 - val_categorical_accuracy: 0.4615\n",
      "Epoch 30/50\n",
      "2/2 [==============================] - 2s 1s/step - loss: 0.0482 - categorical_accuracy: 1.0000 - val_loss: 1.5181 - val_categorical_accuracy: 0.4615\n",
      "Epoch 31/50\n",
      "2/2 [==============================] - 2s 1s/step - loss: 0.0450 - categorical_accuracy: 1.0000 - val_loss: 1.5168 - val_categorical_accuracy: 0.4615\n",
      "Epoch 32/50\n",
      "2/2 [==============================] - 2s 1s/step - loss: 0.0421 - categorical_accuracy: 1.0000 - val_loss: 1.5493 - val_categorical_accuracy: 0.4615\n",
      "Epoch 33/50\n",
      "2/2 [==============================] - 2s 1s/step - loss: 0.0394 - categorical_accuracy: 1.0000 - val_loss: 1.5559 - val_categorical_accuracy: 0.4615\n",
      "Epoch 34/50\n",
      "2/2 [==============================] - 3s 1s/step - loss: 0.0370 - categorical_accuracy: 1.0000 - val_loss: 1.5530 - val_categorical_accuracy: 0.4615\n",
      "Epoch 35/50\n",
      "2/2 [==============================] - 3s 2s/step - loss: 0.0350 - categorical_accuracy: 1.0000 - val_loss: 1.5366 - val_categorical_accuracy: 0.4615\n",
      "Epoch 36/50\n",
      "2/2 [==============================] - 3s 1s/step - loss: 0.0331 - categorical_accuracy: 1.0000 - val_loss: 1.5789 - val_categorical_accuracy: 0.4615\n",
      "Epoch 37/50\n",
      "2/2 [==============================] - 2s 1s/step - loss: 0.0313 - categorical_accuracy: 1.0000 - val_loss: 1.5931 - val_categorical_accuracy: 0.4615\n",
      "Epoch 38/50\n",
      "2/2 [==============================] - 2s 1s/step - loss: 0.0296 - categorical_accuracy: 1.0000 - val_loss: 1.5833 - val_categorical_accuracy: 0.4615\n",
      "Epoch 39/50\n",
      "2/2 [==============================] - 3s 2s/step - loss: 0.0282 - categorical_accuracy: 1.0000 - val_loss: 1.6044 - val_categorical_accuracy: 0.4615\n",
      "Epoch 40/50\n",
      "2/2 [==============================] - 3s 2s/step - loss: 0.0269 - categorical_accuracy: 1.0000 - val_loss: 1.5987 - val_categorical_accuracy: 0.4615\n",
      "Epoch 41/50\n",
      "2/2 [==============================] - 3s 1s/step - loss: 0.0256 - categorical_accuracy: 1.0000 - val_loss: 1.6094 - val_categorical_accuracy: 0.4615\n",
      "Epoch 42/50\n",
      "2/2 [==============================] - 3s 1s/step - loss: 0.0244 - categorical_accuracy: 1.0000 - val_loss: 1.6164 - val_categorical_accuracy: 0.4615\n",
      "Epoch 43/50\n",
      "2/2 [==============================] - 2s 1s/step - loss: 0.0234 - categorical_accuracy: 1.0000 - val_loss: 1.6060 - val_categorical_accuracy: 0.4615\n",
      "Epoch 44/50\n",
      "2/2 [==============================] - 2s 1s/step - loss: 0.0224 - categorical_accuracy: 1.0000 - val_loss: 1.6114 - val_categorical_accuracy: 0.4615\n",
      "Epoch 45/50\n",
      "2/2 [==============================] - 3s 1s/step - loss: 0.0215 - categorical_accuracy: 1.0000 - val_loss: 1.6277 - val_categorical_accuracy: 0.4615\n",
      "Epoch 46/50\n",
      "2/2 [==============================] - 3s 2s/step - loss: 0.0206 - categorical_accuracy: 1.0000 - val_loss: 1.6289 - val_categorical_accuracy: 0.4615\n",
      "Epoch 47/50\n",
      "2/2 [==============================] - 2s 1s/step - loss: 0.0199 - categorical_accuracy: 1.0000 - val_loss: 1.6275 - val_categorical_accuracy: 0.4615\n",
      "Epoch 48/50\n",
      "2/2 [==============================] - 2s 1s/step - loss: 0.0191 - categorical_accuracy: 1.0000 - val_loss: 1.6472 - val_categorical_accuracy: 0.4615\n",
      "Epoch 49/50\n",
      "2/2 [==============================] - 3s 1s/step - loss: 0.0184 - categorical_accuracy: 1.0000 - val_loss: 1.6594 - val_categorical_accuracy: 0.4615\n",
      "Epoch 50/50\n",
      "2/2 [==============================] - 2s 1s/step - loss: 0.0177 - categorical_accuracy: 1.0000 - val_loss: 1.6586 - val_categorical_accuracy: 0.4615\n"
     ]
    },
    {
     "data": {
      "image/png": "[encoded data removed]",
      "text/plain": [
       "<Figure size 432x288 with 1 Axes>"
      ]
     },
     "metadata": {
      "needs_background": "light"
     },
     "output_type": "display_data"
    },
    {
     "data": {
      "image/png": "[encoded data removed]",
      "text/plain": [
       "<Figure size 432x288 with 1 Axes>"
      ]
     },
     "metadata": {
      "needs_background": "light"
     },
     "output_type": "display_data"
    },
    {
     "name": "stdout",
     "output_type": "stream",
     "text": [
      "1/1 [==============================] - 1s 589ms/step - loss: 1.6586 - categorical_accuracy: 0.4615\n"
     ]
    }
   ],
   "source": [
    "b = 128\n",
    "train_history=model.fit(train_x,\n",
    "                        train_y,\n",
    "                        epochs=50,\n",
    "                        validation_data=(test_x, test_y),\n",
    "                        batch_size=b)\n",
    "\n",
    "loss=train_history.history['loss']\n",
    "acc=train_history.history['categorical_accuracy']\n",
    "epochs=range(0,len(loss))\n",
    "plt.title(\"Train loss\")\n",
    "plt.plot(epochs,loss,'b',label='Trainning loss')\n",
    "val_loss=train_history.history['val_loss']\n",
    "val_acc=train_history.history['val_categorical_accuracy']\n",
    "plt.plot(epochs,val_loss,'r',label='Validation loss')\n",
    "plt.legend(loc='best')\n",
    "plt.figure()\n",
    "plt.title(\"Train acc\")\n",
    "plt.plot(epochs,acc,'b',label='Trainning acc')\n",
    "plt.plot(epochs,val_acc,'r',label='Validation acc')\n",
    "plt.legend(loc='best')\n",
    "plt.show()\n",
    "\n",
    "scores=model.evaluate(test_x,test_y,batch_size=b)"
   ]
  },
  {
   "cell_type": "code",
   "execution_count": null,
   "metadata": {},
   "outputs": [],
   "source": []
  }
 ],
 "metadata": {
  "interpreter": {
   "hash": "31f2aee4e71d21fbe5cf8b01ff0e069b9275f58929596ceb00d14d90e3e16cd6"
  },
  "kernelspec": {
   "display_name": "Python 3.6.9 64-bit",
   "language": "python",
   "name": "python3"
  },
  "language_info": {
   "codemirror_mode": {
    "name": "ipython",
    "version": 3
   },
   "file_extension": ".py",
   "mimetype": "text/x-python",
   "name": "python",
   "nbconvert_exporter": "python",
   "pygments_lexer": "ipython3",
   "version": "3.6.9"
  },
  "orig_nbformat": 4
 },
 "nbformat": 4,
 "nbformat_minor": 2
}
