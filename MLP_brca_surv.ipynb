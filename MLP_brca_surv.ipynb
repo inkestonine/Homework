{
 "cells": [
  {
   "cell_type": "code",
   "execution_count": 1,
   "metadata": {},
   "outputs": [],
   "source": [
    "import numpy as np\n",
    "import pandas as pd\n",
    "\n",
    "from sklearn.model_selection import train_test_split\n",
    "\n",
    "from tensorflow import keras as kr\n",
    "from tensorflow.keras.models import Sequential\n",
    "from tensorflow.keras.layers import Dense, Dropout\n",
    "\n",
    "import matplotlib.pyplot as plt"
   ]
  },
  {
   "cell_type": "code",
   "execution_count": 2,
   "metadata": {},
   "outputs": [
    {
     "name": "stdout",
     "output_type": "stream",
     "text": [
      "Uploading...\n",
      "Uploading done!\n"
     ]
    }
   ],
   "source": [
    "# upload\n",
    "print('Uploading...')\n",
    "exp_matrix = pd.read_csv('/root/work/data/survival/brca_exp_surv', index_col=0)\n",
    "label = pd.read_csv('/root/work/data/survival/brca_label_surv', index_col=0)\n",
    "print('Uploading done!')"
   ]
  },
  {
   "cell_type": "code",
   "execution_count": 3,
   "metadata": {},
   "outputs": [],
   "source": [
    "# data preprocessing\n",
    "x = exp_matrix.T\n",
    "\n",
    "# str -> int\n",
    "y = np.array(label['survival_label'].map({'LTS':0, 'STS':1}).astype(int)).reshape(label.shape[0],1)\n"
   ]
  },
  {
   "cell_type": "code",
   "execution_count": 4,
   "metadata": {},
   "outputs": [],
   "source": [
    "def show_train_history(train_history, train, validation):\n",
    "\n",
    "    plt.plot(train_history.history[train])\n",
    "    plt.plot(train_history.history[validation])\n",
    "    plt.title(train)\n",
    "    plt.ylabel(train)\n",
    "    plt.xlabel('Epoch')\n",
    "    plt.legend(['train', 'validation'], loc='upper left')\n",
    "    plt.show()"
   ]
  },
  {
   "cell_type": "code",
   "execution_count": 5,
   "metadata": {},
   "outputs": [
    {
     "name": "stdout",
     "output_type": "stream",
     "text": [
      "(571, 12411) (246, 12411) (571, 1) (246, 1)\n"
     ]
    }
   ],
   "source": [
    "train_x, test_x, train_y, test_y = train_test_split(x, y, test_size=0.3, random_state=np.random.seed())\n",
    "print(train_x.shape, test_x.shape, train_y.shape, test_y.shape)"
   ]
  },
  {
   "cell_type": "code",
   "execution_count": 6,
   "metadata": {},
   "outputs": [],
   "source": [
    "model = Sequential()\n",
    "# model.add(Dense(1024, input_dim=train_x.shape[1], kernel_initializer='uniform', activation='relu'))\n",
    "# model.add(Dropout(0.1))\n",
    "# model.add(Dense(128,kernel_initializer='uniform',activation='relu'))\n",
    "# model.add(Dense(128,kernel_initializer='uniform',activation='relu'))\n",
    "# model.add(Dropout(0.1))\n",
    "model.add(Dense(8192, input_dim=train_x.shape[1], kernel_initializer='he_normal', activation='LeakyReLU'))\n",
    "model.add(Dropout(0.2))\n",
    "model.add(Dense(4096, kernel_initializer='he_normal', activation='relu'))\n",
    "model.add(Dense(1,kernel_initializer='uniform',activation='sigmoid'))\n",
    "\n",
    "model.compile(loss=kr.losses.BinaryCrossentropy(), optimizer='adam', metrics=['accuracy'])"
   ]
  },
  {
   "cell_type": "code",
   "execution_count": 7,
   "metadata": {},
   "outputs": [
    {
     "name": "stdout",
     "output_type": "stream",
     "text": [
      "Epoch 1/15\n",
      "17/17 [==============================] - 7s 327ms/step - loss: 31.8716 - accuracy: 0.9181 - val_loss: 0.0000e+00 - val_accuracy: 1.0000\n",
      "Epoch 2/15\n",
      "17/17 [==============================] - 5s 315ms/step - loss: 12.4483 - accuracy: 0.9747 - val_loss: 63.7454 - val_accuracy: 0.0000e+00\n",
      "Epoch 3/15\n",
      "17/17 [==============================] - 6s 333ms/step - loss: 12.6751 - accuracy: 0.8577 - val_loss: 0.0000e+00 - val_accuracy: 1.0000\n",
      "Epoch 4/15\n",
      "17/17 [==============================] - 6s 338ms/step - loss: 4.6860 - accuracy: 0.9825 - val_loss: 2.2146e-26 - val_accuracy: 1.0000\n",
      "Epoch 5/15\n",
      "17/17 [==============================] - 6s 331ms/step - loss: 0.9825 - accuracy: 0.9630 - val_loss: 7.9759e-14 - val_accuracy: 1.0000\n",
      "Epoch 6/15\n",
      "17/17 [==============================] - 5s 316ms/step - loss: 0.3512 - accuracy: 0.9805 - val_loss: 1.5823e-12 - val_accuracy: 1.0000\n",
      "Epoch 7/15\n",
      "17/17 [==============================] - 5s 306ms/step - loss: 0.1882 - accuracy: 0.9805 - val_loss: 1.5796e-04 - val_accuracy: 1.0000\n",
      "Epoch 8/15\n",
      "17/17 [==============================] - 5s 321ms/step - loss: 0.0672 - accuracy: 0.9864 - val_loss: 4.5169e-08 - val_accuracy: 1.0000\n",
      "Epoch 9/15\n",
      "17/17 [==============================] - 5s 321ms/step - loss: 0.0616 - accuracy: 0.9864 - val_loss: 0.0055 - val_accuracy: 1.0000\n",
      "Epoch 10/15\n",
      "17/17 [==============================] - 6s 345ms/step - loss: 0.0783 - accuracy: 0.9883 - val_loss: 0.6747 - val_accuracy: 0.8276\n",
      "Epoch 11/15\n",
      "17/17 [==============================] - 6s 371ms/step - loss: 0.0625 - accuracy: 0.9864 - val_loss: 0.1089 - val_accuracy: 0.9828\n",
      "Epoch 12/15\n",
      "17/17 [==============================] - 6s 376ms/step - loss: 0.0615 - accuracy: 0.9864 - val_loss: 0.1543 - val_accuracy: 0.9828\n",
      "Epoch 13/15\n",
      "17/17 [==============================] - 6s 368ms/step - loss: 0.0197 - accuracy: 0.9903 - val_loss: 0.0527 - val_accuracy: 0.9828\n",
      "Epoch 14/15\n",
      "17/17 [==============================] - 5s 315ms/step - loss: 0.0351 - accuracy: 0.9942 - val_loss: 0.4580 - val_accuracy: 0.8448\n",
      "Epoch 15/15\n",
      "17/17 [==============================] - 5s 324ms/step - loss: 0.1766 - accuracy: 0.9825 - val_loss: 0.2000 - val_accuracy: 0.9310\n"
     ]
    },
    {
     "data": {
      "image/png": "[encoded data removed]",
      "text/plain": [
       "<Figure size 432x288 with 1 Axes>"
      ]
     },
     "metadata": {
      "needs_background": "light"
     },
     "output_type": "display_data"
    },
    {
     "data": {
      "image/png": "[encoded data removed]",
      "text/plain": [
       "<Figure size 432x288 with 1 Axes>"
      ]
     },
     "metadata": {
      "needs_background": "light"
     },
     "output_type": "display_data"
    },
    {
     "name": "stdout",
     "output_type": "stream",
     "text": [
      "8/8 [==============================] - 0s 56ms/step - loss: 0.7321 - accuracy: 0.8862\n",
      "test loss:  0.7320542931556702\n",
      "test accuracy:  0.8861788511276245\n"
     ]
    }
   ],
   "source": [
    "b = 32\n",
    "train_history=model.fit(train_x,\n",
    "                        train_y,\n",
    "                        epochs=15,\n",
    "                        validation_split=0.1,\n",
    "                        batch_size=b)\n",
    "\n",
    "show_train_history(train_history, 'accuracy', 'val_accuracy')\n",
    "show_train_history(train_history, 'loss', 'val_loss')\n",
    "\n",
    "loss, accuracy = model.evaluate(test_x, test_y)\n",
    "print('test loss: ', loss)\n",
    "print('test accuracy: ', accuracy)"
   ]
  },
  {
   "cell_type": "code",
   "execution_count": 5,
   "metadata": {},
   "outputs": [],
   "source": [
    "from keras.models import load_model\n",
    "\n",
    "# # 保存训练好的model为hdf5文件\n",
    "# model.save('/root/work/model/brca_surv_model.h5')  \n",
    "# 重新加载模型\n",
    "model = load_model('/root/work/model/brca_surv_model.h5')"
   ]
  },
  {
   "cell_type": "code",
   "execution_count": 8,
   "metadata": {},
   "outputs": [
    {
     "name": "stdout",
     "output_type": "stream",
     "text": [
      "8/8 [==============================] - 0s 25ms/step - loss: 0.1267 - accuracy: 0.9919\n",
      "test loss:  0.12665529549121857\n",
      "test accuracy:  0.9918699264526367\n"
     ]
    }
   ],
   "source": [
    "loss, accuracy = model.evaluate(test_x, test_y)\n",
    "print('test loss: ', loss)\n",
    "print('test accuracy: ', accuracy)"
   ]
  },
  {
   "cell_type": "code",
   "execution_count": 12,
   "metadata": {},
   "outputs": [
    {
     "data": {
      "text/html": [
       "<div>\n",
       "<style scoped>\n",
       "    .dataframe tbody tr th:only-of-type {\n",
       "        vertical-align: middle;\n",
       "    }\n",
       "\n",
       "    .dataframe tbody tr th {\n",
       "        vertical-align: top;\n",
       "    }\n",
       "\n",
       "    .dataframe thead th {\n",
       "        text-align: right;\n",
       "    }\n",
       "</style>\n",
       "<table border=\"1\" class=\"dataframe\">\n",
       "  <thead>\n",
       "    <tr style=\"text-align: right;\">\n",
       "      <th></th>\n",
       "      <th>LTS</th>\n",
       "      <th>STS</th>\n",
       "    </tr>\n",
       "  </thead>\n",
       "  <tbody>\n",
       "    <tr>\n",
       "      <th>LTS</th>\n",
       "      <td>241</td>\n",
       "      <td>0</td>\n",
       "    </tr>\n",
       "    <tr>\n",
       "      <th>STS</th>\n",
       "      <td>4</td>\n",
       "      <td>1</td>\n",
       "    </tr>\n",
       "  </tbody>\n",
       "</table>\n",
       "</div>"
      ],
      "text/plain": [
       "     LTS  STS\n",
       "LTS  241    0\n",
       "STS    4    1"
      ]
     },
     "execution_count": 12,
     "metadata": {},
     "output_type": "execute_result"
    }
   ],
   "source": [
    "from sklearn.metrics import confusion_matrix\n",
    "import seaborn as sns\n",
    "y_true = test_y\n",
    "y_pred = model.predict(test_x).astype(np.int64)\n",
    "cm = confusion_matrix(y_true,y_pred)\n",
    "cm = pd.DataFrame(cm, columns=['LTS','STS'], index=['LTS','STS'])\n",
    "cm"
   ]
  },
  {
   "cell_type": "code",
   "execution_count": 13,
   "metadata": {},
   "outputs": [
    {
     "name": "stderr",
     "output_type": "stream",
     "text": [
      "/usr/local/lib/python3.6/dist-packages/ipykernel_launcher.py:1: FutureWarning: Support for multi-dimensional indexing (e.g. `obj[:, None]`) is deprecated and will be removed in a future version.  Convert to a numpy array before indexing instead.\n",
      "  \"\"\"Entry point for launching an IPython kernel.\n"
     ]
    },
    {
     "data": {
      "text/html": [
       "<div>\n",
       "<style scoped>\n",
       "    .dataframe tbody tr th:only-of-type {\n",
       "        vertical-align: middle;\n",
       "    }\n",
       "\n",
       "    .dataframe tbody tr th {\n",
       "        vertical-align: top;\n",
       "    }\n",
       "\n",
       "    .dataframe thead th {\n",
       "        text-align: right;\n",
       "    }\n",
       "</style>\n",
       "<table border=\"1\" class=\"dataframe\">\n",
       "  <thead>\n",
       "    <tr style=\"text-align: right;\">\n",
       "      <th></th>\n",
       "      <th>LTS</th>\n",
       "      <th>STS</th>\n",
       "    </tr>\n",
       "  </thead>\n",
       "  <tbody>\n",
       "    <tr>\n",
       "      <th>LTS</th>\n",
       "      <td>1.0</td>\n",
       "      <td>0.0</td>\n",
       "    </tr>\n",
       "    <tr>\n",
       "      <th>STS</th>\n",
       "      <td>0.8</td>\n",
       "      <td>0.2</td>\n",
       "    </tr>\n",
       "  </tbody>\n",
       "</table>\n",
       "</div>"
      ],
      "text/plain": [
       "     LTS  STS\n",
       "LTS  1.0  0.0\n",
       "STS  0.8  0.2"
      ]
     },
     "execution_count": 13,
     "metadata": {},
     "output_type": "execute_result"
    }
   ],
   "source": [
    "cm = cm.astype(\"float\") / cm.sum(axis=1)[:, np.newaxis]\n",
    "np.set_printoptions(formatter={\"float\": \"{: 0.2f}\".format})\n",
    "cm"
   ]
  },
  {
   "cell_type": "code",
   "execution_count": 14,
   "metadata": {},
   "outputs": [
    {
     "data": {
      "image/png": "[encoded data removed]",
      "text/plain": [
       "<Figure size 432x288 with 2 Axes>"
      ]
     },
     "metadata": {},
     "output_type": "display_data"
    }
   ],
   "source": [
    "sns.set(font_scale=1.5)\n",
    "plt.rc('font',size=20)\n",
    "sns.heatmap(cm,cmap=\"Blues_r\",annot=True)\n",
    "plt.ylabel('True label')\n",
    "plt.xlabel('Predicted label')\n",
    "plt.show()"
   ]
  },
  {
   "cell_type": "code",
   "execution_count": 9,
   "metadata": {},
   "outputs": [],
   "source": [
    "from sklearn.metrics import roc_curve\n",
    "# y_pred = model.predict(test_x).ravel()\n",
    "# fpr_keras, tpr_keras, thresholds_keras = roc_curve(test_y, y_pred)\n",
    "y_pred = model.predict(x).ravel()\n",
    "fpr_keras, tpr_keras, thresholds_keras = roc_curve(y, y_pred)\n",
    "\n",
    "from sklearn.metrics import auc\n",
    "auc_keras = auc(fpr_keras, tpr_keras)"
   ]
  },
  {
   "cell_type": "code",
   "execution_count": 10,
   "metadata": {},
   "outputs": [
    {
     "data": {
      "image/png": "[encoded data removed]",
      "text/plain": [
       "<Figure size 720x720 with 1 Axes>"
      ]
     },
     "metadata": {
      "needs_background": "light"
     },
     "output_type": "display_data"
    }
   ],
   "source": [
    "lw = 5\n",
    "plt.figure(figsize=(10, 10))\n",
    "plt.subplots_adjust(left=0.095, bottom=0.08, right=0.96, top=0.98)\n",
    "plt.plot([0, 1], [0, 1], 'k--')\n",
    "plt.plot(fpr_keras, tpr_keras, label='Keras (area = {:.3f})'.format(auc_keras))\n",
    "plt.xlabel('False positive rate')\n",
    "plt.ylabel('True positive rate')\n",
    "plt.title('ROC curve')\n",
    "plt.legend(loc='best')\n",
    "plt.show()"
   ]
  },
  {
   "cell_type": "code",
   "execution_count": 8,
   "metadata": {},
   "outputs": [
    {
     "name": "stdout",
     "output_type": "stream",
     "text": [
      "(571, 12411) (246, 12411) (571, 1) (246, 1)\n",
      "8/8 [==============================] - 0s 25ms/step - loss: 0.0792 - accuracy: 0.9959\n"
     ]
    },
    {
     "name": "stderr",
     "output_type": "stream",
     "text": [
      "/usr/local/lib/python3.6/dist-packages/ipykernel_launcher.py:25: DataConversionWarning: A column-vector y was passed when a 1d array was expected. Please change the shape of y to (n_samples,), for example using ravel().\n",
      "/usr/local/lib/python3.6/dist-packages/sklearn/utils/validation.py:63: DataConversionWarning: A column-vector y was passed when a 1d array was expected. Please change the shape of y to (n_samples, ), for example using ravel().\n",
      "  return f(*args, **kwargs)\n",
      "/usr/local/lib/python3.6/dist-packages/sklearn/utils/validation.py:63: DataConversionWarning: A column-vector y was passed when a 1d array was expected. Please change the shape of y to (n_samples, ), for example using ravel().\n",
      "  return f(*args, **kwargs)\n",
      "/usr/local/lib/python3.6/dist-packages/sklearn/neighbors/_classification.py:179: DataConversionWarning: A column-vector y was passed when a 1d array was expected. Please change the shape of y to (n_samples,), for example using ravel().\n",
      "  return self._fit(X, y)\n",
      "/usr/local/lib/python3.6/dist-packages/sklearn/utils/validation.py:63: DataConversionWarning: A column-vector y was passed when a 1d array was expected. Please change the shape of y to (n_samples, ), for example using ravel().\n",
      "  return f(*args, **kwargs)\n"
     ]
    },
    {
     "name": "stdout",
     "output_type": "stream",
     "text": [
      "(571, 12411) (246, 12411) (571, 1) (246, 1)\n",
      "8/8 [==============================] - 1s 26ms/step - loss: 0.0776 - accuracy: 0.9959\n"
     ]
    },
    {
     "name": "stderr",
     "output_type": "stream",
     "text": [
      "/usr/local/lib/python3.6/dist-packages/ipykernel_launcher.py:25: DataConversionWarning: A column-vector y was passed when a 1d array was expected. Please change the shape of y to (n_samples,), for example using ravel().\n",
      "/usr/local/lib/python3.6/dist-packages/sklearn/utils/validation.py:63: DataConversionWarning: A column-vector y was passed when a 1d array was expected. Please change the shape of y to (n_samples, ), for example using ravel().\n",
      "  return f(*args, **kwargs)\n",
      "/usr/local/lib/python3.6/dist-packages/sklearn/utils/validation.py:63: DataConversionWarning: A column-vector y was passed when a 1d array was expected. Please change the shape of y to (n_samples, ), for example using ravel().\n",
      "  return f(*args, **kwargs)\n",
      "/usr/local/lib/python3.6/dist-packages/sklearn/neighbors/_classification.py:179: DataConversionWarning: A column-vector y was passed when a 1d array was expected. Please change the shape of y to (n_samples,), for example using ravel().\n",
      "  return self._fit(X, y)\n",
      "/usr/local/lib/python3.6/dist-packages/sklearn/utils/validation.py:63: DataConversionWarning: A column-vector y was passed when a 1d array was expected. Please change the shape of y to (n_samples, ), for example using ravel().\n",
      "  return f(*args, **kwargs)\n"
     ]
    },
    {
     "name": "stdout",
     "output_type": "stream",
     "text": [
      "(571, 12411) (246, 12411) (571, 1) (246, 1)\n",
      "8/8 [==============================] - 1s 24ms/step - loss: 4.4538e-04 - accuracy: 1.0000\n"
     ]
    },
    {
     "name": "stderr",
     "output_type": "stream",
     "text": [
      "/usr/local/lib/python3.6/dist-packages/ipykernel_launcher.py:25: DataConversionWarning: A column-vector y was passed when a 1d array was expected. Please change the shape of y to (n_samples,), for example using ravel().\n",
      "/usr/local/lib/python3.6/dist-packages/sklearn/utils/validation.py:63: DataConversionWarning: A column-vector y was passed when a 1d array was expected. Please change the shape of y to (n_samples, ), for example using ravel().\n",
      "  return f(*args, **kwargs)\n",
      "/usr/local/lib/python3.6/dist-packages/sklearn/utils/validation.py:63: DataConversionWarning: A column-vector y was passed when a 1d array was expected. Please change the shape of y to (n_samples, ), for example using ravel().\n",
      "  return f(*args, **kwargs)\n",
      "/usr/local/lib/python3.6/dist-packages/sklearn/neighbors/_classification.py:179: DataConversionWarning: A column-vector y was passed when a 1d array was expected. Please change the shape of y to (n_samples,), for example using ravel().\n",
      "  return self._fit(X, y)\n",
      "/usr/local/lib/python3.6/dist-packages/sklearn/utils/validation.py:63: DataConversionWarning: A column-vector y was passed when a 1d array was expected. Please change the shape of y to (n_samples, ), for example using ravel().\n",
      "  return f(*args, **kwargs)\n"
     ]
    },
    {
     "name": "stdout",
     "output_type": "stream",
     "text": [
      "(571, 12411) (246, 12411) (571, 1) (246, 1)\n",
      "8/8 [==============================] - 1s 24ms/step - loss: 0.0789 - accuracy: 0.9959\n"
     ]
    },
    {
     "name": "stderr",
     "output_type": "stream",
     "text": [
      "/usr/local/lib/python3.6/dist-packages/ipykernel_launcher.py:25: DataConversionWarning: A column-vector y was passed when a 1d array was expected. Please change the shape of y to (n_samples,), for example using ravel().\n",
      "/usr/local/lib/python3.6/dist-packages/sklearn/utils/validation.py:63: DataConversionWarning: A column-vector y was passed when a 1d array was expected. Please change the shape of y to (n_samples, ), for example using ravel().\n",
      "  return f(*args, **kwargs)\n",
      "/usr/local/lib/python3.6/dist-packages/sklearn/utils/validation.py:63: DataConversionWarning: A column-vector y was passed when a 1d array was expected. Please change the shape of y to (n_samples, ), for example using ravel().\n",
      "  return f(*args, **kwargs)\n",
      "/usr/local/lib/python3.6/dist-packages/sklearn/neighbors/_classification.py:179: DataConversionWarning: A column-vector y was passed when a 1d array was expected. Please change the shape of y to (n_samples,), for example using ravel().\n",
      "  return self._fit(X, y)\n",
      "/usr/local/lib/python3.6/dist-packages/sklearn/utils/validation.py:63: DataConversionWarning: A column-vector y was passed when a 1d array was expected. Please change the shape of y to (n_samples, ), for example using ravel().\n",
      "  return f(*args, **kwargs)\n"
     ]
    },
    {
     "name": "stdout",
     "output_type": "stream",
     "text": [
      "(571, 12411) (246, 12411) (571, 1) (246, 1)\n",
      "8/8 [==============================] - 0s 23ms/step - loss: 0.1949 - accuracy: 0.9878\n"
     ]
    },
    {
     "name": "stderr",
     "output_type": "stream",
     "text": [
      "/usr/local/lib/python3.6/dist-packages/ipykernel_launcher.py:25: DataConversionWarning: A column-vector y was passed when a 1d array was expected. Please change the shape of y to (n_samples,), for example using ravel().\n",
      "/usr/local/lib/python3.6/dist-packages/sklearn/utils/validation.py:63: DataConversionWarning: A column-vector y was passed when a 1d array was expected. Please change the shape of y to (n_samples, ), for example using ravel().\n",
      "  return f(*args, **kwargs)\n",
      "/usr/local/lib/python3.6/dist-packages/sklearn/utils/validation.py:63: DataConversionWarning: A column-vector y was passed when a 1d array was expected. Please change the shape of y to (n_samples, ), for example using ravel().\n",
      "  return f(*args, **kwargs)\n",
      "/usr/local/lib/python3.6/dist-packages/sklearn/neighbors/_classification.py:179: DataConversionWarning: A column-vector y was passed when a 1d array was expected. Please change the shape of y to (n_samples,), for example using ravel().\n",
      "  return self._fit(X, y)\n",
      "/usr/local/lib/python3.6/dist-packages/sklearn/utils/validation.py:63: DataConversionWarning: A column-vector y was passed when a 1d array was expected. Please change the shape of y to (n_samples, ), for example using ravel().\n",
      "  return f(*args, **kwargs)\n"
     ]
    },
    {
     "name": "stdout",
     "output_type": "stream",
     "text": [
      "(571, 12411) (246, 12411) (571, 1) (246, 1)\n",
      "8/8 [==============================] - 1s 23ms/step - loss: 1.2083e-04 - accuracy: 1.0000\n"
     ]
    },
    {
     "name": "stderr",
     "output_type": "stream",
     "text": [
      "/usr/local/lib/python3.6/dist-packages/ipykernel_launcher.py:25: DataConversionWarning: A column-vector y was passed when a 1d array was expected. Please change the shape of y to (n_samples,), for example using ravel().\n",
      "/usr/local/lib/python3.6/dist-packages/sklearn/utils/validation.py:63: DataConversionWarning: A column-vector y was passed when a 1d array was expected. Please change the shape of y to (n_samples, ), for example using ravel().\n",
      "  return f(*args, **kwargs)\n",
      "/usr/local/lib/python3.6/dist-packages/sklearn/utils/validation.py:63: DataConversionWarning: A column-vector y was passed when a 1d array was expected. Please change the shape of y to (n_samples, ), for example using ravel().\n",
      "  return f(*args, **kwargs)\n",
      "/usr/local/lib/python3.6/dist-packages/sklearn/neighbors/_classification.py:179: DataConversionWarning: A column-vector y was passed when a 1d array was expected. Please change the shape of y to (n_samples,), for example using ravel().\n",
      "  return self._fit(X, y)\n",
      "/usr/local/lib/python3.6/dist-packages/sklearn/utils/validation.py:63: DataConversionWarning: A column-vector y was passed when a 1d array was expected. Please change the shape of y to (n_samples, ), for example using ravel().\n",
      "  return f(*args, **kwargs)\n"
     ]
    },
    {
     "name": "stdout",
     "output_type": "stream",
     "text": [
      "(571, 12411) (246, 12411) (571, 1) (246, 1)\n",
      "8/8 [==============================] - 0s 23ms/step - loss: 0.1170 - accuracy: 0.9919\n"
     ]
    },
    {
     "name": "stderr",
     "output_type": "stream",
     "text": [
      "/usr/local/lib/python3.6/dist-packages/ipykernel_launcher.py:25: DataConversionWarning: A column-vector y was passed when a 1d array was expected. Please change the shape of y to (n_samples,), for example using ravel().\n",
      "/usr/local/lib/python3.6/dist-packages/sklearn/utils/validation.py:63: DataConversionWarning: A column-vector y was passed when a 1d array was expected. Please change the shape of y to (n_samples, ), for example using ravel().\n",
      "  return f(*args, **kwargs)\n",
      "/usr/local/lib/python3.6/dist-packages/sklearn/utils/validation.py:63: DataConversionWarning: A column-vector y was passed when a 1d array was expected. Please change the shape of y to (n_samples, ), for example using ravel().\n",
      "  return f(*args, **kwargs)\n",
      "/usr/local/lib/python3.6/dist-packages/sklearn/neighbors/_classification.py:179: DataConversionWarning: A column-vector y was passed when a 1d array was expected. Please change the shape of y to (n_samples,), for example using ravel().\n",
      "  return self._fit(X, y)\n",
      "/usr/local/lib/python3.6/dist-packages/sklearn/utils/validation.py:63: DataConversionWarning: A column-vector y was passed when a 1d array was expected. Please change the shape of y to (n_samples, ), for example using ravel().\n",
      "  return f(*args, **kwargs)\n"
     ]
    },
    {
     "name": "stdout",
     "output_type": "stream",
     "text": [
      "(571, 12411) (246, 12411) (571, 1) (246, 1)\n",
      "8/8 [==============================] - 0s 22ms/step - loss: 0.1945 - accuracy: 0.9878\n"
     ]
    },
    {
     "name": "stderr",
     "output_type": "stream",
     "text": [
      "/usr/local/lib/python3.6/dist-packages/ipykernel_launcher.py:25: DataConversionWarning: A column-vector y was passed when a 1d array was expected. Please change the shape of y to (n_samples,), for example using ravel().\n",
      "/usr/local/lib/python3.6/dist-packages/sklearn/utils/validation.py:63: DataConversionWarning: A column-vector y was passed when a 1d array was expected. Please change the shape of y to (n_samples, ), for example using ravel().\n",
      "  return f(*args, **kwargs)\n",
      "/usr/local/lib/python3.6/dist-packages/sklearn/utils/validation.py:63: DataConversionWarning: A column-vector y was passed when a 1d array was expected. Please change the shape of y to (n_samples, ), for example using ravel().\n",
      "  return f(*args, **kwargs)\n",
      "/usr/local/lib/python3.6/dist-packages/sklearn/neighbors/_classification.py:179: DataConversionWarning: A column-vector y was passed when a 1d array was expected. Please change the shape of y to (n_samples,), for example using ravel().\n",
      "  return self._fit(X, y)\n",
      "/usr/local/lib/python3.6/dist-packages/sklearn/utils/validation.py:63: DataConversionWarning: A column-vector y was passed when a 1d array was expected. Please change the shape of y to (n_samples, ), for example using ravel().\n",
      "  return f(*args, **kwargs)\n"
     ]
    },
    {
     "name": "stdout",
     "output_type": "stream",
     "text": [
      "(571, 12411) (246, 12411) (571, 1) (246, 1)\n",
      "8/8 [==============================] - 1s 22ms/step - loss: 0.0504 - accuracy: 0.9959\n"
     ]
    },
    {
     "name": "stderr",
     "output_type": "stream",
     "text": [
      "/usr/local/lib/python3.6/dist-packages/ipykernel_launcher.py:25: DataConversionWarning: A column-vector y was passed when a 1d array was expected. Please change the shape of y to (n_samples,), for example using ravel().\n",
      "/usr/local/lib/python3.6/dist-packages/sklearn/utils/validation.py:63: DataConversionWarning: A column-vector y was passed when a 1d array was expected. Please change the shape of y to (n_samples, ), for example using ravel().\n",
      "  return f(*args, **kwargs)\n",
      "/usr/local/lib/python3.6/dist-packages/sklearn/utils/validation.py:63: DataConversionWarning: A column-vector y was passed when a 1d array was expected. Please change the shape of y to (n_samples, ), for example using ravel().\n",
      "  return f(*args, **kwargs)\n",
      "/usr/local/lib/python3.6/dist-packages/sklearn/neighbors/_classification.py:179: DataConversionWarning: A column-vector y was passed when a 1d array was expected. Please change the shape of y to (n_samples,), for example using ravel().\n",
      "  return self._fit(X, y)\n",
      "/usr/local/lib/python3.6/dist-packages/sklearn/utils/validation.py:63: DataConversionWarning: A column-vector y was passed when a 1d array was expected. Please change the shape of y to (n_samples, ), for example using ravel().\n",
      "  return f(*args, **kwargs)\n"
     ]
    },
    {
     "name": "stdout",
     "output_type": "stream",
     "text": [
      "(571, 12411) (246, 12411) (571, 1) (246, 1)\n",
      "8/8 [==============================] - 0s 22ms/step - loss: 1.1635e-04 - accuracy: 1.0000\n"
     ]
    },
    {
     "name": "stderr",
     "output_type": "stream",
     "text": [
      "/usr/local/lib/python3.6/dist-packages/ipykernel_launcher.py:25: DataConversionWarning: A column-vector y was passed when a 1d array was expected. Please change the shape of y to (n_samples,), for example using ravel().\n",
      "/usr/local/lib/python3.6/dist-packages/sklearn/utils/validation.py:63: DataConversionWarning: A column-vector y was passed when a 1d array was expected. Please change the shape of y to (n_samples, ), for example using ravel().\n",
      "  return f(*args, **kwargs)\n",
      "/usr/local/lib/python3.6/dist-packages/sklearn/utils/validation.py:63: DataConversionWarning: A column-vector y was passed when a 1d array was expected. Please change the shape of y to (n_samples, ), for example using ravel().\n",
      "  return f(*args, **kwargs)\n",
      "/usr/local/lib/python3.6/dist-packages/sklearn/neighbors/_classification.py:179: DataConversionWarning: A column-vector y was passed when a 1d array was expected. Please change the shape of y to (n_samples,), for example using ravel().\n",
      "  return self._fit(X, y)\n",
      "/usr/local/lib/python3.6/dist-packages/sklearn/utils/validation.py:63: DataConversionWarning: A column-vector y was passed when a 1d array was expected. Please change the shape of y to (n_samples, ), for example using ravel().\n",
      "  return f(*args, **kwargs)\n"
     ]
    },
    {
     "data": {
      "text/html": [
       "<div>\n",
       "<style scoped>\n",
       "    .dataframe tbody tr th:only-of-type {\n",
       "        vertical-align: middle;\n",
       "    }\n",
       "\n",
       "    .dataframe tbody tr th {\n",
       "        vertical-align: top;\n",
       "    }\n",
       "\n",
       "    .dataframe thead th {\n",
       "        text-align: right;\n",
       "    }\n",
       "</style>\n",
       "<table border=\"1\" class=\"dataframe\">\n",
       "  <thead>\n",
       "    <tr style=\"text-align: right;\">\n",
       "      <th></th>\n",
       "      <th>0</th>\n",
       "      <th>1</th>\n",
       "      <th>2</th>\n",
       "      <th>3</th>\n",
       "      <th>4</th>\n",
       "      <th>5</th>\n",
       "      <th>6</th>\n",
       "      <th>7</th>\n",
       "      <th>8</th>\n",
       "      <th>9</th>\n",
       "    </tr>\n",
       "  </thead>\n",
       "  <tbody>\n",
       "    <tr>\n",
       "      <th>my</th>\n",
       "      <td>0.995935</td>\n",
       "      <td>0.995935</td>\n",
       "      <td>1.000000</td>\n",
       "      <td>0.995935</td>\n",
       "      <td>0.987805</td>\n",
       "      <td>1.000000</td>\n",
       "      <td>0.991870</td>\n",
       "      <td>0.987805</td>\n",
       "      <td>0.995935</td>\n",
       "      <td>1.000000</td>\n",
       "    </tr>\n",
       "    <tr>\n",
       "      <th>rf</th>\n",
       "      <td>0.987805</td>\n",
       "      <td>0.987805</td>\n",
       "      <td>0.987805</td>\n",
       "      <td>0.979675</td>\n",
       "      <td>0.963415</td>\n",
       "      <td>0.987805</td>\n",
       "      <td>0.979675</td>\n",
       "      <td>0.975610</td>\n",
       "      <td>0.983740</td>\n",
       "      <td>0.983740</td>\n",
       "    </tr>\n",
       "    <tr>\n",
       "      <th>dt</th>\n",
       "      <td>0.971545</td>\n",
       "      <td>0.963415</td>\n",
       "      <td>0.975610</td>\n",
       "      <td>0.947154</td>\n",
       "      <td>0.934959</td>\n",
       "      <td>0.951220</td>\n",
       "      <td>0.955285</td>\n",
       "      <td>0.930894</td>\n",
       "      <td>0.959350</td>\n",
       "      <td>0.951220</td>\n",
       "    </tr>\n",
       "    <tr>\n",
       "      <th>svm</th>\n",
       "      <td>0.983740</td>\n",
       "      <td>0.987805</td>\n",
       "      <td>0.987805</td>\n",
       "      <td>0.975610</td>\n",
       "      <td>0.963415</td>\n",
       "      <td>0.987805</td>\n",
       "      <td>0.979675</td>\n",
       "      <td>0.975610</td>\n",
       "      <td>0.983740</td>\n",
       "      <td>0.983740</td>\n",
       "    </tr>\n",
       "    <tr>\n",
       "      <th>lr</th>\n",
       "      <td>0.979675</td>\n",
       "      <td>0.987805</td>\n",
       "      <td>0.987805</td>\n",
       "      <td>0.979675</td>\n",
       "      <td>0.963415</td>\n",
       "      <td>0.987805</td>\n",
       "      <td>0.979675</td>\n",
       "      <td>0.975610</td>\n",
       "      <td>0.983740</td>\n",
       "      <td>0.979675</td>\n",
       "    </tr>\n",
       "    <tr>\n",
       "      <th>knn</th>\n",
       "      <td>0.987805</td>\n",
       "      <td>0.987805</td>\n",
       "      <td>0.987805</td>\n",
       "      <td>0.979675</td>\n",
       "      <td>0.963415</td>\n",
       "      <td>0.987805</td>\n",
       "      <td>0.979675</td>\n",
       "      <td>0.975610</td>\n",
       "      <td>0.983740</td>\n",
       "      <td>0.983740</td>\n",
       "    </tr>\n",
       "    <tr>\n",
       "      <th>nb</th>\n",
       "      <td>0.918699</td>\n",
       "      <td>0.882114</td>\n",
       "      <td>0.922764</td>\n",
       "      <td>0.914634</td>\n",
       "      <td>0.947154</td>\n",
       "      <td>0.882114</td>\n",
       "      <td>0.869919</td>\n",
       "      <td>0.922764</td>\n",
       "      <td>0.918699</td>\n",
       "      <td>0.869919</td>\n",
       "    </tr>\n",
       "  </tbody>\n",
       "</table>\n",
       "</div>"
      ],
      "text/plain": [
       "            0         1         2         3         4         5         6  \\\n",
       "my   0.995935  0.995935  1.000000  0.995935  0.987805  1.000000  0.991870   \n",
       "rf   0.987805  0.987805  0.987805  0.979675  0.963415  0.987805  0.979675   \n",
       "dt   0.971545  0.963415  0.975610  0.947154  0.934959  0.951220  0.955285   \n",
       "svm  0.983740  0.987805  0.987805  0.975610  0.963415  0.987805  0.979675   \n",
       "lr   0.979675  0.987805  0.987805  0.979675  0.963415  0.987805  0.979675   \n",
       "knn  0.987805  0.987805  0.987805  0.979675  0.963415  0.987805  0.979675   \n",
       "nb   0.918699  0.882114  0.922764  0.914634  0.947154  0.882114  0.869919   \n",
       "\n",
       "            7         8         9  \n",
       "my   0.987805  0.995935  1.000000  \n",
       "rf   0.975610  0.983740  0.983740  \n",
       "dt   0.930894  0.959350  0.951220  \n",
       "svm  0.975610  0.983740  0.983740  \n",
       "lr   0.975610  0.983740  0.979675  \n",
       "knn  0.975610  0.983740  0.983740  \n",
       "nb   0.922764  0.918699  0.869919  "
      ]
     },
     "execution_count": 8,
     "metadata": {},
     "output_type": "execute_result"
    }
   ],
   "source": [
    "from sklearn.ensemble import RandomForestClassifier\n",
    "from sklearn import tree\n",
    "from sklearn.svm import SVC\n",
    "from sklearn import metrics\n",
    "from sklearn import linear_model\n",
    "from sklearn.neighbors import KNeighborsClassifier\n",
    "from sklearn.naive_bayes import GaussianNB\n",
    "\n",
    "my = []\n",
    "rf = []\n",
    "dt = []\n",
    "svm = []\n",
    "lr = []\n",
    "knn = []\n",
    "nb = []\n",
    "\n",
    "for i in range(10):\n",
    "    # my\n",
    "    train_x, test_x, train_y, test_y = train_test_split(x, y, test_size=0.3, random_state=np.random.seed())\n",
    "    print(train_x.shape, test_x.shape, train_y.shape, test_y.shape)\n",
    "    loss, accuracy = model.evaluate(test_x, test_y)\n",
    "    my.append(accuracy)\n",
    "\n",
    "    clf=RandomForestClassifier()  \n",
    "    clf = clf.fit(train_x,train_y)\n",
    "    score1 = clf.score(test_x,test_y)\n",
    "    rf.append(score1)\n",
    "\n",
    "    clf2 = tree.DecisionTreeClassifier()\n",
    "    clf2 = clf2.fit(train_x, train_y)\n",
    "    score2 = clf2.score(test_x,test_y)\n",
    "    dt.append(score2)\n",
    "\n",
    "    clf3 = SVC(kernel='linear')\n",
    "    clf3.fit(train_x,train_y)\n",
    "    y_pred = clf3.predict(test_x)\n",
    "    score3 = metrics.accuracy_score(test_y, y_pred)\n",
    "    svm.append(score3)\n",
    "\n",
    "    clf4 = linear_model.LogisticRegression(C=1e5)\n",
    "    clf4.fit(train_x,train_y)\n",
    "    score4 = clf4.score(test_x,test_y)\n",
    "    lr.append(score4)\n",
    "\n",
    "    clf5 = KNeighborsClassifier()\n",
    "    clf5.fit(train_x,train_y)\n",
    "    y_pred = clf5.predict(test_x)\n",
    "    score5 = metrics.accuracy_score(test_y, y_pred)\n",
    "    knn.append(score5)\n",
    "\n",
    "    clf6 = GaussianNB()\n",
    "    clf6 = clf6.fit(train_x,train_y)\n",
    "    y_pred = clf6.predict(test_x)\n",
    "    score6 = metrics.accuracy_score(test_y, y_pred)\n",
    "    nb.append(score6)\n",
    "\n",
    "evaluate_result = pd.DataFrame([my,rf,dt,svm,lr,knn,nb], index=['my','rf','dt','svm','lr','knn','nb'])\n",
    "evaluate_result"
   ]
  },
  {
   "cell_type": "code",
   "execution_count": 28,
   "metadata": {},
   "outputs": [
    {
     "name": "stdout",
     "output_type": "stream",
     "text": [
      "Random Forest Classifier result: 0.9349593495934959\n"
     ]
    },
    {
     "name": "stderr",
     "output_type": "stream",
     "text": [
      "/usr/local/lib/python3.6/dist-packages/ipykernel_launcher.py:5: DataConversionWarning: A column-vector y was passed when a 1d array was expected. Please change the shape of y to (n_samples,), for example using ravel().\n",
      "  \"\"\"\n"
     ]
    }
   ],
   "source": [
    "# Random Forest\n",
    "from sklearn.ensemble import RandomForestClassifier\n",
    "\n",
    "clf=RandomForestClassifier(n_estimators=1)  #n_estimators表示弱学习器的最大迭代次数，或者说最大的弱学习器的个数。如果设置值太小，模型容易欠拟合；如果太大，计算量会较大，并且超过一定的数量后，模型提升很小\n",
    "clf = clf.fit(train_x,train_y)\n",
    "score1 = clf.score(test_x,test_y)\n",
    "print('Random Forest Classifier result:', score1)"
   ]
  },
  {
   "cell_type": "code",
   "execution_count": 29,
   "metadata": {},
   "outputs": [
    {
     "name": "stdout",
     "output_type": "stream",
     "text": [
      "Decision Tree Classifier result: 0.943089430894309\n"
     ]
    }
   ],
   "source": [
    "# Desicion Tree\n",
    "from sklearn import tree\n",
    "\n",
    "clf2 = tree.DecisionTreeClassifier()\n",
    "clf2 = clf2.fit(train_x, train_y)\n",
    "score2 = clf2.score(test_x,test_y)\n",
    "print('Decision Tree Classifier result:', score2)"
   ]
  },
  {
   "cell_type": "code",
   "execution_count": 30,
   "metadata": {},
   "outputs": [
    {
     "name": "stderr",
     "output_type": "stream",
     "text": [
      "/usr/local/lib/python3.6/dist-packages/sklearn/utils/validation.py:63: DataConversionWarning: A column-vector y was passed when a 1d array was expected. Please change the shape of y to (n_samples, ), for example using ravel().\n",
      "  return f(*args, **kwargs)\n"
     ]
    },
    {
     "name": "stdout",
     "output_type": "stream",
     "text": [
      "              precision    recall  f1-score   support\n",
      "\n",
      "           0       0.98      1.00      0.99       241\n",
      "           1       0.00      0.00      0.00         5\n",
      "\n",
      "    accuracy                           0.98       246\n",
      "   macro avg       0.49      0.50      0.49       246\n",
      "weighted avg       0.96      0.98      0.97       246\n",
      "\n"
     ]
    },
    {
     "name": "stderr",
     "output_type": "stream",
     "text": [
      "/usr/local/lib/python3.6/dist-packages/sklearn/metrics/_classification.py:1248: UndefinedMetricWarning: Precision and F-score are ill-defined and being set to 0.0 in labels with no predicted samples. Use `zero_division` parameter to control this behavior.\n",
      "  _warn_prf(average, modifier, msg_start, len(result))\n",
      "/usr/local/lib/python3.6/dist-packages/sklearn/metrics/_classification.py:1248: UndefinedMetricWarning: Precision and F-score are ill-defined and being set to 0.0 in labels with no predicted samples. Use `zero_division` parameter to control this behavior.\n",
      "  _warn_prf(average, modifier, msg_start, len(result))\n",
      "/usr/local/lib/python3.6/dist-packages/sklearn/metrics/_classification.py:1248: UndefinedMetricWarning: Precision and F-score are ill-defined and being set to 0.0 in labels with no predicted samples. Use `zero_division` parameter to control this behavior.\n",
      "  _warn_prf(average, modifier, msg_start, len(result))\n"
     ]
    }
   ],
   "source": [
    "# SVM\n",
    "from sklearn.model_selection import GridSearchCV\n",
    "from sklearn.svm import SVC\n",
    "from sklearn import metrics\n",
    "\n",
    "clf3 = SVC(kernel='rbf', decision_function_shape='ovo')\n",
    "clf3.fit(train_x,train_y)\n",
    "y_pred = clf3.predict(test_x)\n",
    "print(metrics.classification_report(test_y, y_pred))"
   ]
  },
  {
   "cell_type": "code",
   "execution_count": 12,
   "metadata": {},
   "outputs": [
    {
     "name": "stderr",
     "output_type": "stream",
     "text": [
      "/usr/local/lib/python3.6/dist-packages/sklearn/utils/validation.py:63: DataConversionWarning: A column-vector y was passed when a 1d array was expected. Please change the shape of y to (n_samples, ), for example using ravel().\n",
      "  return f(*args, **kwargs)\n"
     ]
    },
    {
     "name": "stdout",
     "output_type": "stream",
     "text": [
      "Logistic Regression result: 0.983739837398374\n"
     ]
    }
   ],
   "source": [
    "# Logistic Regression\n",
    "from sklearn import linear_model\n",
    "\n",
    "clf4 = linear_model.LogisticRegression(C=1e5)\n",
    "clf4.fit(train_x,train_y)\n",
    "\n",
    "score4 = clf4.score(test_x,test_y)\n",
    "print('Logistic Regression result:', score4)"
   ]
  },
  {
   "cell_type": "code",
   "execution_count": 31,
   "metadata": {},
   "outputs": [
    {
     "name": "stdout",
     "output_type": "stream",
     "text": [
      "              precision    recall  f1-score   support\n",
      "\n",
      "           0       0.98      1.00      0.99       241\n",
      "           1       0.00      0.00      0.00         5\n",
      "\n",
      "    accuracy                           0.98       246\n",
      "   macro avg       0.49      0.50      0.49       246\n",
      "weighted avg       0.96      0.98      0.97       246\n",
      "\n"
     ]
    },
    {
     "name": "stderr",
     "output_type": "stream",
     "text": [
      "/usr/local/lib/python3.6/dist-packages/sklearn/neighbors/_classification.py:179: DataConversionWarning: A column-vector y was passed when a 1d array was expected. Please change the shape of y to (n_samples,), for example using ravel().\n",
      "  return self._fit(X, y)\n",
      "/usr/local/lib/python3.6/dist-packages/sklearn/metrics/_classification.py:1248: UndefinedMetricWarning: Precision and F-score are ill-defined and being set to 0.0 in labels with no predicted samples. Use `zero_division` parameter to control this behavior.\n",
      "  _warn_prf(average, modifier, msg_start, len(result))\n",
      "/usr/local/lib/python3.6/dist-packages/sklearn/metrics/_classification.py:1248: UndefinedMetricWarning: Precision and F-score are ill-defined and being set to 0.0 in labels with no predicted samples. Use `zero_division` parameter to control this behavior.\n",
      "  _warn_prf(average, modifier, msg_start, len(result))\n",
      "/usr/local/lib/python3.6/dist-packages/sklearn/metrics/_classification.py:1248: UndefinedMetricWarning: Precision and F-score are ill-defined and being set to 0.0 in labels with no predicted samples. Use `zero_division` parameter to control this behavior.\n",
      "  _warn_prf(average, modifier, msg_start, len(result))\n"
     ]
    }
   ],
   "source": [
    "# KNN\n",
    "from sklearn.neighbors import KNeighborsClassifier\n",
    "\n",
    "clf5 = KNeighborsClassifier(n_neighbors=3)\n",
    "clf5.fit(train_x,train_y)\n",
    "y_pred = clf5.predict(test_x)\n",
    "print(metrics.classification_report(test_y, y_pred))"
   ]
  },
  {
   "cell_type": "code",
   "execution_count": 32,
   "metadata": {},
   "outputs": [
    {
     "name": "stderr",
     "output_type": "stream",
     "text": [
      "/usr/local/lib/python3.6/dist-packages/sklearn/utils/validation.py:63: DataConversionWarning: A column-vector y was passed when a 1d array was expected. Please change the shape of y to (n_samples, ), for example using ravel().\n",
      "  return f(*args, **kwargs)\n"
     ]
    },
    {
     "name": "stdout",
     "output_type": "stream",
     "text": [
      "              precision    recall  f1-score   support\n",
      "\n",
      "           0       0.99      0.89      0.94       241\n",
      "           1       0.07      0.40      0.12         5\n",
      "\n",
      "    accuracy                           0.88       246\n",
      "   macro avg       0.53      0.65      0.53       246\n",
      "weighted avg       0.97      0.88      0.92       246\n",
      "\n"
     ]
    }
   ],
   "source": [
    "# Naive Bayes\n",
    "from sklearn.naive_bayes import GaussianNB\n",
    "\n",
    "clf6 = GaussianNB()\n",
    "clf6 = clf6.fit(train_x,train_y)\n",
    "y_pred = clf6.predict(test_x)\n",
    "print(metrics.classification_report(test_y, y_pred))"
   ]
  },
  {
   "cell_type": "code",
   "execution_count": 17,
   "metadata": {},
   "outputs": [],
   "source": [
    "import tensorflow as tf\n",
    "def get_gradients(img_input, top_pred_idx):\n",
    "    \"\"\"Computes the gradients of outputs w.r.t input image.\n",
    "\n",
    "    Args:\n",
    "        img_input: 4D image tensor\n",
    "        top_pred_idx: Predicted label for the input image\n",
    "\n",
    "    Returns:\n",
    "        Gradients of the predictions w.r.t img_input\n",
    "    \"\"\"\n",
    "    images = tf.cast(img_input, tf.float32)\n",
    "\n",
    "    with tf.GradientTape() as tape:\n",
    "        tape.watch(images)\n",
    "        preds = model(images)\n",
    "        top_class = preds[:, top_pred_idx]\n",
    "\n",
    "    grads = tape.gradient(top_class, images)\n",
    "    return grads\n",
    "\n",
    "\n",
    "def get_integrated_gradients(img_input, top_pred_idx, baseline=None, num_steps=50):\n",
    "    \"\"\"Computes Integrated Gradients for a predicted label.\n",
    "\n",
    "    Args:\n",
    "        img_input (ndarray): Original image\n",
    "        top_pred_idx: Predicted label for the input image\n",
    "        baseline (ndarray): The baseline image to start with for interpolation\n",
    "        num_steps: Number of interpolation steps between the baseline\n",
    "            and the input used in the computation of integrated gradients. These\n",
    "            steps along determine the integral approximation error. By default,\n",
    "            num_steps is set to 50.\n",
    "\n",
    "    Returns:\n",
    "        Integrated gradients w.r.t input image\n",
    "    \"\"\"\n",
    "    # If baseline is not provided, start with a black image\n",
    "    # having same size as the input image.\n",
    "    if baseline is None:\n",
    "        baseline = np.zeros(img_size).astype(np.float32)\n",
    "    else:\n",
    "        baseline = baseline.astype(np.float32)\n",
    "\n",
    "    # 1. Do interpolation.\n",
    "    img_input = img_input.astype(np.float32)\n",
    "    interpolated_image = [\n",
    "        baseline + (step / num_steps) * (img_input - baseline)\n",
    "        for step in range(num_steps + 1)\n",
    "    ]\n",
    "    interpolated_image = np.array(interpolated_image).astype(np.float32)\n",
    "\n",
    "    # # 2. Preprocess the interpolated images\n",
    "    # interpolated_image = xception.preprocess_input(interpolated_image)\n",
    "\n",
    "    # 3. Get the gradients\n",
    "    grads = []\n",
    "    for i, img in enumerate(interpolated_image):\n",
    "        img = tf.expand_dims(img, axis=0)\n",
    "        grad = get_gradients(img, top_pred_idx=top_pred_idx)\n",
    "        grads.append(grad[0])\n",
    "    grads = tf.convert_to_tensor(grads, dtype=tf.float32)\n",
    "\n",
    "    # 4. Approximate the integral using the trapezoidal rule\n",
    "    grads = (grads[:-1] + grads[1:]) / 2.0\n",
    "    avg_grads = tf.reduce_mean(grads, axis=0)\n",
    "\n",
    "    # 5. Calculate integrated gradients and return\n",
    "    integrated_grads = (img_input - baseline) * avg_grads\n",
    "    return integrated_grads\n",
    "\n",
    "\n",
    "def random_baseline_integrated_gradients(\n",
    "    img_input, top_pred_idx, num_steps=50, num_runs=2\n",
    "):\n",
    "    \"\"\"Generates a number of random baseline images.\n",
    "\n",
    "    Args:\n",
    "        img_input (ndarray): 3D image\n",
    "        top_pred_idx: Predicted label for the input image\n",
    "        num_steps: Number of interpolation steps between the baseline\n",
    "            and the input used in the computation of integrated gradients. These\n",
    "            steps along determine the integral approximation error. By default,\n",
    "            num_steps is set to 50.\n",
    "        num_runs: number of baseline images to generate\n",
    "\n",
    "    Returns:\n",
    "        Averaged integrated gradients for `num_runs` baseline images\n",
    "    \"\"\"\n",
    "    # 1. List to keep track of Integrated Gradients (IG) for all the images\n",
    "    integrated_grads = []\n",
    "\n",
    "    # 2. Get the integrated gradients for all the baselines\n",
    "    for run in range(num_runs):\n",
    "        baseline = np.random.random(img_size) * 255\n",
    "        igrads = get_integrated_gradients(\n",
    "            img_input=img_input,\n",
    "            top_pred_idx=top_pred_idx,\n",
    "            baseline=baseline,\n",
    "            num_steps=num_steps,\n",
    "        )\n",
    "        integrated_grads.append(igrads)\n",
    "\n",
    "    # 3. Return the average integrated gradients for the image\n",
    "    integrated_grads = tf.convert_to_tensor(integrated_grads)\n",
    "    return tf.reduce_mean(integrated_grads, axis=0)"
   ]
  },
  {
   "cell_type": "code",
   "execution_count": null,
   "metadata": {},
   "outputs": [],
   "source": [
    "x = np.array(test_x.iloc[0])\n",
    "img_size = x.shape\n",
    "top_k = int(len(x)/100)\n",
    "\n",
    "for num in range(len(test_x)):\n",
    "    print(num)\n",
    "    s = np.array(test_x.iloc[num]).reshape(1,test_x.shape[1])\n",
    "    x = np.array(test_x.iloc[num])\n",
    "    preds = model.predict(s)\n",
    "\n",
    "    top_pred_idx = tf.argmax(preds[0])\n",
    "    igrads = random_baseline_integrated_gradients(np.copy(x), top_pred_idx=top_pred_idx, num_steps=50, num_runs=2)\n",
    "    igrads = np.array(igrads).reshape(1,test_x.shape[1])\n",
    "\n",
    "    if num == 0:\n",
    "        igs = igrads\n",
    "    else:\n",
    "        igs = np.concatenate((igs, igrads), axis=0)\n",
    "preds = model.predict(test_x)\n",
    "preds_y = pd.DataFrame(np.where(preds>0.5, 1, 0), columns=['class'])\n",
    "\n",
    "idx_0 = preds_y.index[preds_y['class']==0].to_list()\n",
    "idx_1 = preds_y.index[preds_y['class']==1].to_list()\n",
    "\n",
    "igs = pd.DataFrame(igs, columns=test_x.columns)\n",
    "\n",
    "surv_0 = igs.loc[idx_0]\n",
    "surv_1 = igs.loc[idx_1]\n",
    "# LTS\n",
    "row_mean = pd.DataFrame(surv_0.mean(axis=0), columns=['mean']).sort_values('mean', inplace=False)\n",
    "row_mean.to_csv('/root/work/multi/brca_surv0_igs_mean')\n",
    "\n",
    "# STS\n",
    "row_mean = pd.DataFrame(surv_1.mean(axis=0), columns=['mean']).sort_values('mean', inplace=False)\n",
    "row_mean.to_csv('/root/work/multi/brca_surv1_igs_mean')"
   ]
  }
 ],
 "metadata": {
  "interpreter": {
   "hash": "31f2aee4e71d21fbe5cf8b01ff0e069b9275f58929596ceb00d14d90e3e16cd6"
  },
  "kernelspec": {
   "display_name": "Python 3.6.9 64-bit",
   "language": "python",
   "name": "python3"
  },
  "language_info": {
   "codemirror_mode": {
    "name": "ipython",
    "version": 3
   },
   "file_extension": ".py",
   "mimetype": "text/x-python",
   "name": "python",
   "nbconvert_exporter": "python",
   "pygments_lexer": "ipython3",
   "version": "3.6.9"
  },
  "orig_nbformat": 4
 },
 "nbformat": 4,
 "nbformat_minor": 2
}
