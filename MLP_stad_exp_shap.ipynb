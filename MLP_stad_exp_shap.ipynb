{
 "cells": [
  {
   "cell_type": "code",
   "execution_count": 1,
   "metadata": {},
   "outputs": [],
   "source": [
    "import numpy as np\n",
    "import pandas as pd\n",
    "\n",
    "from sklearn.model_selection import train_test_split\n",
    "\n",
    "from tensorflow import keras as kr\n",
    "from tensorflow.keras import optimizers\n",
    "from tensorflow.keras.models import Sequential\n",
    "from tensorflow.keras.layers import Dense, Dropout\n",
    "\n",
    "import shap\n",
    "\n",
    "import matplotlib.pyplot as plt"
   ]
  },
  {
   "cell_type": "code",
   "execution_count": 2,
   "metadata": {},
   "outputs": [
    {
     "name": "stdout",
     "output_type": "stream",
     "text": [
      "Uploading...\n",
      "Uploading done!\n"
     ]
    }
   ],
   "source": [
    "# upload\n",
    "print('Uploading...')\n",
    "exp_matrix = pd.read_csv('/root/work/data/stad_exp_matrix', index_col=0)\n",
    "label = pd.read_csv('/root/work/data/stad_label')\n",
    "print('Uploading done!')"
   ]
  },
  {
   "cell_type": "code",
   "execution_count": 3,
   "metadata": {},
   "outputs": [],
   "source": [
    "# data preprocessing\n",
    "x = exp_matrix.T\n",
    "\n",
    "# str -> int\n",
    "y = np.array(label['Molecular.Subtype'].map({'CIN':0, 'GS':1, 'MSI':2, 'EBV':3}).astype(int))\n",
    "\n",
    "# int -> onthot\n",
    "def getOnehotLable(old_label):\n",
    "    num_labels = old_label.shape[0]\n",
    "    num_classes=4\n",
    "    index_offset = np.arange(num_labels) * num_classes\n",
    "    labels_one_hot = np.zeros((num_labels, num_classes))\n",
    "    labels_one_hot.flat[index_offset + old_label.ravel()] = 1\n",
    "    return labels_one_hot\n",
    "    \n",
    "y = getOnehotLable(y)"
   ]
  },
  {
   "cell_type": "code",
   "execution_count": 4,
   "metadata": {},
   "outputs": [
    {
     "name": "stdout",
     "output_type": "stream",
     "text": [
      "(152, 9742) (66, 9742) (152, 4) (66, 4)\n"
     ]
    }
   ],
   "source": [
    "seed = 2022\n",
    "np.random.seed(seed)\n",
    "train_x, test_x, train_y, test_y = train_test_split(x, y, test_size=0.3, random_state=seed)\n",
    "print(train_x.shape, test_x.shape, train_y.shape, test_y.shape)"
   ]
  },
  {
   "cell_type": "code",
   "execution_count": 9,
   "metadata": {},
   "outputs": [],
   "source": [
    "model = Sequential()\n",
    "model.add(Dense(1024, input_dim=train_x.shape[1], kernel_initializer='uniform', activation='relu'))\n",
    "model.add(Dropout(0.1))\n",
    "model.add(Dense(128,kernel_initializer='uniform',activation='relu'))\n",
    "model.add(Dense(128,kernel_initializer='uniform',activation='relu'))\n",
    "model.add(Dropout(0.1))\n",
    "model.add(Dense(4,kernel_initializer='uniform',activation='softmax'))\n",
    "\n",
    "model.compile(loss=kr.losses.CategoricalCrossentropy(), optimizer='adam', metrics=['categorical_accuracy'])\n",
    "#sgd = kr.optimizers.SGD(learning_rate=0.001)"
   ]
  },
  {
   "cell_type": "code",
   "execution_count": 10,
   "metadata": {},
   "outputs": [
    {
     "name": "stdout",
     "output_type": "stream",
     "text": [
      "Epoch 1/50\n",
      "2/2 [==============================] - 1s 157ms/step - loss: 1.3233 - categorical_accuracy: 0.2829 - val_loss: 0.9501 - val_categorical_accuracy: 0.6515\n",
      "Epoch 2/50\n",
      "2/2 [==============================] - 0s 41ms/step - loss: 0.7538 - categorical_accuracy: 0.7829 - val_loss: 0.8219 - val_categorical_accuracy: 0.6667\n",
      "Epoch 3/50\n",
      "2/2 [==============================] - 0s 39ms/step - loss: 0.5370 - categorical_accuracy: 0.8026 - val_loss: 0.6015 - val_categorical_accuracy: 0.7879\n",
      "Epoch 4/50\n",
      "2/2 [==============================] - 0s 40ms/step - loss: 0.3706 - categorical_accuracy: 0.8882 - val_loss: 0.6624 - val_categorical_accuracy: 0.7576\n",
      "Epoch 5/50\n",
      "2/2 [==============================] - 0s 42ms/step - loss: 0.2303 - categorical_accuracy: 0.9342 - val_loss: 0.4706 - val_categorical_accuracy: 0.8485\n",
      "Epoch 6/50\n",
      "2/2 [==============================] - 0s 44ms/step - loss: 0.2503 - categorical_accuracy: 0.9211 - val_loss: 0.9448 - val_categorical_accuracy: 0.7273\n",
      "Epoch 7/50\n",
      "2/2 [==============================] - 0s 42ms/step - loss: 0.3062 - categorical_accuracy: 0.8684 - val_loss: 0.5862 - val_categorical_accuracy: 0.8182\n",
      "Epoch 8/50\n",
      "2/2 [==============================] - 0s 43ms/step - loss: 0.0888 - categorical_accuracy: 0.9671 - val_loss: 0.4900 - val_categorical_accuracy: 0.8636\n",
      "Epoch 9/50\n",
      "2/2 [==============================] - 0s 41ms/step - loss: 0.1255 - categorical_accuracy: 0.9342 - val_loss: 0.6921 - val_categorical_accuracy: 0.7879\n",
      "Epoch 10/50\n",
      "2/2 [==============================] - 0s 41ms/step - loss: 0.0502 - categorical_accuracy: 0.9934 - val_loss: 0.8604 - val_categorical_accuracy: 0.8030\n",
      "Epoch 11/50\n",
      "2/2 [==============================] - 0s 42ms/step - loss: 0.0568 - categorical_accuracy: 0.9737 - val_loss: 0.7117 - val_categorical_accuracy: 0.7879\n",
      "Epoch 12/50\n",
      "2/2 [==============================] - 0s 42ms/step - loss: 0.0267 - categorical_accuracy: 0.9803 - val_loss: 0.5509 - val_categorical_accuracy: 0.8636\n",
      "Epoch 13/50\n",
      "2/2 [==============================] - 0s 42ms/step - loss: 0.0152 - categorical_accuracy: 1.0000 - val_loss: 0.5728 - val_categorical_accuracy: 0.8788\n",
      "Epoch 14/50\n",
      "2/2 [==============================] - 0s 42ms/step - loss: 0.0110 - categorical_accuracy: 1.0000 - val_loss: 0.6951 - val_categorical_accuracy: 0.8333\n",
      "Epoch 15/50\n",
      "2/2 [==============================] - 0s 45ms/step - loss: 0.0091 - categorical_accuracy: 1.0000 - val_loss: 0.8900 - val_categorical_accuracy: 0.8333\n",
      "Epoch 16/50\n",
      "2/2 [==============================] - 0s 44ms/step - loss: 0.0049 - categorical_accuracy: 1.0000 - val_loss: 1.0160 - val_categorical_accuracy: 0.8333\n",
      "Epoch 17/50\n",
      "2/2 [==============================] - 0s 43ms/step - loss: 0.0062 - categorical_accuracy: 1.0000 - val_loss: 1.0251 - val_categorical_accuracy: 0.8333\n",
      "Epoch 18/50\n",
      "2/2 [==============================] - 0s 43ms/step - loss: 0.0021 - categorical_accuracy: 1.0000 - val_loss: 1.0099 - val_categorical_accuracy: 0.8333\n",
      "Epoch 19/50\n",
      "2/2 [==============================] - 0s 43ms/step - loss: 0.0014 - categorical_accuracy: 1.0000 - val_loss: 1.0037 - val_categorical_accuracy: 0.8333\n",
      "Epoch 20/50\n",
      "2/2 [==============================] - 0s 43ms/step - loss: 0.0018 - categorical_accuracy: 1.0000 - val_loss: 1.0226 - val_categorical_accuracy: 0.8333\n",
      "Epoch 21/50\n",
      "2/2 [==============================] - 0s 46ms/step - loss: 0.0033 - categorical_accuracy: 1.0000 - val_loss: 1.0907 - val_categorical_accuracy: 0.8333\n",
      "Epoch 22/50\n",
      "2/2 [==============================] - 0s 45ms/step - loss: 9.4114e-04 - categorical_accuracy: 1.0000 - val_loss: 1.1640 - val_categorical_accuracy: 0.8485\n",
      "Epoch 23/50\n",
      "2/2 [==============================] - 0s 43ms/step - loss: 0.0014 - categorical_accuracy: 1.0000 - val_loss: 1.2442 - val_categorical_accuracy: 0.8333\n",
      "Epoch 24/50\n",
      "2/2 [==============================] - 0s 46ms/step - loss: 3.6790e-04 - categorical_accuracy: 1.0000 - val_loss: 1.3072 - val_categorical_accuracy: 0.8182\n",
      "Epoch 25/50\n",
      "2/2 [==============================] - 0s 45ms/step - loss: 6.2537e-04 - categorical_accuracy: 1.0000 - val_loss: 1.3451 - val_categorical_accuracy: 0.8182\n",
      "Epoch 26/50\n",
      "2/2 [==============================] - 0s 43ms/step - loss: 6.3251e-04 - categorical_accuracy: 1.0000 - val_loss: 1.3609 - val_categorical_accuracy: 0.8182\n",
      "Epoch 27/50\n",
      "2/2 [==============================] - 0s 44ms/step - loss: 9.9583e-04 - categorical_accuracy: 1.0000 - val_loss: 1.3049 - val_categorical_accuracy: 0.8333\n",
      "Epoch 28/50\n",
      "2/2 [==============================] - 0s 44ms/step - loss: 1.9164e-04 - categorical_accuracy: 1.0000 - val_loss: 1.2036 - val_categorical_accuracy: 0.8333\n",
      "Epoch 29/50\n",
      "2/2 [==============================] - 0s 43ms/step - loss: 1.5183e-04 - categorical_accuracy: 1.0000 - val_loss: 1.1206 - val_categorical_accuracy: 0.8333\n",
      "Epoch 30/50\n",
      "2/2 [==============================] - 0s 43ms/step - loss: 9.3586e-05 - categorical_accuracy: 1.0000 - val_loss: 1.0546 - val_categorical_accuracy: 0.8333\n",
      "Epoch 31/50\n",
      "2/2 [==============================] - 0s 43ms/step - loss: 2.1140e-04 - categorical_accuracy: 1.0000 - val_loss: 1.0060 - val_categorical_accuracy: 0.8333\n",
      "Epoch 32/50\n",
      "2/2 [==============================] - 0s 42ms/step - loss: 1.5633e-04 - categorical_accuracy: 1.0000 - val_loss: 0.9715 - val_categorical_accuracy: 0.8333\n",
      "Epoch 33/50\n",
      "2/2 [==============================] - 0s 42ms/step - loss: 2.3210e-04 - categorical_accuracy: 1.0000 - val_loss: 0.9533 - val_categorical_accuracy: 0.8333\n",
      "Epoch 34/50\n",
      "2/2 [==============================] - 0s 42ms/step - loss: 2.1792e-04 - categorical_accuracy: 1.0000 - val_loss: 0.9447 - val_categorical_accuracy: 0.8333\n",
      "Epoch 35/50\n",
      "2/2 [==============================] - 0s 41ms/step - loss: 4.0473e-04 - categorical_accuracy: 1.0000 - val_loss: 0.9569 - val_categorical_accuracy: 0.8333\n",
      "Epoch 36/50\n",
      "2/2 [==============================] - 0s 42ms/step - loss: 1.2727e-04 - categorical_accuracy: 1.0000 - val_loss: 0.9830 - val_categorical_accuracy: 0.8333\n",
      "Epoch 37/50\n",
      "2/2 [==============================] - 0s 45ms/step - loss: 1.0237e-04 - categorical_accuracy: 1.0000 - val_loss: 1.0076 - val_categorical_accuracy: 0.8333\n",
      "Epoch 38/50\n",
      "2/2 [==============================] - 0s 45ms/step - loss: 1.2373e-04 - categorical_accuracy: 1.0000 - val_loss: 1.0338 - val_categorical_accuracy: 0.8333\n",
      "Epoch 39/50\n",
      "2/2 [==============================] - 0s 43ms/step - loss: 1.2142e-04 - categorical_accuracy: 1.0000 - val_loss: 1.0603 - val_categorical_accuracy: 0.8333\n",
      "Epoch 40/50\n",
      "2/2 [==============================] - 0s 44ms/step - loss: 6.0193e-05 - categorical_accuracy: 1.0000 - val_loss: 1.0842 - val_categorical_accuracy: 0.8333\n",
      "Epoch 41/50\n",
      "2/2 [==============================] - 0s 43ms/step - loss: 6.9340e-05 - categorical_accuracy: 1.0000 - val_loss: 1.1047 - val_categorical_accuracy: 0.8333\n",
      "Epoch 42/50\n",
      "2/2 [==============================] - 0s 42ms/step - loss: 5.6871e-05 - categorical_accuracy: 1.0000 - val_loss: 1.1217 - val_categorical_accuracy: 0.8333\n",
      "Epoch 43/50\n",
      "2/2 [==============================] - 0s 42ms/step - loss: 6.2387e-05 - categorical_accuracy: 1.0000 - val_loss: 1.1363 - val_categorical_accuracy: 0.8333\n",
      "Epoch 44/50\n",
      "2/2 [==============================] - 0s 43ms/step - loss: 3.2815e-05 - categorical_accuracy: 1.0000 - val_loss: 1.1485 - val_categorical_accuracy: 0.8333\n",
      "Epoch 45/50\n",
      "2/2 [==============================] - 0s 42ms/step - loss: 8.0435e-05 - categorical_accuracy: 1.0000 - val_loss: 1.1601 - val_categorical_accuracy: 0.8333\n",
      "Epoch 46/50\n",
      "2/2 [==============================] - 0s 42ms/step - loss: 5.7070e-05 - categorical_accuracy: 1.0000 - val_loss: 1.1708 - val_categorical_accuracy: 0.8333\n",
      "Epoch 47/50\n",
      "2/2 [==============================] - 0s 46ms/step - loss: 3.9421e-05 - categorical_accuracy: 1.0000 - val_loss: 1.1798 - val_categorical_accuracy: 0.8333\n",
      "Epoch 48/50\n",
      "2/2 [==============================] - 0s 42ms/step - loss: 5.7114e-05 - categorical_accuracy: 1.0000 - val_loss: 1.1873 - val_categorical_accuracy: 0.8333\n",
      "Epoch 49/50\n",
      "2/2 [==============================] - 0s 42ms/step - loss: 4.5190e-05 - categorical_accuracy: 1.0000 - val_loss: 1.1937 - val_categorical_accuracy: 0.8333\n",
      "Epoch 50/50\n",
      "2/2 [==============================] - 0s 45ms/step - loss: 9.9466e-05 - categorical_accuracy: 1.0000 - val_loss: 1.1986 - val_categorical_accuracy: 0.8333\n"
     ]
    },
    {
     "data": {
      "image/png": "[encoded data removed]",
      "text/plain": [
       "<Figure size 432x288 with 1 Axes>"
      ]
     },
     "metadata": {
      "needs_background": "light"
     },
     "output_type": "display_data"
    },
    {
     "data": {
      "image/png": "[encoded data removed]",
      "text/plain": [
       "<Figure size 432x288 with 1 Axes>"
      ]
     },
     "metadata": {
      "needs_background": "light"
     },
     "output_type": "display_data"
    },
    {
     "name": "stdout",
     "output_type": "stream",
     "text": [
      "3/3 [==============================] - 0s 4ms/step - loss: 1.1986 - categorical_accuracy: 0.8333\n"
     ]
    }
   ],
   "source": [
    "b = 128\n",
    "train_history=model.fit(train_x,\n",
    "                        train_y,\n",
    "                        epochs=50,\n",
    "                        validation_data=(test_x,test_y),\n",
    "                        batch_size=b)\n",
    "\n",
    "loss=train_history.history['loss']\n",
    "acc=train_history.history['categorical_accuracy']\n",
    "epochs=range(0,len(loss))\n",
    "plt.title(\"Train loss\")\n",
    "plt.plot(epochs,loss,'b',label='Trainning loss')\n",
    "val_loss=train_history.history['val_loss']\n",
    "val_acc=train_history.history['val_categorical_accuracy']\n",
    "plt.plot(epochs,val_loss,'r',label='Validation loss')\n",
    "plt.legend(loc='best')\n",
    "plt.figure()\n",
    "plt.title(\"Train acc\")\n",
    "plt.plot(epochs,acc,'b',label='Trainning acc')\n",
    "plt.plot(epochs,val_acc,'r',label='Validation acc')\n",
    "plt.legend(loc='best')\n",
    "plt.show()\n",
    "\n",
    "scores=model.evaluate(test_x,test_y)"
   ]
  },
  {
   "cell_type": "code",
   "execution_count": null,
   "metadata": {},
   "outputs": [
    {
     "name": "stdout",
     "output_type": "stream",
     "text": [
      "3/3 [==============================] - 0s 5ms/step - loss: 1.0923 - categorical_accuracy: 0.8333\n",
      "test loss:  1.0922958850860596\n",
      "test accuracy:  0.8333333134651184\n"
     ]
    }
   ],
   "source": [
    "loss, accuracy = model.evaluate(test_x, test_y)\n",
    "print('test loss: ', loss)\n",
    "print('test accuracy: ', accuracy)"
   ]
  },
  {
   "cell_type": "code",
   "execution_count": null,
   "metadata": {},
   "outputs": [],
   "source": [
    "background1 = np.array(train_x)[np.random.choice(np.array(train_x).shape[0], 100, replace=False)]\n",
    "background = np.array(train_x)"
   ]
  },
  {
   "cell_type": "code",
   "execution_count": null,
   "metadata": {},
   "outputs": [
    {
     "name": "stderr",
     "output_type": "stream",
     "text": [
      "keras is no longer supported, please use tf.keras instead.\n",
      "Your TensorFlow version is newer than 2.4.0 and so graph support has been removed in eager mode and some static graphs may not be supported. See PR #1483 for discussion.\n"
     ]
    }
   ],
   "source": [
    "e = shap.DeepExplainer((model.layers[0].input, model.layers[-1].output), background)"
   ]
  },
  {
   "cell_type": "code",
   "execution_count": null,
   "metadata": {},
   "outputs": [
    {
     "name": "stderr",
     "output_type": "stream",
     "text": [
      "`tf.keras.backend.set_learning_phase` is deprecated and will be removed after 2020-10-11. To update it, simply pass a True/False value to the `training` argument of the `__call__` method of your layer or model.\n"
     ]
    },
    {
     "ename": "AttributeError",
     "evalue": "in user code:\n\n    /usr/local/lib/python3.6/dist-packages/shap/explainers/_deep/deep_tf.py:243 grad_graph  *\n        out = self.model(shap_rAnD)\n    /usr/local/lib/python3.6/dist-packages/keras/engine/base_layer.py:1037 __call__  **\n        outputs = call_fn(inputs, *args, **kwargs)\n    /usr/local/lib/python3.6/dist-packages/keras/engine/functional.py:415 call\n        inputs, training=training, mask=mask)\n    /usr/local/lib/python3.6/dist-packages/keras/engine/functional.py:550 _run_internal_graph\n        outputs = node.layer(*args, **kwargs)\n    /usr/local/lib/python3.6/dist-packages/keras/engine/base_layer.py:1037 __call__\n        outputs = call_fn(inputs, *args, **kwargs)\n    /usr/local/lib/python3.6/dist-packages/keras/layers/core.py:1229 call\n        outputs = tf.raw_ops.MatMul(a=inputs, b=self.kernel)\n    /usr/local/lib/python3.6/dist-packages/tensorflow/python/util/tf_export.py:404 wrapper\n        return f(**kwargs)\n    /usr/local/lib/python3.6/dist-packages/tensorflow/python/ops/gen_math_ops.py:5714 mat_mul\n        name=name)\n    /usr/local/lib/python3.6/dist-packages/tensorflow/python/framework/op_def_library.py:522 _apply_op_helper\n        preferred_dtype=default_dtype)\n    /usr/local/lib/python3.6/dist-packages/tensorflow/python/profiler/trace.py:163 wrapped\n        return func(*args, **kwargs)\n    /usr/local/lib/python3.6/dist-packages/tensorflow/python/framework/ops.py:1566 convert_to_tensor\n        ret = conversion_func(value, dtype=dtype, name=name, as_ref=as_ref)\n    /usr/local/lib/python3.6/dist-packages/tensorflow/python/ops/resource_variable_ops.py:2023 _dense_var_to_tensor\n        return var._dense_var_to_tensor(dtype=dtype, name=name, as_ref=as_ref)  # pylint: disable=protected-access\n    /usr/local/lib/python3.6/dist-packages/tensorflow/python/ops/resource_variable_ops.py:1421 _dense_var_to_tensor\n        return self.value()\n    /usr/local/lib/python3.6/dist-packages/tensorflow/python/ops/resource_variable_ops.py:576 value\n        return self._read_variable_op()\n    /usr/local/lib/python3.6/dist-packages/tensorflow/python/ops/resource_variable_ops.py:683 _read_variable_op\n        result = read_and_set_handle()\n    /usr/local/lib/python3.6/dist-packages/tensorflow/python/ops/resource_variable_ops.py:674 read_and_set_handle\n        self.handle, self._dtype)\n    /usr/local/lib/python3.6/dist-packages/tensorflow/python/ops/gen_resource_variable_ops.py:491 read_variable_op\n        \"ReadVariableOp\", _inputs_flat, _attrs, _result)\n    /usr/local/lib/python3.6/dist-packages/shap/explainers/_deep/deep_tf.py:26 custom_record_gradient\n        out = tf_backprop._record_gradient(\"shap_\"+op_name, inputs, attrs, results)\n\n    AttributeError: module 'tensorflow.python.eager.backprop' has no attribute '_record_gradient'\n",
     "output_type": "error",
     "traceback": [
      "\u001b[0;31m---------------------------------------------------------------------------\u001b[0m",
      "\u001b[0;31mAttributeError\u001b[0m                            Traceback (most recent call last)",
      "\u001b[0;32m<ipython-input-10-eb097cd79787>\u001b[0m in \u001b[0;36m<module>\u001b[0;34m\u001b[0m\n\u001b[1;32m      1\u001b[0m \u001b[0;31m# shap_values = e.shap_values(np.array(test_x))\u001b[0m\u001b[0;34m\u001b[0m\u001b[0;34m\u001b[0m\u001b[0;34m\u001b[0m\u001b[0m\n\u001b[0;32m----> 2\u001b[0;31m \u001b[0mshap_values\u001b[0m \u001b[0;34m=\u001b[0m \u001b[0me\u001b[0m\u001b[0;34m.\u001b[0m\u001b[0mshap_values\u001b[0m\u001b[0;34m(\u001b[0m\u001b[0mnp\u001b[0m\u001b[0;34m.\u001b[0m\u001b[0marray\u001b[0m\u001b[0;34m(\u001b[0m\u001b[0mtest_x\u001b[0m\u001b[0;34m)\u001b[0m\u001b[0;34m)\u001b[0m\u001b[0;34m\u001b[0m\u001b[0;34m\u001b[0m\u001b[0m\n\u001b[0m",
      "\u001b[0;32m/usr/local/lib/python3.6/dist-packages/shap/explainers/_deep/__init__.py\u001b[0m in \u001b[0;36mshap_values\u001b[0;34m(self, X, ranked_outputs, output_rank_order, check_additivity)\u001b[0m\n\u001b[1;32m    122\u001b[0m             \u001b[0mwere\u001b[0m \u001b[0mchosen\u001b[0m \u001b[0;32mas\u001b[0m \u001b[0;34m\"top\"\u001b[0m\u001b[0;34m.\u001b[0m\u001b[0;34m\u001b[0m\u001b[0;34m\u001b[0m\u001b[0m\n\u001b[1;32m    123\u001b[0m         \"\"\"\n\u001b[0;32m--> 124\u001b[0;31m         \u001b[0;32mreturn\u001b[0m \u001b[0mself\u001b[0m\u001b[0;34m.\u001b[0m\u001b[0mexplainer\u001b[0m\u001b[0;34m.\u001b[0m\u001b[0mshap_values\u001b[0m\u001b[0;34m(\u001b[0m\u001b[0mX\u001b[0m\u001b[0;34m,\u001b[0m \u001b[0mranked_outputs\u001b[0m\u001b[0;34m,\u001b[0m \u001b[0moutput_rank_order\u001b[0m\u001b[0;34m,\u001b[0m \u001b[0mcheck_additivity\u001b[0m\u001b[0;34m=\u001b[0m\u001b[0mcheck_additivity\u001b[0m\u001b[0;34m)\u001b[0m\u001b[0;34m\u001b[0m\u001b[0;34m\u001b[0m\u001b[0m\n\u001b[0m",
      "\u001b[0;32m/usr/local/lib/python3.6/dist-packages/shap/explainers/_deep/deep_tf.py\u001b[0m in \u001b[0;36mshap_values\u001b[0;34m(self, X, ranked_outputs, output_rank_order, check_additivity)\u001b[0m\n\u001b[1;32m    306\u001b[0m                 \u001b[0;31m# run attribution computation graph\u001b[0m\u001b[0;34m\u001b[0m\u001b[0;34m\u001b[0m\u001b[0;34m\u001b[0m\u001b[0m\n\u001b[1;32m    307\u001b[0m                 \u001b[0mfeature_ind\u001b[0m \u001b[0;34m=\u001b[0m \u001b[0mmodel_output_ranks\u001b[0m\u001b[0;34m[\u001b[0m\u001b[0mj\u001b[0m\u001b[0;34m,\u001b[0m\u001b[0mi\u001b[0m\u001b[0;34m]\u001b[0m\u001b[0;34m\u001b[0m\u001b[0;34m\u001b[0m\u001b[0m\n\u001b[0;32m--> 308\u001b[0;31m                 \u001b[0msample_phis\u001b[0m \u001b[0;34m=\u001b[0m \u001b[0mself\u001b[0m\u001b[0;34m.\u001b[0m\u001b[0mrun\u001b[0m\u001b[0;34m(\u001b[0m\u001b[0mself\u001b[0m\u001b[0;34m.\u001b[0m\u001b[0mphi_symbolic\u001b[0m\u001b[0;34m(\u001b[0m\u001b[0mfeature_ind\u001b[0m\u001b[0;34m)\u001b[0m\u001b[0;34m,\u001b[0m \u001b[0mself\u001b[0m\u001b[0;34m.\u001b[0m\u001b[0mmodel_inputs\u001b[0m\u001b[0;34m,\u001b[0m \u001b[0mjoint_input\u001b[0m\u001b[0;34m)\u001b[0m\u001b[0;34m\u001b[0m\u001b[0;34m\u001b[0m\u001b[0m\n\u001b[0m\u001b[1;32m    309\u001b[0m \u001b[0;34m\u001b[0m\u001b[0m\n\u001b[1;32m    310\u001b[0m                 \u001b[0;31m# assign the attributions to the right part of the output arrays\u001b[0m\u001b[0;34m\u001b[0m\u001b[0;34m\u001b[0m\u001b[0;34m\u001b[0m\u001b[0m\n",
      "\u001b[0;32m/usr/local/lib/python3.6/dist-packages/shap/explainers/_deep/deep_tf.py\u001b[0m in \u001b[0;36mrun\u001b[0;34m(self, out, model_inputs, X)\u001b[0m\n\u001b[1;32m    363\u001b[0m \u001b[0;34m\u001b[0m\u001b[0m\n\u001b[1;32m    364\u001b[0m                 \u001b[0;32mreturn\u001b[0m \u001b[0mfinal_out\u001b[0m\u001b[0;34m\u001b[0m\u001b[0;34m\u001b[0m\u001b[0m\n\u001b[0;32m--> 365\u001b[0;31m             \u001b[0;32mreturn\u001b[0m \u001b[0mself\u001b[0m\u001b[0;34m.\u001b[0m\u001b[0mexecute_with_overridden_gradients\u001b[0m\u001b[0;34m(\u001b[0m\u001b[0manon\u001b[0m\u001b[0;34m)\u001b[0m\u001b[0;34m\u001b[0m\u001b[0;34m\u001b[0m\u001b[0m\n\u001b[0m\u001b[1;32m    366\u001b[0m \u001b[0;34m\u001b[0m\u001b[0m\n\u001b[1;32m    367\u001b[0m     \u001b[0;32mdef\u001b[0m \u001b[0mcustom_grad\u001b[0m\u001b[0;34m(\u001b[0m\u001b[0mself\u001b[0m\u001b[0;34m,\u001b[0m \u001b[0mop\u001b[0m\u001b[0;34m,\u001b[0m \u001b[0;34m*\u001b[0m\u001b[0mgrads\u001b[0m\u001b[0;34m)\u001b[0m\u001b[0;34m:\u001b[0m\u001b[0;34m\u001b[0m\u001b[0;34m\u001b[0m\u001b[0m\n",
      "\u001b[0;32m/usr/local/lib/python3.6/dist-packages/shap/explainers/_deep/deep_tf.py\u001b[0m in \u001b[0;36mexecute_with_overridden_gradients\u001b[0;34m(self, f)\u001b[0m\n\u001b[1;32m    399\u001b[0m         \u001b[0;31m# define the computation graph for the attribution values using a custom gradient-like computation\u001b[0m\u001b[0;34m\u001b[0m\u001b[0;34m\u001b[0m\u001b[0;34m\u001b[0m\u001b[0m\n\u001b[1;32m    400\u001b[0m         \u001b[0;32mtry\u001b[0m\u001b[0;34m:\u001b[0m\u001b[0;34m\u001b[0m\u001b[0;34m\u001b[0m\u001b[0m\n\u001b[0;32m--> 401\u001b[0;31m             \u001b[0mout\u001b[0m \u001b[0;34m=\u001b[0m \u001b[0mf\u001b[0m\u001b[0;34m(\u001b[0m\u001b[0;34m)\u001b[0m\u001b[0;34m\u001b[0m\u001b[0;34m\u001b[0m\u001b[0m\n\u001b[0m\u001b[1;32m    402\u001b[0m         \u001b[0;32mfinally\u001b[0m\u001b[0;34m:\u001b[0m\u001b[0;34m\u001b[0m\u001b[0;34m\u001b[0m\u001b[0m\n\u001b[1;32m    403\u001b[0m             \u001b[0;31m# reinstate the backpropagatable check\u001b[0m\u001b[0;34m\u001b[0m\u001b[0;34m\u001b[0m\u001b[0;34m\u001b[0m\u001b[0m\n",
      "\u001b[0;32m/usr/local/lib/python3.6/dist-packages/shap/explainers/_deep/deep_tf.py\u001b[0m in \u001b[0;36manon\u001b[0;34m()\u001b[0m\n\u001b[1;32m    359\u001b[0m                     \u001b[0mv\u001b[0m \u001b[0;34m=\u001b[0m \u001b[0mtf\u001b[0m\u001b[0;34m.\u001b[0m\u001b[0mconstant\u001b[0m\u001b[0;34m(\u001b[0m\u001b[0mdata\u001b[0m\u001b[0;34m,\u001b[0m \u001b[0mdtype\u001b[0m\u001b[0;34m=\u001b[0m\u001b[0mself\u001b[0m\u001b[0;34m.\u001b[0m\u001b[0mmodel_inputs\u001b[0m\u001b[0;34m[\u001b[0m\u001b[0mi\u001b[0m\u001b[0;34m]\u001b[0m\u001b[0;34m.\u001b[0m\u001b[0mdtype\u001b[0m\u001b[0;34m)\u001b[0m\u001b[0;34m\u001b[0m\u001b[0;34m\u001b[0m\u001b[0m\n\u001b[1;32m    360\u001b[0m                     \u001b[0minputs\u001b[0m\u001b[0;34m.\u001b[0m\u001b[0mappend\u001b[0m\u001b[0;34m(\u001b[0m\u001b[0mv\u001b[0m\u001b[0;34m)\u001b[0m\u001b[0;34m\u001b[0m\u001b[0;34m\u001b[0m\u001b[0m\n\u001b[0;32m--> 361\u001b[0;31m                 \u001b[0mfinal_out\u001b[0m \u001b[0;34m=\u001b[0m \u001b[0mout\u001b[0m\u001b[0;34m(\u001b[0m\u001b[0minputs\u001b[0m\u001b[0;34m)\u001b[0m\u001b[0;34m\u001b[0m\u001b[0;34m\u001b[0m\u001b[0m\n\u001b[0m\u001b[1;32m    362\u001b[0m                 \u001b[0mtf_execute\u001b[0m\u001b[0;34m.\u001b[0m\u001b[0mrecord_gradient\u001b[0m \u001b[0;34m=\u001b[0m \u001b[0mtf_backprop\u001b[0m\u001b[0;34m.\u001b[0m\u001b[0m_record_gradient\u001b[0m\u001b[0;34m\u001b[0m\u001b[0;34m\u001b[0m\u001b[0m\n\u001b[1;32m    363\u001b[0m \u001b[0;34m\u001b[0m\u001b[0m\n",
      "\u001b[0;32m/usr/local/lib/python3.6/dist-packages/tensorflow/python/eager/def_function.py\u001b[0m in \u001b[0;36m__call__\u001b[0;34m(self, *args, **kwds)\u001b[0m\n\u001b[1;32m    883\u001b[0m \u001b[0;34m\u001b[0m\u001b[0m\n\u001b[1;32m    884\u001b[0m       \u001b[0;32mwith\u001b[0m \u001b[0mOptionalXlaContext\u001b[0m\u001b[0;34m(\u001b[0m\u001b[0mself\u001b[0m\u001b[0;34m.\u001b[0m\u001b[0m_jit_compile\u001b[0m\u001b[0;34m)\u001b[0m\u001b[0;34m:\u001b[0m\u001b[0;34m\u001b[0m\u001b[0;34m\u001b[0m\u001b[0m\n\u001b[0;32m--> 885\u001b[0;31m         \u001b[0mresult\u001b[0m \u001b[0;34m=\u001b[0m \u001b[0mself\u001b[0m\u001b[0;34m.\u001b[0m\u001b[0m_call\u001b[0m\u001b[0;34m(\u001b[0m\u001b[0;34m*\u001b[0m\u001b[0margs\u001b[0m\u001b[0;34m,\u001b[0m \u001b[0;34m**\u001b[0m\u001b[0mkwds\u001b[0m\u001b[0;34m)\u001b[0m\u001b[0;34m\u001b[0m\u001b[0;34m\u001b[0m\u001b[0m\n\u001b[0m\u001b[1;32m    886\u001b[0m \u001b[0;34m\u001b[0m\u001b[0m\n\u001b[1;32m    887\u001b[0m       \u001b[0mnew_tracing_count\u001b[0m \u001b[0;34m=\u001b[0m \u001b[0mself\u001b[0m\u001b[0;34m.\u001b[0m\u001b[0mexperimental_get_tracing_count\u001b[0m\u001b[0;34m(\u001b[0m\u001b[0;34m)\u001b[0m\u001b[0;34m\u001b[0m\u001b[0;34m\u001b[0m\u001b[0m\n",
      "\u001b[0;32m/usr/local/lib/python3.6/dist-packages/tensorflow/python/eager/def_function.py\u001b[0m in \u001b[0;36m_call\u001b[0;34m(self, *args, **kwds)\u001b[0m\n\u001b[1;32m    931\u001b[0m       \u001b[0;31m# This is the first call of __call__, so we have to initialize.\u001b[0m\u001b[0;34m\u001b[0m\u001b[0;34m\u001b[0m\u001b[0;34m\u001b[0m\u001b[0m\n\u001b[1;32m    932\u001b[0m       \u001b[0minitializers\u001b[0m \u001b[0;34m=\u001b[0m \u001b[0;34m[\u001b[0m\u001b[0;34m]\u001b[0m\u001b[0;34m\u001b[0m\u001b[0;34m\u001b[0m\u001b[0m\n\u001b[0;32m--> 933\u001b[0;31m       \u001b[0mself\u001b[0m\u001b[0;34m.\u001b[0m\u001b[0m_initialize\u001b[0m\u001b[0;34m(\u001b[0m\u001b[0margs\u001b[0m\u001b[0;34m,\u001b[0m \u001b[0mkwds\u001b[0m\u001b[0;34m,\u001b[0m \u001b[0madd_initializers_to\u001b[0m\u001b[0;34m=\u001b[0m\u001b[0minitializers\u001b[0m\u001b[0;34m)\u001b[0m\u001b[0;34m\u001b[0m\u001b[0;34m\u001b[0m\u001b[0m\n\u001b[0m\u001b[1;32m    934\u001b[0m     \u001b[0;32mfinally\u001b[0m\u001b[0;34m:\u001b[0m\u001b[0;34m\u001b[0m\u001b[0;34m\u001b[0m\u001b[0m\n\u001b[1;32m    935\u001b[0m       \u001b[0;31m# At this point we know that the initialization is complete (or less\u001b[0m\u001b[0;34m\u001b[0m\u001b[0;34m\u001b[0m\u001b[0;34m\u001b[0m\u001b[0m\n",
      "\u001b[0;32m/usr/local/lib/python3.6/dist-packages/tensorflow/python/eager/def_function.py\u001b[0m in \u001b[0;36m_initialize\u001b[0;34m(self, args, kwds, add_initializers_to)\u001b[0m\n\u001b[1;32m    758\u001b[0m     self._concrete_stateful_fn = (\n\u001b[1;32m    759\u001b[0m         self._stateful_fn._get_concrete_function_internal_garbage_collected(  # pylint: disable=protected-access\n\u001b[0;32m--> 760\u001b[0;31m             *args, **kwds))\n\u001b[0m\u001b[1;32m    761\u001b[0m \u001b[0;34m\u001b[0m\u001b[0m\n\u001b[1;32m    762\u001b[0m     \u001b[0;32mdef\u001b[0m \u001b[0minvalid_creator_scope\u001b[0m\u001b[0;34m(\u001b[0m\u001b[0;34m*\u001b[0m\u001b[0munused_args\u001b[0m\u001b[0;34m,\u001b[0m \u001b[0;34m**\u001b[0m\u001b[0munused_kwds\u001b[0m\u001b[0;34m)\u001b[0m\u001b[0;34m:\u001b[0m\u001b[0;34m\u001b[0m\u001b[0;34m\u001b[0m\u001b[0m\n",
      "\u001b[0;32m/usr/local/lib/python3.6/dist-packages/tensorflow/python/eager/function.py\u001b[0m in \u001b[0;36m_get_concrete_function_internal_garbage_collected\u001b[0;34m(self, *args, **kwargs)\u001b[0m\n\u001b[1;32m   3064\u001b[0m       \u001b[0margs\u001b[0m\u001b[0;34m,\u001b[0m \u001b[0mkwargs\u001b[0m \u001b[0;34m=\u001b[0m \u001b[0;32mNone\u001b[0m\u001b[0;34m,\u001b[0m \u001b[0;32mNone\u001b[0m\u001b[0;34m\u001b[0m\u001b[0;34m\u001b[0m\u001b[0m\n\u001b[1;32m   3065\u001b[0m     \u001b[0;32mwith\u001b[0m \u001b[0mself\u001b[0m\u001b[0;34m.\u001b[0m\u001b[0m_lock\u001b[0m\u001b[0;34m:\u001b[0m\u001b[0;34m\u001b[0m\u001b[0;34m\u001b[0m\u001b[0m\n\u001b[0;32m-> 3066\u001b[0;31m       \u001b[0mgraph_function\u001b[0m\u001b[0;34m,\u001b[0m \u001b[0m_\u001b[0m \u001b[0;34m=\u001b[0m \u001b[0mself\u001b[0m\u001b[0;34m.\u001b[0m\u001b[0m_maybe_define_function\u001b[0m\u001b[0;34m(\u001b[0m\u001b[0margs\u001b[0m\u001b[0;34m,\u001b[0m \u001b[0mkwargs\u001b[0m\u001b[0;34m)\u001b[0m\u001b[0;34m\u001b[0m\u001b[0;34m\u001b[0m\u001b[0m\n\u001b[0m\u001b[1;32m   3067\u001b[0m     \u001b[0;32mreturn\u001b[0m \u001b[0mgraph_function\u001b[0m\u001b[0;34m\u001b[0m\u001b[0;34m\u001b[0m\u001b[0m\n\u001b[1;32m   3068\u001b[0m \u001b[0;34m\u001b[0m\u001b[0m\n",
      "\u001b[0;32m/usr/local/lib/python3.6/dist-packages/tensorflow/python/eager/function.py\u001b[0m in \u001b[0;36m_maybe_define_function\u001b[0;34m(self, args, kwargs)\u001b[0m\n\u001b[1;32m   3461\u001b[0m \u001b[0;34m\u001b[0m\u001b[0m\n\u001b[1;32m   3462\u001b[0m           \u001b[0mself\u001b[0m\u001b[0;34m.\u001b[0m\u001b[0m_function_cache\u001b[0m\u001b[0;34m.\u001b[0m\u001b[0mmissed\u001b[0m\u001b[0;34m.\u001b[0m\u001b[0madd\u001b[0m\u001b[0;34m(\u001b[0m\u001b[0mcall_context_key\u001b[0m\u001b[0;34m)\u001b[0m\u001b[0;34m\u001b[0m\u001b[0;34m\u001b[0m\u001b[0m\n\u001b[0;32m-> 3463\u001b[0;31m           \u001b[0mgraph_function\u001b[0m \u001b[0;34m=\u001b[0m \u001b[0mself\u001b[0m\u001b[0;34m.\u001b[0m\u001b[0m_create_graph_function\u001b[0m\u001b[0;34m(\u001b[0m\u001b[0margs\u001b[0m\u001b[0;34m,\u001b[0m \u001b[0mkwargs\u001b[0m\u001b[0;34m)\u001b[0m\u001b[0;34m\u001b[0m\u001b[0;34m\u001b[0m\u001b[0m\n\u001b[0m\u001b[1;32m   3464\u001b[0m           \u001b[0mself\u001b[0m\u001b[0;34m.\u001b[0m\u001b[0m_function_cache\u001b[0m\u001b[0;34m.\u001b[0m\u001b[0mprimary\u001b[0m\u001b[0;34m[\u001b[0m\u001b[0mcache_key\u001b[0m\u001b[0;34m]\u001b[0m \u001b[0;34m=\u001b[0m \u001b[0mgraph_function\u001b[0m\u001b[0;34m\u001b[0m\u001b[0;34m\u001b[0m\u001b[0m\n\u001b[1;32m   3465\u001b[0m \u001b[0;34m\u001b[0m\u001b[0m\n",
      "\u001b[0;32m/usr/local/lib/python3.6/dist-packages/tensorflow/python/eager/function.py\u001b[0m in \u001b[0;36m_create_graph_function\u001b[0;34m(self, args, kwargs, override_flat_arg_shapes)\u001b[0m\n\u001b[1;32m   3306\u001b[0m             \u001b[0marg_names\u001b[0m\u001b[0;34m=\u001b[0m\u001b[0marg_names\u001b[0m\u001b[0;34m,\u001b[0m\u001b[0;34m\u001b[0m\u001b[0;34m\u001b[0m\u001b[0m\n\u001b[1;32m   3307\u001b[0m             \u001b[0moverride_flat_arg_shapes\u001b[0m\u001b[0;34m=\u001b[0m\u001b[0moverride_flat_arg_shapes\u001b[0m\u001b[0;34m,\u001b[0m\u001b[0;34m\u001b[0m\u001b[0;34m\u001b[0m\u001b[0m\n\u001b[0;32m-> 3308\u001b[0;31m             capture_by_value=self._capture_by_value),\n\u001b[0m\u001b[1;32m   3309\u001b[0m         \u001b[0mself\u001b[0m\u001b[0;34m.\u001b[0m\u001b[0m_function_attributes\u001b[0m\u001b[0;34m,\u001b[0m\u001b[0;34m\u001b[0m\u001b[0;34m\u001b[0m\u001b[0m\n\u001b[1;32m   3310\u001b[0m         \u001b[0mfunction_spec\u001b[0m\u001b[0;34m=\u001b[0m\u001b[0mself\u001b[0m\u001b[0;34m.\u001b[0m\u001b[0mfunction_spec\u001b[0m\u001b[0;34m,\u001b[0m\u001b[0;34m\u001b[0m\u001b[0;34m\u001b[0m\u001b[0m\n",
      "\u001b[0;32m/usr/local/lib/python3.6/dist-packages/tensorflow/python/framework/func_graph.py\u001b[0m in \u001b[0;36mfunc_graph_from_py_func\u001b[0;34m(name, python_func, args, kwargs, signature, func_graph, autograph, autograph_options, add_control_dependencies, arg_names, op_return_value, collections, capture_by_value, override_flat_arg_shapes, acd_record_initial_resource_uses)\u001b[0m\n\u001b[1;32m   1005\u001b[0m         \u001b[0m_\u001b[0m\u001b[0;34m,\u001b[0m \u001b[0moriginal_func\u001b[0m \u001b[0;34m=\u001b[0m \u001b[0mtf_decorator\u001b[0m\u001b[0;34m.\u001b[0m\u001b[0munwrap\u001b[0m\u001b[0;34m(\u001b[0m\u001b[0mpython_func\u001b[0m\u001b[0;34m)\u001b[0m\u001b[0;34m\u001b[0m\u001b[0;34m\u001b[0m\u001b[0m\n\u001b[1;32m   1006\u001b[0m \u001b[0;34m\u001b[0m\u001b[0m\n\u001b[0;32m-> 1007\u001b[0;31m       \u001b[0mfunc_outputs\u001b[0m \u001b[0;34m=\u001b[0m \u001b[0mpython_func\u001b[0m\u001b[0;34m(\u001b[0m\u001b[0;34m*\u001b[0m\u001b[0mfunc_args\u001b[0m\u001b[0;34m,\u001b[0m \u001b[0;34m**\u001b[0m\u001b[0mfunc_kwargs\u001b[0m\u001b[0;34m)\u001b[0m\u001b[0;34m\u001b[0m\u001b[0;34m\u001b[0m\u001b[0m\n\u001b[0m\u001b[1;32m   1008\u001b[0m \u001b[0;34m\u001b[0m\u001b[0m\n\u001b[1;32m   1009\u001b[0m       \u001b[0;31m# invariant: `func_outputs` contains only Tensors, CompositeTensors,\u001b[0m\u001b[0;34m\u001b[0m\u001b[0;34m\u001b[0m\u001b[0;34m\u001b[0m\u001b[0m\n",
      "\u001b[0;32m/usr/local/lib/python3.6/dist-packages/tensorflow/python/eager/def_function.py\u001b[0m in \u001b[0;36mwrapped_fn\u001b[0;34m(*args, **kwds)\u001b[0m\n\u001b[1;32m    666\u001b[0m         \u001b[0;31m# the function a weak reference to itself to avoid a reference cycle.\u001b[0m\u001b[0;34m\u001b[0m\u001b[0;34m\u001b[0m\u001b[0;34m\u001b[0m\u001b[0m\n\u001b[1;32m    667\u001b[0m         \u001b[0;32mwith\u001b[0m \u001b[0mOptionalXlaContext\u001b[0m\u001b[0;34m(\u001b[0m\u001b[0mcompile_with_xla\u001b[0m\u001b[0;34m)\u001b[0m\u001b[0;34m:\u001b[0m\u001b[0;34m\u001b[0m\u001b[0;34m\u001b[0m\u001b[0m\n\u001b[0;32m--> 668\u001b[0;31m           \u001b[0mout\u001b[0m \u001b[0;34m=\u001b[0m \u001b[0mweak_wrapped_fn\u001b[0m\u001b[0;34m(\u001b[0m\u001b[0;34m)\u001b[0m\u001b[0;34m.\u001b[0m\u001b[0m__wrapped__\u001b[0m\u001b[0;34m(\u001b[0m\u001b[0;34m*\u001b[0m\u001b[0margs\u001b[0m\u001b[0;34m,\u001b[0m \u001b[0;34m**\u001b[0m\u001b[0mkwds\u001b[0m\u001b[0;34m)\u001b[0m\u001b[0;34m\u001b[0m\u001b[0;34m\u001b[0m\u001b[0m\n\u001b[0m\u001b[1;32m    669\u001b[0m         \u001b[0;32mreturn\u001b[0m \u001b[0mout\u001b[0m\u001b[0;34m\u001b[0m\u001b[0;34m\u001b[0m\u001b[0m\n\u001b[1;32m    670\u001b[0m \u001b[0;34m\u001b[0m\u001b[0m\n",
      "\u001b[0;32m/usr/local/lib/python3.6/dist-packages/tensorflow/python/framework/func_graph.py\u001b[0m in \u001b[0;36mwrapper\u001b[0;34m(*args, **kwargs)\u001b[0m\n\u001b[1;32m    992\u001b[0m           \u001b[0;32mexcept\u001b[0m \u001b[0mException\u001b[0m \u001b[0;32mas\u001b[0m \u001b[0me\u001b[0m\u001b[0;34m:\u001b[0m  \u001b[0;31m# pylint:disable=broad-except\u001b[0m\u001b[0;34m\u001b[0m\u001b[0;34m\u001b[0m\u001b[0m\n\u001b[1;32m    993\u001b[0m             \u001b[0;32mif\u001b[0m \u001b[0mhasattr\u001b[0m\u001b[0;34m(\u001b[0m\u001b[0me\u001b[0m\u001b[0;34m,\u001b[0m \u001b[0;34m\"ag_error_metadata\"\u001b[0m\u001b[0;34m)\u001b[0m\u001b[0;34m:\u001b[0m\u001b[0;34m\u001b[0m\u001b[0;34m\u001b[0m\u001b[0m\n\u001b[0;32m--> 994\u001b[0;31m               \u001b[0;32mraise\u001b[0m \u001b[0me\u001b[0m\u001b[0;34m.\u001b[0m\u001b[0mag_error_metadata\u001b[0m\u001b[0;34m.\u001b[0m\u001b[0mto_exception\u001b[0m\u001b[0;34m(\u001b[0m\u001b[0me\u001b[0m\u001b[0;34m)\u001b[0m\u001b[0;34m\u001b[0m\u001b[0;34m\u001b[0m\u001b[0m\n\u001b[0m\u001b[1;32m    995\u001b[0m             \u001b[0;32melse\u001b[0m\u001b[0;34m:\u001b[0m\u001b[0;34m\u001b[0m\u001b[0;34m\u001b[0m\u001b[0m\n\u001b[1;32m    996\u001b[0m               \u001b[0;32mraise\u001b[0m\u001b[0;34m\u001b[0m\u001b[0;34m\u001b[0m\u001b[0m\n",
      "\u001b[0;31mAttributeError\u001b[0m: in user code:\n\n    /usr/local/lib/python3.6/dist-packages/shap/explainers/_deep/deep_tf.py:243 grad_graph  *\n        out = self.model(shap_rAnD)\n    /usr/local/lib/python3.6/dist-packages/keras/engine/base_layer.py:1037 __call__  **\n        outputs = call_fn(inputs, *args, **kwargs)\n    /usr/local/lib/python3.6/dist-packages/keras/engine/functional.py:415 call\n        inputs, training=training, mask=mask)\n    /usr/local/lib/python3.6/dist-packages/keras/engine/functional.py:550 _run_internal_graph\n        outputs = node.layer(*args, **kwargs)\n    /usr/local/lib/python3.6/dist-packages/keras/engine/base_layer.py:1037 __call__\n        outputs = call_fn(inputs, *args, **kwargs)\n    /usr/local/lib/python3.6/dist-packages/keras/layers/core.py:1229 call\n        outputs = tf.raw_ops.MatMul(a=inputs, b=self.kernel)\n    /usr/local/lib/python3.6/dist-packages/tensorflow/python/util/tf_export.py:404 wrapper\n        return f(**kwargs)\n    /usr/local/lib/python3.6/dist-packages/tensorflow/python/ops/gen_math_ops.py:5714 mat_mul\n        name=name)\n    /usr/local/lib/python3.6/dist-packages/tensorflow/python/framework/op_def_library.py:522 _apply_op_helper\n        preferred_dtype=default_dtype)\n    /usr/local/lib/python3.6/dist-packages/tensorflow/python/profiler/trace.py:163 wrapped\n        return func(*args, **kwargs)\n    /usr/local/lib/python3.6/dist-packages/tensorflow/python/framework/ops.py:1566 convert_to_tensor\n        ret = conversion_func(value, dtype=dtype, name=name, as_ref=as_ref)\n    /usr/local/lib/python3.6/dist-packages/tensorflow/python/ops/resource_variable_ops.py:2023 _dense_var_to_tensor\n        return var._dense_var_to_tensor(dtype=dtype, name=name, as_ref=as_ref)  # pylint: disable=protected-access\n    /usr/local/lib/python3.6/dist-packages/tensorflow/python/ops/resource_variable_ops.py:1421 _dense_var_to_tensor\n        return self.value()\n    /usr/local/lib/python3.6/dist-packages/tensorflow/python/ops/resource_variable_ops.py:576 value\n        return self._read_variable_op()\n    /usr/local/lib/python3.6/dist-packages/tensorflow/python/ops/resource_variable_ops.py:683 _read_variable_op\n        result = read_and_set_handle()\n    /usr/local/lib/python3.6/dist-packages/tensorflow/python/ops/resource_variable_ops.py:674 read_and_set_handle\n        self.handle, self._dtype)\n    /usr/local/lib/python3.6/dist-packages/tensorflow/python/ops/gen_resource_variable_ops.py:491 read_variable_op\n        \"ReadVariableOp\", _inputs_flat, _attrs, _result)\n    /usr/local/lib/python3.6/dist-packages/shap/explainers/_deep/deep_tf.py:26 custom_record_gradient\n        out = tf_backprop._record_gradient(\"shap_\"+op_name, inputs, attrs, results)\n\n    AttributeError: module 'tensorflow.python.eager.backprop' has no attribute '_record_gradient'\n"
     ]
    }
   ],
   "source": [
    "# shap_values = e.shap_values(np.array(test_x))\n",
    "shap_values = e.shap_values(np.array(test_x))"
   ]
  },
  {
   "cell_type": "code",
   "execution_count": null,
   "metadata": {},
   "outputs": [],
   "source": []
  }
 ],
 "metadata": {
  "interpreter": {
   "hash": "31f2aee4e71d21fbe5cf8b01ff0e069b9275f58929596ceb00d14d90e3e16cd6"
  },
  "kernelspec": {
   "display_name": "Python 3.6.9 64-bit",
   "language": "python",
   "name": "python3"
  },
  "language_info": {
   "codemirror_mode": {
    "name": "ipython",
    "version": 3
   },
   "file_extension": ".py",
   "mimetype": "text/x-python",
   "name": "python",
   "nbconvert_exporter": "python",
   "pygments_lexer": "ipython3",
   "version": "3.6.9"
  },
  "orig_nbformat": 4
 },
 "nbformat": 4,
 "nbformat_minor": 2
}
