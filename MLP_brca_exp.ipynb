{
 "cells": [
  {
   "cell_type": "code",
   "execution_count": 1,
   "metadata": {},
   "outputs": [],
   "source": [
    "import numpy as np\n",
    "import pandas as pd\n",
    "\n",
    "from sklearn.model_selection import train_test_split\n",
    "\n",
    "from tensorflow import keras as kr\n",
    "from tensorflow.keras.models import Sequential\n",
    "from tensorflow.keras.layers import Dense, Dropout\n",
    "\n",
    "import matplotlib.pyplot as plt"
   ]
  },
  {
   "cell_type": "code",
   "execution_count": 2,
   "metadata": {},
   "outputs": [
    {
     "name": "stdout",
     "output_type": "stream",
     "text": [
      "Uploading...\n",
      "Uploading done!\n"
     ]
    }
   ],
   "source": [
    "# upload\n",
    "print('Uploading...')\n",
    "exp_matrix = pd.read_csv('/root/work/data/sub/brca_exp_sub', index_col=0)\n",
    "label = pd.read_csv('/root/work/data/sub/brca_label_sub')\n",
    "print('Uploading done!')"
   ]
  },
  {
   "cell_type": "code",
   "execution_count": 3,
   "metadata": {},
   "outputs": [
    {
     "name": "stdout",
     "output_type": "stream",
     "text": [
      "(670, 12411) (288, 12411) (670,) (288,)\n"
     ]
    }
   ],
   "source": [
    "# data preprocessing\n",
    "x = exp_matrix.T\n",
    "\n",
    "# str -> int\n",
    "y = np.array(label['BRCA_Subtype_PAM50'].map({'LumA':0, 'LumB':1, 'Basal':2, 'Her2':3, 'Normal':4}).astype(int))\n",
    "\n",
    "train_x, test_x, train_y_t, test_y_t = train_test_split(x, y, test_size=0.3, random_state=np.random.seed())\n",
    "print(train_x.shape, test_x.shape, train_y_t.shape, test_y_t.shape)\n",
    "\n",
    "# int -> onthot\n",
    "train_y = kr.utils.to_categorical(train_y_t)\n",
    "test_y = kr.utils.to_categorical(test_y_t)"
   ]
  },
  {
   "cell_type": "code",
   "execution_count": 5,
   "metadata": {},
   "outputs": [],
   "source": [
    "model = Sequential()\n",
    "model.add(Dense(1024, input_dim=train_x.shape[1], kernel_initializer='uniform', activation='LeakyReLU'))\n",
    "model.add(Dropout(0.1))\n",
    "model.add(Dense(128,kernel_initializer='uniform',activation='relu'))\n",
    "model.add(Dense(128,kernel_initializer='uniform',activation='relu'))\n",
    "model.add(Dropout(0.1))\n",
    "model.add(Dense(5,kernel_initializer='uniform',activation='softmax'))\n",
    "\n",
    "model.compile(loss=kr.losses.CategoricalCrossentropy(), optimizer='adam', metrics=['categorical_accuracy'])\n",
    "#sgd = kr.optimizers.SGD(learning_rate=0.001)"
   ]
  },
  {
   "cell_type": "code",
   "execution_count": 6,
   "metadata": {},
   "outputs": [
    {
     "name": "stdout",
     "output_type": "stream",
     "text": [
      "Epoch 1/50\n",
      "5/5 [==============================] - 2s 205ms/step - loss: 1.1838 - categorical_accuracy: 0.5406 - val_loss: 0.5183 - val_categorical_accuracy: 0.7313\n",
      "Epoch 2/50\n",
      "5/5 [==============================] - 0s 92ms/step - loss: 0.5562 - categorical_accuracy: 0.7678 - val_loss: 0.6875 - val_categorical_accuracy: 0.8060\n",
      "Epoch 3/50\n",
      "5/5 [==============================] - 0s 60ms/step - loss: 0.4663 - categorical_accuracy: 0.8209 - val_loss: 0.6014 - val_categorical_accuracy: 0.7910\n",
      "Epoch 4/50\n",
      "5/5 [==============================] - 0s 76ms/step - loss: 0.3635 - categorical_accuracy: 0.8557 - val_loss: 0.3044 - val_categorical_accuracy: 0.8657\n",
      "Epoch 5/50\n",
      "5/5 [==============================] - 0s 81ms/step - loss: 0.2552 - categorical_accuracy: 0.8872 - val_loss: 0.2915 - val_categorical_accuracy: 0.8806\n",
      "Epoch 6/50\n",
      "5/5 [==============================] - 0s 90ms/step - loss: 0.1851 - categorical_accuracy: 0.9386 - val_loss: 0.3579 - val_categorical_accuracy: 0.8806\n",
      "Epoch 7/50\n",
      "5/5 [==============================] - 0s 101ms/step - loss: 0.1632 - categorical_accuracy: 0.9403 - val_loss: 0.2399 - val_categorical_accuracy: 0.8806\n",
      "Epoch 8/50\n",
      "5/5 [==============================] - 0s 96ms/step - loss: 0.1059 - categorical_accuracy: 0.9735 - val_loss: 0.4818 - val_categorical_accuracy: 0.8806\n",
      "Epoch 9/50\n",
      "5/5 [==============================] - 0s 78ms/step - loss: 0.1099 - categorical_accuracy: 0.9536 - val_loss: 0.3226 - val_categorical_accuracy: 0.9104\n",
      "Epoch 10/50\n",
      "5/5 [==============================] - 0s 87ms/step - loss: 0.0588 - categorical_accuracy: 0.9834 - val_loss: 0.2839 - val_categorical_accuracy: 0.8955\n",
      "Epoch 11/50\n",
      "5/5 [==============================] - 0s 78ms/step - loss: 0.0506 - categorical_accuracy: 0.9818 - val_loss: 0.5777 - val_categorical_accuracy: 0.9104\n",
      "Epoch 12/50\n",
      "5/5 [==============================] - 0s 93ms/step - loss: 0.0942 - categorical_accuracy: 0.9602 - val_loss: 0.4290 - val_categorical_accuracy: 0.9104\n",
      "Epoch 13/50\n",
      "5/5 [==============================] - 0s 92ms/step - loss: 0.0421 - categorical_accuracy: 0.9834 - val_loss: 0.3865 - val_categorical_accuracy: 0.8806\n",
      "Epoch 14/50\n",
      "5/5 [==============================] - 0s 97ms/step - loss: 0.0195 - categorical_accuracy: 0.9934 - val_loss: 0.3870 - val_categorical_accuracy: 0.8806\n",
      "Epoch 15/50\n",
      "5/5 [==============================] - 0s 83ms/step - loss: 0.0096 - categorical_accuracy: 0.9983 - val_loss: 0.4855 - val_categorical_accuracy: 0.8806\n",
      "Epoch 16/50\n",
      "5/5 [==============================] - 0s 68ms/step - loss: 0.0059 - categorical_accuracy: 1.0000 - val_loss: 0.3999 - val_categorical_accuracy: 0.8955\n",
      "Epoch 17/50\n",
      "5/5 [==============================] - 0s 83ms/step - loss: 0.0058 - categorical_accuracy: 1.0000 - val_loss: 0.4658 - val_categorical_accuracy: 0.8955\n",
      "Epoch 18/50\n",
      "5/5 [==============================] - 0s 62ms/step - loss: 0.0043 - categorical_accuracy: 0.9983 - val_loss: 0.5793 - val_categorical_accuracy: 0.9104\n",
      "Epoch 19/50\n",
      "5/5 [==============================] - 0s 61ms/step - loss: 0.0015 - categorical_accuracy: 1.0000 - val_loss: 0.4310 - val_categorical_accuracy: 0.9104\n",
      "Epoch 20/50\n",
      "5/5 [==============================] - 0s 78ms/step - loss: 0.0020 - categorical_accuracy: 1.0000 - val_loss: 0.4412 - val_categorical_accuracy: 0.8955\n",
      "Epoch 21/50\n",
      "5/5 [==============================] - 0s 89ms/step - loss: 0.0010 - categorical_accuracy: 1.0000 - val_loss: 0.4942 - val_categorical_accuracy: 0.9104\n",
      "Epoch 22/50\n",
      "5/5 [==============================] - 0s 95ms/step - loss: 5.6788e-04 - categorical_accuracy: 1.0000 - val_loss: 0.5630 - val_categorical_accuracy: 0.8806\n",
      "Epoch 23/50\n",
      "5/5 [==============================] - 0s 94ms/step - loss: 0.0017 - categorical_accuracy: 1.0000 - val_loss: 0.5310 - val_categorical_accuracy: 0.9104\n",
      "Epoch 24/50\n",
      "5/5 [==============================] - 0s 88ms/step - loss: 7.7737e-04 - categorical_accuracy: 1.0000 - val_loss: 0.5108 - val_categorical_accuracy: 0.8955\n",
      "Epoch 25/50\n",
      "5/5 [==============================] - 0s 86ms/step - loss: 7.0259e-04 - categorical_accuracy: 1.0000 - val_loss: 0.5302 - val_categorical_accuracy: 0.8955\n",
      "Epoch 26/50\n",
      "5/5 [==============================] - 0s 91ms/step - loss: 0.0015 - categorical_accuracy: 1.0000 - val_loss: 0.5503 - val_categorical_accuracy: 0.8955\n",
      "Epoch 27/50\n",
      "5/5 [==============================] - 0s 91ms/step - loss: 0.0140 - categorical_accuracy: 0.9983 - val_loss: 0.5841 - val_categorical_accuracy: 0.8955\n",
      "Epoch 28/50\n",
      "5/5 [==============================] - 0s 104ms/step - loss: 0.0559 - categorical_accuracy: 0.9867 - val_loss: 0.4608 - val_categorical_accuracy: 0.9104\n",
      "Epoch 29/50\n",
      "5/5 [==============================] - 0s 91ms/step - loss: 0.0261 - categorical_accuracy: 0.9917 - val_loss: 0.5860 - val_categorical_accuracy: 0.9104\n",
      "Epoch 30/50\n",
      "5/5 [==============================] - 0s 92ms/step - loss: 0.0288 - categorical_accuracy: 0.9900 - val_loss: 0.5704 - val_categorical_accuracy: 0.9104\n",
      "Epoch 31/50\n",
      "5/5 [==============================] - 0s 77ms/step - loss: 0.0207 - categorical_accuracy: 0.9934 - val_loss: 0.3491 - val_categorical_accuracy: 0.8955\n",
      "Epoch 32/50\n",
      "5/5 [==============================] - 0s 95ms/step - loss: 0.0117 - categorical_accuracy: 0.9950 - val_loss: 0.4435 - val_categorical_accuracy: 0.8955\n",
      "Epoch 33/50\n",
      "5/5 [==============================] - 0s 63ms/step - loss: 0.0046 - categorical_accuracy: 1.0000 - val_loss: 0.4165 - val_categorical_accuracy: 0.8806\n",
      "Epoch 34/50\n",
      "5/5 [==============================] - 0s 71ms/step - loss: 0.0131 - categorical_accuracy: 0.9983 - val_loss: 0.6239 - val_categorical_accuracy: 0.8955\n",
      "Epoch 35/50\n",
      "5/5 [==============================] - 0s 60ms/step - loss: 0.0033 - categorical_accuracy: 1.0000 - val_loss: 0.4759 - val_categorical_accuracy: 0.8955\n",
      "Epoch 36/50\n",
      "5/5 [==============================] - 0s 86ms/step - loss: 0.0025 - categorical_accuracy: 1.0000 - val_loss: 0.5123 - val_categorical_accuracy: 0.8955\n",
      "Epoch 37/50\n",
      "5/5 [==============================] - 0s 88ms/step - loss: 0.0018 - categorical_accuracy: 1.0000 - val_loss: 0.5974 - val_categorical_accuracy: 0.8955\n",
      "Epoch 38/50\n",
      "5/5 [==============================] - 0s 84ms/step - loss: 5.1186e-04 - categorical_accuracy: 1.0000 - val_loss: 0.4968 - val_categorical_accuracy: 0.9104\n",
      "Epoch 39/50\n",
      "5/5 [==============================] - 0s 100ms/step - loss: 0.0010 - categorical_accuracy: 1.0000 - val_loss: 0.5345 - val_categorical_accuracy: 0.9104\n",
      "Epoch 40/50\n",
      "5/5 [==============================] - 0s 84ms/step - loss: 0.0015 - categorical_accuracy: 1.0000 - val_loss: 0.6935 - val_categorical_accuracy: 0.9104\n",
      "Epoch 41/50\n",
      "5/5 [==============================] - 0s 81ms/step - loss: 7.7061e-04 - categorical_accuracy: 1.0000 - val_loss: 0.6852 - val_categorical_accuracy: 0.9104\n",
      "Epoch 42/50\n",
      "5/5 [==============================] - 0s 93ms/step - loss: 3.2654e-04 - categorical_accuracy: 1.0000 - val_loss: 0.6502 - val_categorical_accuracy: 0.8955\n",
      "Epoch 43/50\n",
      "5/5 [==============================] - 0s 99ms/step - loss: 1.8262e-04 - categorical_accuracy: 1.0000 - val_loss: 0.6286 - val_categorical_accuracy: 0.8955\n",
      "Epoch 44/50\n",
      "5/5 [==============================] - 1s 117ms/step - loss: 1.8217e-04 - categorical_accuracy: 1.0000 - val_loss: 0.6156 - val_categorical_accuracy: 0.8955\n",
      "Epoch 45/50\n",
      "5/5 [==============================] - 0s 90ms/step - loss: 2.0066e-04 - categorical_accuracy: 1.0000 - val_loss: 0.6083 - val_categorical_accuracy: 0.8955\n",
      "Epoch 46/50\n",
      "5/5 [==============================] - 0s 86ms/step - loss: 1.2915e-04 - categorical_accuracy: 1.0000 - val_loss: 0.5999 - val_categorical_accuracy: 0.8955\n",
      "Epoch 47/50\n",
      "5/5 [==============================] - 0s 94ms/step - loss: 1.4052e-04 - categorical_accuracy: 1.0000 - val_loss: 0.5945 - val_categorical_accuracy: 0.8955\n",
      "Epoch 48/50\n",
      "5/5 [==============================] - 0s 86ms/step - loss: 2.0835e-04 - categorical_accuracy: 1.0000 - val_loss: 0.5863 - val_categorical_accuracy: 0.8955\n",
      "Epoch 49/50\n",
      "5/5 [==============================] - 0s 75ms/step - loss: 2.3083e-04 - categorical_accuracy: 1.0000 - val_loss: 0.5919 - val_categorical_accuracy: 0.8955\n",
      "Epoch 50/50\n",
      "5/5 [==============================] - 0s 60ms/step - loss: 1.3910e-04 - categorical_accuracy: 1.0000 - val_loss: 0.6022 - val_categorical_accuracy: 0.8955\n"
     ]
    },
    {
     "data": {
      "image/png": "[encoded data removed]",
      "text/plain": [
       "<Figure size 432x288 with 1 Axes>"
      ]
     },
     "metadata": {
      "needs_background": "light"
     },
     "output_type": "display_data"
    },
    {
     "data": {
      "image/png": "[encoded data removed]",
      "text/plain": [
       "<Figure size 432x288 with 1 Axes>"
      ]
     },
     "metadata": {
      "needs_background": "light"
     },
     "output_type": "display_data"
    }
   ],
   "source": [
    "b = 128\n",
    "train_history=model.fit(train_x,\n",
    "                        train_y,\n",
    "                        epochs=50,\n",
    "                        validation_split=0.1,\n",
    "                        batch_size=b)\n",
    "\n",
    "loss=train_history.history['loss']\n",
    "acc=train_history.history['categorical_accuracy']\n",
    "epochs=range(0,len(loss))\n",
    "plt.title(\"Train loss\")\n",
    "plt.plot(epochs,loss,'b',label='Trainning loss')\n",
    "val_loss=train_history.history['val_loss']\n",
    "val_acc=train_history.history['val_categorical_accuracy']\n",
    "plt.plot(epochs,val_loss,'r',label='Validation loss')\n",
    "plt.legend(loc='best')\n",
    "plt.figure()\n",
    "plt.title(\"Train acc\")\n",
    "plt.plot(epochs,acc,'b',label='Trainning acc')\n",
    "plt.plot(epochs,val_acc,'r',label='Validation acc')\n",
    "plt.legend(loc='best')\n",
    "plt.show()"
   ]
  },
  {
   "cell_type": "code",
   "execution_count": 4,
   "metadata": {},
   "outputs": [],
   "source": [
    "from keras.models import load_model\n",
    "\n",
    "# # 保存训练好的model为hdf5文件\n",
    "# model.save('/root/work/model/brca_subtype_model.h5')  \n",
    "# 重新加载模型\n",
    "model = load_model('/root/work/model/brca_subtype_model.h5')"
   ]
  },
  {
   "cell_type": "code",
   "execution_count": 5,
   "metadata": {},
   "outputs": [
    {
     "name": "stdout",
     "output_type": "stream",
     "text": [
      "9/9 [==============================] - 0s 5ms/step - loss: 0.0879 - categorical_accuracy: 0.9722\n",
      "test loss:  0.08793947100639343\n",
      "test accuracy:  0.9722222089767456\n"
     ]
    }
   ],
   "source": [
    "loss, accuracy = model.evaluate(test_x, test_y)\n",
    "print('test loss: ', loss)\n",
    "print('test accuracy: ', accuracy)"
   ]
  },
  {
   "cell_type": "code",
   "execution_count": 6,
   "metadata": {},
   "outputs": [
    {
     "name": "stderr",
     "output_type": "stream",
     "text": [
      "/usr/local/lib/python3.6/dist-packages/ipykernel_launcher.py:29: DeprecationWarning: scipy.interp is deprecated and will be removed in SciPy 2.0.0, use numpy.interp instead\n"
     ]
    }
   ],
   "source": [
    "from scipy import interp\n",
    "from sklearn.metrics import roc_curve, auc\n",
    "\n",
    "n_classes = train_y.shape[1]\n",
    "# Plot linewidth.\n",
    "lw = 2\n",
    "\n",
    "# Compute ROC curve and ROC area for each class\n",
    "fpr = dict()\n",
    "tpr = dict()\n",
    "roc_auc = dict()\n",
    "y_score = model.predict(test_x)\n",
    "for i in range(n_classes):\n",
    "    fpr[i], tpr[i], _ = roc_curve(test_y[:, i], y_score[:, i])\n",
    "    roc_auc[i] = auc(fpr[i], tpr[i])\n",
    "\n",
    "# Compute micro-average ROC curve and ROC area\n",
    "fpr[\"micro\"], tpr[\"micro\"], _ = roc_curve(test_y.ravel(), y_score.ravel())\n",
    "roc_auc[\"micro\"] = auc(fpr[\"micro\"], tpr[\"micro\"])\n",
    "\n",
    "# Compute macro-average ROC curve and ROC area\n",
    "\n",
    "# First aggregate all false positive rates\n",
    "all_fpr = np.unique(np.concatenate([fpr[i] for i in range(n_classes)]))\n",
    "\n",
    "# Then interpolate all ROC curves at this points\n",
    "mean_tpr = np.zeros_like(all_fpr)\n",
    "for i in range(n_classes):\n",
    "    mean_tpr += interp(all_fpr, fpr[i], tpr[i])\n",
    "\n",
    "# Finally average it and compute AUC\n",
    "mean_tpr /= n_classes\n",
    "\n",
    "fpr[\"macro\"] = all_fpr\n",
    "tpr[\"macro\"] = mean_tpr\n",
    "roc_auc[\"macro\"] = auc(fpr[\"macro\"], tpr[\"macro\"])"
   ]
  },
  {
   "cell_type": "code",
   "execution_count": 9,
   "metadata": {},
   "outputs": [
    {
     "data": {
      "image/png": "[encoded data removed]",
      "text/plain": [
       "<Figure size 576x576 with 1 Axes>"
      ]
     },
     "metadata": {
      "needs_background": "light"
     },
     "output_type": "display_data"
    }
   ],
   "source": [
    "from itertools import cycle\n",
    "plt.figure(figsize=(8, 8))\n",
    "plt.plot(fpr[\"micro\"], tpr[\"micro\"],\n",
    "         label='micro-average ROC curve (area = {0:0.2f})'\n",
    "               ''.format(roc_auc[\"micro\"]),\n",
    "         color='deeppink', linestyle=':', linewidth=4)\n",
    "\n",
    "plt.plot(fpr[\"macro\"], tpr[\"macro\"],\n",
    "         label='macro-average ROC curve (area = {0:0.2f})'\n",
    "               ''.format(roc_auc[\"macro\"]),\n",
    "         color='navy', linestyle=':', linewidth=4)\n",
    "\n",
    "colors = cycle(['aqua', 'darkorange', 'cornflowerblue'])\n",
    "for i, color in zip(range(n_classes), colors):\n",
    "    plt.plot(fpr[i], tpr[i], color=color, lw=lw,\n",
    "             label='ROC curve of class {0} (area = {1:0.2f})'\n",
    "             ''.format(i, roc_auc[i]))\n",
    "\n",
    "plt.plot([0, 1], [0, 1], 'k--', lw=lw)\n",
    "plt.xlim([0.0, 1.0])\n",
    "plt.ylim([0.0, 1.05])\n",
    "plt.xlabel('False Positive Rate')\n",
    "plt.ylabel('True Positive Rate')\n",
    "plt.title('Some extension of Receiver operating characteristic to multi-class')\n",
    "plt.legend(loc=\"lower right\")\n",
    "plt.show()"
   ]
  },
  {
   "cell_type": "code",
   "execution_count": 11,
   "metadata": {},
   "outputs": [
    {
     "data": {
      "text/html": [
       "<div>\n",
       "<style scoped>\n",
       "    .dataframe tbody tr th:only-of-type {\n",
       "        vertical-align: middle;\n",
       "    }\n",
       "\n",
       "    .dataframe tbody tr th {\n",
       "        vertical-align: top;\n",
       "    }\n",
       "\n",
       "    .dataframe thead th {\n",
       "        text-align: right;\n",
       "    }\n",
       "</style>\n",
       "<table border=\"1\" class=\"dataframe\">\n",
       "  <thead>\n",
       "    <tr style=\"text-align: right;\">\n",
       "      <th></th>\n",
       "      <th>LumA</th>\n",
       "      <th>LumB</th>\n",
       "      <th>Basal</th>\n",
       "      <th>Her2</th>\n",
       "      <th>Normal</th>\n",
       "    </tr>\n",
       "  </thead>\n",
       "  <tbody>\n",
       "    <tr>\n",
       "      <th>LumA</th>\n",
       "      <td>143</td>\n",
       "      <td>0</td>\n",
       "      <td>0</td>\n",
       "      <td>0</td>\n",
       "      <td>0</td>\n",
       "    </tr>\n",
       "    <tr>\n",
       "      <th>LumB</th>\n",
       "      <td>55</td>\n",
       "      <td>6</td>\n",
       "      <td>0</td>\n",
       "      <td>0</td>\n",
       "      <td>0</td>\n",
       "    </tr>\n",
       "    <tr>\n",
       "      <th>Basal</th>\n",
       "      <td>14</td>\n",
       "      <td>0</td>\n",
       "      <td>43</td>\n",
       "      <td>0</td>\n",
       "      <td>0</td>\n",
       "    </tr>\n",
       "    <tr>\n",
       "      <th>Her2</th>\n",
       "      <td>19</td>\n",
       "      <td>0</td>\n",
       "      <td>0</td>\n",
       "      <td>2</td>\n",
       "      <td>0</td>\n",
       "    </tr>\n",
       "    <tr>\n",
       "      <th>Normal</th>\n",
       "      <td>6</td>\n",
       "      <td>0</td>\n",
       "      <td>0</td>\n",
       "      <td>0</td>\n",
       "      <td>0</td>\n",
       "    </tr>\n",
       "  </tbody>\n",
       "</table>\n",
       "</div>"
      ],
      "text/plain": [
       "        LumA  LumB  Basal  Her2  Normal\n",
       "LumA     143     0      0     0       0\n",
       "LumB      55     6      0     0       0\n",
       "Basal     14     0     43     0       0\n",
       "Her2      19     0      0     2       0\n",
       "Normal     6     0      0     0       0"
      ]
     },
     "execution_count": 11,
     "metadata": {},
     "output_type": "execute_result"
    }
   ],
   "source": [
    "from sklearn.metrics import confusion_matrix\n",
    "import seaborn as sns\n",
    "y_true = np.argmax(test_y, axis=-1).reshape(test_y.shape[0],1)\n",
    "y_pred = np.argmax(model.predict(test_x).astype(np.int64), axis=-1).reshape(test_y.shape[0],1)\n",
    "cm = confusion_matrix(y_true,y_pred)\n",
    "cm = pd.DataFrame(cm, columns=['LumA', 'LumB', 'Basal', 'Her2', 'Normal'], index=['LumA', 'LumB', 'Basal', 'Her2', 'Normal'])\n",
    "cm"
   ]
  },
  {
   "cell_type": "code",
   "execution_count": 15,
   "metadata": {},
   "outputs": [
    {
     "name": "stderr",
     "output_type": "stream",
     "text": [
      "/usr/local/lib/python3.6/dist-packages/ipykernel_launcher.py:1: FutureWarning: Support for multi-dimensional indexing (e.g. `obj[:, None]`) is deprecated and will be removed in a future version.  Convert to a numpy array before indexing instead.\n",
      "  \"\"\"Entry point for launching an IPython kernel.\n"
     ]
    },
    {
     "data": {
      "text/html": [
       "<div>\n",
       "<style scoped>\n",
       "    .dataframe tbody tr th:only-of-type {\n",
       "        vertical-align: middle;\n",
       "    }\n",
       "\n",
       "    .dataframe tbody tr th {\n",
       "        vertical-align: top;\n",
       "    }\n",
       "\n",
       "    .dataframe thead th {\n",
       "        text-align: right;\n",
       "    }\n",
       "</style>\n",
       "<table border=\"1\" class=\"dataframe\">\n",
       "  <thead>\n",
       "    <tr style=\"text-align: right;\">\n",
       "      <th></th>\n",
       "      <th>LumA</th>\n",
       "      <th>LumB</th>\n",
       "      <th>Basal</th>\n",
       "      <th>Her2</th>\n",
       "      <th>Normal</th>\n",
       "    </tr>\n",
       "  </thead>\n",
       "  <tbody>\n",
       "    <tr>\n",
       "      <th>LumA</th>\n",
       "      <td>1.000000</td>\n",
       "      <td>0.000000</td>\n",
       "      <td>0.000000</td>\n",
       "      <td>0.000000</td>\n",
       "      <td>0.0</td>\n",
       "    </tr>\n",
       "    <tr>\n",
       "      <th>LumB</th>\n",
       "      <td>0.901639</td>\n",
       "      <td>0.098361</td>\n",
       "      <td>0.000000</td>\n",
       "      <td>0.000000</td>\n",
       "      <td>0.0</td>\n",
       "    </tr>\n",
       "    <tr>\n",
       "      <th>Basal</th>\n",
       "      <td>0.245614</td>\n",
       "      <td>0.000000</td>\n",
       "      <td>0.754386</td>\n",
       "      <td>0.000000</td>\n",
       "      <td>0.0</td>\n",
       "    </tr>\n",
       "    <tr>\n",
       "      <th>Her2</th>\n",
       "      <td>0.904762</td>\n",
       "      <td>0.000000</td>\n",
       "      <td>0.000000</td>\n",
       "      <td>0.095238</td>\n",
       "      <td>0.0</td>\n",
       "    </tr>\n",
       "    <tr>\n",
       "      <th>Normal</th>\n",
       "      <td>1.000000</td>\n",
       "      <td>0.000000</td>\n",
       "      <td>0.000000</td>\n",
       "      <td>0.000000</td>\n",
       "      <td>0.0</td>\n",
       "    </tr>\n",
       "  </tbody>\n",
       "</table>\n",
       "</div>"
      ],
      "text/plain": [
       "            LumA      LumB     Basal      Her2  Normal\n",
       "LumA    1.000000  0.000000  0.000000  0.000000     0.0\n",
       "LumB    0.901639  0.098361  0.000000  0.000000     0.0\n",
       "Basal   0.245614  0.000000  0.754386  0.000000     0.0\n",
       "Her2    0.904762  0.000000  0.000000  0.095238     0.0\n",
       "Normal  1.000000  0.000000  0.000000  0.000000     0.0"
      ]
     },
     "execution_count": 15,
     "metadata": {},
     "output_type": "execute_result"
    }
   ],
   "source": [
    "cm = cm.astype(\"float\") / cm.sum(axis=1)[:, np.newaxis]\n",
    "np.set_printoptions(formatter={\"float\": \"{: 0.3f}\".format})\n",
    "cm"
   ]
  },
  {
   "cell_type": "code",
   "execution_count": 16,
   "metadata": {},
   "outputs": [
    {
     "data": {
      "image/png": "[encoded data removed]",
      "text/plain": [
       "<Figure size 432x288 with 2 Axes>"
      ]
     },
     "metadata": {},
     "output_type": "display_data"
    }
   ],
   "source": [
    "sns.set(font_scale=1.5)\n",
    "plt.rc('font',size=20)\n",
    "sns.heatmap(cm,cmap=\"Blues_r\",annot=True)\n",
    "plt.ylabel('True label')\n",
    "plt.xlabel('Predicted label')\n",
    "plt.show()"
   ]
  },
  {
   "cell_type": "code",
   "execution_count": 32,
   "metadata": {},
   "outputs": [
    {
     "name": "stdout",
     "output_type": "stream",
     "text": [
      "(670, 12411) (288, 12411) (670,) (288,)\n",
      "9/9 [==============================] - 0s 5ms/step - loss: 0.0206 - categorical_accuracy: 0.9931\n",
      "(670, 12411) (288, 12411) (670,) (288,)\n",
      "9/9 [==============================] - 0s 5ms/step - loss: 0.0432 - categorical_accuracy: 0.9931\n",
      "(670, 12411) (288, 12411) (670,) (288,)\n",
      "9/9 [==============================] - 0s 5ms/step - loss: 0.0677 - categorical_accuracy: 0.9861\n",
      "(670, 12411) (288, 12411) (670,) (288,)\n",
      "9/9 [==============================] - 0s 5ms/step - loss: 0.0465 - categorical_accuracy: 0.9826\n",
      "(670, 12411) (288, 12411) (670,) (288,)\n",
      "9/9 [==============================] - 0s 5ms/step - loss: 0.0488 - categorical_accuracy: 0.9965\n",
      "(670, 12411) (288, 12411) (670,) (288,)\n",
      "9/9 [==============================] - 0s 5ms/step - loss: 0.1065 - categorical_accuracy: 0.9826\n",
      "(670, 12411) (288, 12411) (670,) (288,)\n",
      "9/9 [==============================] - 0s 5ms/step - loss: 0.0510 - categorical_accuracy: 0.9931\n",
      "(670, 12411) (288, 12411) (670,) (288,)\n",
      "9/9 [==============================] - 0s 4ms/step - loss: 0.0640 - categorical_accuracy: 0.9861\n",
      "(670, 12411) (288, 12411) (670,) (288,)\n",
      "9/9 [==============================] - 0s 5ms/step - loss: 0.0248 - categorical_accuracy: 0.9931\n",
      "(670, 12411) (288, 12411) (670,) (288,)\n",
      "9/9 [==============================] - 0s 6ms/step - loss: 0.0698 - categorical_accuracy: 0.9826\n"
     ]
    }
   ],
   "source": [
    "from sklearn.ensemble import RandomForestClassifier\n",
    "from sklearn import tree\n",
    "from sklearn.svm import SVC\n",
    "from sklearn import metrics\n",
    "from sklearn import linear_model\n",
    "from sklearn.neighbors import KNeighborsClassifier\n",
    "from sklearn.naive_bayes import GaussianNB\n",
    "\n",
    "my = []\n",
    "rf = []\n",
    "dt = []\n",
    "svm = []\n",
    "lr = []\n",
    "knn = []\n",
    "nb = []\n",
    "\n",
    "for i in range(10):\n",
    "    # my\n",
    "\n",
    "    train_x, test_x, train_y_t, test_y_t = train_test_split(x, y, test_size=0.3, random_state=np.random.seed())\n",
    "    print(train_x.shape, test_x.shape, train_y_t.shape, test_y_t.shape)\n",
    "    # int -> onthot\n",
    "    train_y = kr.utils.to_categorical(train_y_t)\n",
    "    test_y = kr.utils.to_categorical(test_y_t)\n",
    "    loss, accuracy = model.evaluate(test_x, test_y)\n",
    "    my.append(accuracy)\n",
    "\n",
    "    clf=RandomForestClassifier()  \n",
    "    clf = clf.fit(train_x,train_y_t)\n",
    "    score1 = clf.score(test_x,test_y_t)\n",
    "    rf.append(score1)\n",
    "\n",
    "    clf2 = tree.DecisionTreeClassifier()\n",
    "    clf2 = clf2.fit(train_x, train_y_t)\n",
    "    score2 = clf2.score(test_x,test_y_t)\n",
    "    dt.append(score2)\n",
    "\n",
    "    clf3 = SVC(kernel='linear')\n",
    "    clf3.fit(train_x,train_y_t)\n",
    "    y_pred = clf3.predict(test_x)\n",
    "    score3 = metrics.accuracy_score(test_y_t, y_pred)\n",
    "    svm.append(score3)\n",
    "\n",
    "    clf4 = linear_model.LogisticRegression(C=1e5)\n",
    "    clf4.fit(train_x,train_y_t)\n",
    "    score4 = clf4.score(test_x,test_y_t)\n",
    "    lr.append(score4)\n",
    "\n",
    "    clf5 = KNeighborsClassifier()\n",
    "    clf5.fit(train_x,train_y_t)\n",
    "    y_pred = clf5.predict(test_x)\n",
    "    score5 = metrics.accuracy_score(test_y_t, y_pred)\n",
    "    knn.append(score5)\n",
    "\n",
    "    clf6 = GaussianNB()\n",
    "    clf6 = clf6.fit(train_x,train_y_t)\n",
    "    y_pred = clf6.predict(test_x)\n",
    "    score6 = metrics.accuracy_score(test_y_t, y_pred)\n",
    "    nb.append(score6)\n",
    "\n",
    "evaluate_result = pd.DataFrame([my,rf,dt,svm,lr,knn,nb], index=['my','rf','dt','svm','lr','knn','nb'])\n",
    "evaluate_result"
   ]
  },
  {
   "cell_type": "code",
   "execution_count": 20,
   "metadata": {},
   "outputs": [
    {
     "name": "stdout",
     "output_type": "stream",
     "text": [
      "(472, 9742) (203, 9742) (472,) (203,)\n"
     ]
    }
   ],
   "source": [
    "# preprocess for the other ML methods\n",
    "x = exp_matrix.T\n",
    "y = np.array(label['BRCA_Subtype_PAM50'])\n",
    "\n",
    "train_x, test_x, train_y, test_y = train_test_split(x, y, test_size=0.3, random_state=np.random.seed())\n",
    "print(train_x.shape, test_x.shape, train_y.shape, test_y.shape)"
   ]
  },
  {
   "cell_type": "code",
   "execution_count": 21,
   "metadata": {},
   "outputs": [
    {
     "name": "stdout",
     "output_type": "stream",
     "text": [
      "Random Forest Classifier result: 0.7326388888888888\n"
     ]
    }
   ],
   "source": [
    "# Random Forest\n",
    "from sklearn.ensemble import RandomForestClassifier\n",
    "\n",
    "clf=RandomForestClassifier(n_estimators=1)  #n_estimators表示弱学习器的最大迭代次数，或者说最大的弱学习器的个数。如果设置值太小，模型容易欠拟合；如果太大，计算量会较大，并且超过一定的数量后，模型提升很小\n",
    "clf = clf.fit(train_x,train_y_t)\n",
    "score1 = clf.score(test_x,test_y_t)\n",
    "print('Random Forest Classifier result:', score1)"
   ]
  },
  {
   "cell_type": "code",
   "execution_count": 22,
   "metadata": {},
   "outputs": [
    {
     "name": "stdout",
     "output_type": "stream",
     "text": [
      "Decision Tree Classifier result: 0.7465277777777778\n"
     ]
    }
   ],
   "source": [
    "# Desicion Tree\n",
    "from sklearn import tree\n",
    "\n",
    "clf2 = tree.DecisionTreeClassifier()\n",
    "clf2 = clf2.fit(train_x, train_y_t)\n",
    "score2 = clf2.score(test_x,test_y_t)\n",
    "print('Decision Tree Classifier result:', score2)"
   ]
  },
  {
   "cell_type": "code",
   "execution_count": 23,
   "metadata": {},
   "outputs": [
    {
     "name": "stdout",
     "output_type": "stream",
     "text": [
      "              precision    recall  f1-score   support\n",
      "\n",
      "       Basal       1.00      0.95      0.97        37\n",
      "        Her2       0.82      0.60      0.69        15\n",
      "        LumA       0.85      0.90      0.88       103\n",
      "        LumB       0.66      0.72      0.69        40\n",
      "      Normal       1.00      0.50      0.67         8\n",
      "\n",
      "    accuracy                           0.84       203\n",
      "   macro avg       0.87      0.73      0.78       203\n",
      "weighted avg       0.84      0.84      0.84       203\n",
      "\n"
     ]
    }
   ],
   "source": [
    "# SVM\n",
    "from sklearn.model_selection import GridSearchCV\n",
    "from sklearn.svm import SVC\n",
    "from sklearn import metrics\n",
    "\n",
    "clf3 = SVC(kernel='rbf')\n",
    "clf3.fit(train_x,train_y)\n",
    "y_pred = clf3.predict(test_x)\n",
    "print(metrics.classification_report(test_y, y_pred))"
   ]
  },
  {
   "cell_type": "code",
   "execution_count": 24,
   "metadata": {},
   "outputs": [
    {
     "name": "stdout",
     "output_type": "stream",
     "text": [
      "Logistic Regression result: 0.8177339901477833\n"
     ]
    },
    {
     "name": "stderr",
     "output_type": "stream",
     "text": [
      "/usr/local/lib/python3.6/dist-packages/sklearn/linear_model/_logistic.py:765: ConvergenceWarning: lbfgs failed to converge (status=1):\n",
      "STOP: TOTAL NO. of ITERATIONS REACHED LIMIT.\n",
      "\n",
      "Increase the number of iterations (max_iter) or scale the data as shown in:\n",
      "    https://scikit-learn.org/stable/modules/preprocessing.html\n",
      "Please also refer to the documentation for alternative solver options:\n",
      "    https://scikit-learn.org/stable/modules/linear_model.html#logistic-regression\n",
      "  extra_warning_msg=_LOGISTIC_SOLVER_CONVERGENCE_MSG)\n"
     ]
    }
   ],
   "source": [
    "# Logistic Regression\n",
    "from sklearn import linear_model\n",
    "\n",
    "clf4 = linear_model.LogisticRegression()\n",
    "clf4.fit(train_x,train_y)\n",
    "score4 = clf4.score(test_x,test_y)\n",
    "print('Logistic Regression result:', score4)"
   ]
  },
  {
   "cell_type": "code",
   "execution_count": 25,
   "metadata": {},
   "outputs": [
    {
     "name": "stdout",
     "output_type": "stream",
     "text": [
      "              precision    recall  f1-score   support\n",
      "\n",
      "       Basal       0.97      0.81      0.88        37\n",
      "        Her2       0.67      0.27      0.38        15\n",
      "        LumA       0.69      0.90      0.78       103\n",
      "        LumB       0.54      0.33      0.41        40\n",
      "      Normal       0.38      0.38      0.38         8\n",
      "\n",
      "    accuracy                           0.70       203\n",
      "   macro avg       0.65      0.54      0.57       203\n",
      "weighted avg       0.70      0.70      0.68       203\n",
      "\n"
     ]
    }
   ],
   "source": [
    "# KNN\n",
    "from sklearn.neighbors import KNeighborsClassifier\n",
    "\n",
    "clf5 = KNeighborsClassifier(n_neighbors=3)\n",
    "clf5.fit(train_x,train_y)\n",
    "y_pred = clf5.predict(test_x)\n",
    "print(metrics.classification_report(test_y, y_pred))"
   ]
  },
  {
   "cell_type": "code",
   "execution_count": 26,
   "metadata": {},
   "outputs": [
    {
     "name": "stdout",
     "output_type": "stream",
     "text": [
      "              precision    recall  f1-score   support\n",
      "\n",
      "       Basal       1.00      0.89      0.94        37\n",
      "        Her2       0.61      0.73      0.67        15\n",
      "        LumA       0.91      0.70      0.79       103\n",
      "        LumB       0.54      0.72      0.62        40\n",
      "      Normal       0.42      1.00      0.59         8\n",
      "\n",
      "    accuracy                           0.75       203\n",
      "   macro avg       0.70      0.81      0.72       203\n",
      "weighted avg       0.81      0.75      0.77       203\n",
      "\n"
     ]
    }
   ],
   "source": [
    "# Naive Bayes\n",
    "from sklearn.naive_bayes import GaussianNB\n",
    "\n",
    "clf6 = GaussianNB()\n",
    "clf6 = clf6.fit(train_x,train_y)\n",
    "y_pred = clf6.predict(test_x)\n",
    "print(metrics.classification_report(test_y, y_pred))"
   ]
  },
  {
   "cell_type": "code",
   "execution_count": 15,
   "metadata": {},
   "outputs": [],
   "source": [
    "import tensorflow as tf\n",
    "def get_gradients(img_input, top_pred_idx):\n",
    "    \"\"\"Computes the gradients of outputs w.r.t input image.\n",
    "\n",
    "    Args:\n",
    "        img_input: 4D image tensor\n",
    "        top_pred_idx: Predicted label for the input image\n",
    "\n",
    "    Returns:\n",
    "        Gradients of the predictions w.r.t img_input\n",
    "    \"\"\"\n",
    "    images = tf.cast(img_input, tf.float32)\n",
    "\n",
    "    with tf.GradientTape() as tape:\n",
    "        tape.watch(images)\n",
    "        preds = model(images)\n",
    "        top_class = preds[:, top_pred_idx]\n",
    "\n",
    "    grads = tape.gradient(top_class, images)\n",
    "    return grads\n",
    "\n",
    "\n",
    "def get_integrated_gradients(img_input, top_pred_idx, baseline=None, num_steps=50):\n",
    "    \"\"\"Computes Integrated Gradients for a predicted label.\n",
    "\n",
    "    Args:\n",
    "        img_input (ndarray): Original image\n",
    "        top_pred_idx: Predicted label for the input image\n",
    "        baseline (ndarray): The baseline image to start with for interpolation\n",
    "        num_steps: Number of interpolation steps between the baseline\n",
    "            and the input used in the computation of integrated gradients. These\n",
    "            steps along determine the integral approximation error. By default,\n",
    "            num_steps is set to 50.\n",
    "\n",
    "    Returns:\n",
    "        Integrated gradients w.r.t input image\n",
    "    \"\"\"\n",
    "    # If baseline is not provided, start with a black image\n",
    "    # having same size as the input image.\n",
    "    if baseline is None:\n",
    "        baseline = np.zeros(img_size).astype(np.float32)\n",
    "    else:\n",
    "        baseline = baseline.astype(np.float32)\n",
    "\n",
    "    # 1. Do interpolation.\n",
    "    img_input = img_input.astype(np.float32)\n",
    "    interpolated_image = [\n",
    "        baseline + (step / num_steps) * (img_input - baseline)\n",
    "        for step in range(num_steps + 1)\n",
    "    ]\n",
    "    interpolated_image = np.array(interpolated_image).astype(np.float32)\n",
    "\n",
    "    # # 2. Preprocess the interpolated images\n",
    "    # interpolated_image = xception.preprocess_input(interpolated_image)\n",
    "\n",
    "    # 3. Get the gradients\n",
    "    grads = []\n",
    "    for i, img in enumerate(interpolated_image):\n",
    "        img = tf.expand_dims(img, axis=0)\n",
    "        grad = get_gradients(img, top_pred_idx=top_pred_idx)\n",
    "        grads.append(grad[0])\n",
    "    grads = tf.convert_to_tensor(grads, dtype=tf.float32)\n",
    "\n",
    "    # 4. Approximate the integral using the trapezoidal rule\n",
    "    grads = (grads[:-1] + grads[1:]) / 2.0\n",
    "    avg_grads = tf.reduce_mean(grads, axis=0)\n",
    "\n",
    "    # 5. Calculate integrated gradients and return\n",
    "    integrated_grads = (img_input - baseline) * avg_grads\n",
    "    return integrated_grads\n",
    "\n",
    "\n",
    "def random_baseline_integrated_gradients(\n",
    "    img_input, top_pred_idx, num_steps=50, num_runs=2\n",
    "):\n",
    "    \"\"\"Generates a number of random baseline images.\n",
    "\n",
    "    Args:\n",
    "        img_input (ndarray): 3D image\n",
    "        top_pred_idx: Predicted label for the input image\n",
    "        num_steps: Number of interpolation steps between the baseline\n",
    "            and the input used in the computation of integrated gradients. These\n",
    "            steps along determine the integral approximation error. By default,\n",
    "            num_steps is set to 50.\n",
    "        num_runs: number of baseline images to generate\n",
    "\n",
    "    Returns:\n",
    "        Averaged integrated gradients for `num_runs` baseline images\n",
    "    \"\"\"\n",
    "    # 1. List to keep track of Integrated Gradients (IG) for all the images\n",
    "    integrated_grads = []\n",
    "\n",
    "    # 2. Get the integrated gradients for all the baselines\n",
    "    for run in range(num_runs):\n",
    "        baseline = np.random.random(img_size) * 255\n",
    "        igrads = get_integrated_gradients(\n",
    "            img_input=img_input,\n",
    "            top_pred_idx=top_pred_idx,\n",
    "            baseline=baseline,\n",
    "            num_steps=num_steps,\n",
    "        )\n",
    "        integrated_grads.append(igrads)\n",
    "\n",
    "    # 3. Return the average integrated gradients for the image\n",
    "    integrated_grads = tf.convert_to_tensor(integrated_grads)\n",
    "    return tf.reduce_mean(integrated_grads, axis=0)"
   ]
  },
  {
   "cell_type": "code",
   "execution_count": null,
   "metadata": {},
   "outputs": [],
   "source": [
    "x = np.array(test_x.iloc[0])\n",
    "img_size = x.shape\n",
    "top_k = int(len(x)/100)\n",
    "\n",
    "for num in range(len(test_x)):\n",
    "    print(num)\n",
    "    s = np.array(test_x.iloc[num]).reshape(1,test_x.shape[1])\n",
    "    x = np.array(test_x.iloc[num])\n",
    "    preds = model.predict(s)\n",
    "\n",
    "    top_pred_idx = tf.argmax(preds[0])\n",
    "    igrads = random_baseline_integrated_gradients(np.copy(x), top_pred_idx=top_pred_idx, num_steps=50, num_runs=2)\n",
    "    igrads = np.array(igrads).reshape(1,test_x.shape[1])\n",
    "\n",
    "    if num == 0:\n",
    "        igs = igrads\n",
    "    else:\n",
    "        igs = np.concatenate((igs, igrads), axis=0)\n",
    "preds = model.predict(test_x)\n",
    "preds = np.argmax(preds, axis=1)\n",
    "preds_y = pd.DataFrame(preds, columns=['class'])\n",
    "\n",
    "idx_0 = preds_y.index[preds_y['class']==0].to_list()\n",
    "idx_1 = preds_y.index[preds_y['class']==1].to_list()\n",
    "idx_2 = preds_y.index[preds_y['class']==2].to_list()\n",
    "idx_3 = preds_y.index[preds_y['class']==3].to_list()\n",
    "idx_4 = preds_y.index[preds_y['class']==4].to_list()\n",
    "\n",
    "igs = pd.DataFrame(igs, columns=test_x.columns)\n",
    "\n",
    "sub_0 = igs.loc[idx_0]\n",
    "sub_1 = igs.loc[idx_1]\n",
    "sub_2 = igs.loc[idx_2]\n",
    "sub_3 = igs.loc[idx_3]\n",
    "sub_4 = igs.loc[idx_4]\n",
    "# LumA\n",
    "row_mean = pd.DataFrame(sub_0.mean(axis=0), columns=['mean']).sort_values('mean', inplace=False)\n",
    "row_mean.to_csv('/root/work/multi/brca_sub0_igs_mean')\n",
    "\n",
    "# LumB\n",
    "row_mean = pd.DataFrame(sub_1.mean(axis=0), columns=['mean']).sort_values('mean', inplace=False)\n",
    "row_mean.to_csv('/root/work/multi/brca_sub1_igs_mean')\n",
    "\n",
    "# Basal\n",
    "row_mean = pd.DataFrame(sub_2.mean(axis=0), columns=['mean']).sort_values('mean', inplace=False)\n",
    "row_mean.to_csv('/root/work/multi/brca_sub2_igs_mean')\n",
    "\n",
    "# Her2\n",
    "row_mean = pd.DataFrame(sub_3.mean(axis=0), columns=['mean']).sort_values('mean', inplace=False)\n",
    "row_mean.to_csv('/root/work/multi/brca_sub3_igs_mean')\n",
    "\n",
    "# Normal\n",
    "row_mean = pd.DataFrame(sub_4.mean(axis=0), columns=['mean']).sort_values('mean', inplace=False)\n",
    "row_mean.to_csv('/root/work/multi/brca_sub4_igs_mean')"
   ]
  }
 ],
 "metadata": {
  "interpreter": {
   "hash": "31f2aee4e71d21fbe5cf8b01ff0e069b9275f58929596ceb00d14d90e3e16cd6"
  },
  "kernelspec": {
   "display_name": "Python 3.6.9 64-bit",
   "language": "python",
   "name": "python3"
  },
  "language_info": {
   "codemirror_mode": {
    "name": "ipython",
    "version": 3
   },
   "file_extension": ".py",
   "mimetype": "text/x-python",
   "name": "python",
   "nbconvert_exporter": "python",
   "pygments_lexer": "ipython3",
   "version": "3.6.9"
  },
  "orig_nbformat": 4
 },
 "nbformat": 4,
 "nbformat_minor": 2
}
