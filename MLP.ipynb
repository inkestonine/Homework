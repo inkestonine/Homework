{
 "cells": [
  {
   "cell_type": "code",
   "execution_count": 1,
   "metadata": {},
   "outputs": [],
   "source": [
    "import numpy as np\n",
    "import pandas as pd\n",
    "\n",
    "from sklearn.model_selection import train_test_split\n",
    "\n",
    "from tensorflow import keras as kr\n",
    "from tensorflow.keras import optimizers\n",
    "from tensorflow.keras.models import Sequential\n",
    "from tensorflow.keras.layers import Dense, Dropout\n",
    "\n",
    "import talos\n",
    "\n",
    "import matplotlib.pyplot as plt"
   ]
  },
  {
   "cell_type": "code",
   "execution_count": 2,
   "metadata": {},
   "outputs": [],
   "source": [
    "# upload & joint\n",
    "emb = np.load('/root/work/data/emb_stad_exp32_10.npy')\n",
    "label = pd.read_csv('/root/work/data/STAD/label_met_stad')\n",
    "\n",
    "emb_size = emb.shape[1]"
   ]
  },
  {
   "cell_type": "code",
   "execution_count": 3,
   "metadata": {},
   "outputs": [],
   "source": [
    "label = label[:emb.shape[0]]"
   ]
  },
  {
   "cell_type": "code",
   "execution_count": 6,
   "metadata": {},
   "outputs": [
    {
     "data": {
      "text/plain": [
       "(10, 312640)"
      ]
     },
     "execution_count": 6,
     "metadata": {},
     "output_type": "execute_result"
    }
   ],
   "source": [
    "emb.shape"
   ]
  },
  {
   "cell_type": "code",
   "execution_count": 7,
   "metadata": {},
   "outputs": [],
   "source": [
    "# data preprocessing\n",
    "x = emb\n",
    "\n",
    "# str -> int\n",
    "y = np.array(label['Molecular.Subtype'].map({'CIN':0, 'GS':1, 'MSI':2, 'EBV':3}).astype(int))\n",
    "\n",
    "# int -> onthot\n",
    "def getOnehotLable(old_label):\n",
    "    num_labels = old_label.shape[0]\n",
    "    num_classes=5\n",
    "    index_offset = np.arange(num_labels) * num_classes\n",
    "    labels_one_hot = np.zeros((num_labels, num_classes))\n",
    "    labels_one_hot.flat[index_offset + old_label.ravel()] = 1\n",
    "    return labels_one_hot\n",
    "    \n",
    "y = getOnehotLable(y)"
   ]
  },
  {
   "cell_type": "code",
   "execution_count": 8,
   "metadata": {},
   "outputs": [
    {
     "name": "stdout",
     "output_type": "stream",
     "text": [
      "(7, 312640) (3, 312640) (7, 5) (3, 5)\n"
     ]
    }
   ],
   "source": [
    "seed = 2022\n",
    "np.random.seed(seed)\n",
    "train_x, test_x, train_y, test_y = train_test_split(x, y, test_size=0.25, random_state=seed)\n",
    "print(train_x.shape, test_x.shape, train_y.shape, test_y.shape)"
   ]
  },
  {
   "cell_type": "code",
   "execution_count": 9,
   "metadata": {},
   "outputs": [],
   "source": [
    "model = Sequential()\n",
    "model.add(Dense(2048, input_dim=train_x.shape[1], kernel_initializer='uniform', activation='relu'))\n",
    "# model.add(Dropout(0.1))\n",
    "model.add(Dense(512,kernel_initializer='uniform',activation='relu'))\n",
    "# model.add(Dropout(0.1))\n",
    "model.add(Dense(128,kernel_initializer='uniform',activation='tanh'))\n",
    "model.add(Dense(5,kernel_initializer='uniform',activation='softmax'))\n",
    "\n",
    "model.compile(loss=kr.losses.CategoricalCrossentropy(), optimizer='sgd', metrics=['categorical_accuracy'])\n",
    "sgd = optimizers.SGD(learning_rate=0.0001)"
   ]
  },
  {
   "cell_type": "code",
   "execution_count": 11,
   "metadata": {},
   "outputs": [
    {
     "name": "stdout",
     "output_type": "stream",
     "text": [
      "Epoch 1/20\n",
      "1/1 [==============================] - 1s 698ms/step - loss: 0.5415 - categorical_accuracy: 0.7000\n",
      "Epoch 2/20\n",
      "1/1 [==============================] - 1s 551ms/step - loss: 0.3435 - categorical_accuracy: 1.0000\n",
      "Epoch 3/20\n",
      "1/1 [==============================] - 1s 616ms/step - loss: 0.2722 - categorical_accuracy: 1.0000\n",
      "Epoch 4/20\n",
      "1/1 [==============================] - 0s 451ms/step - loss: 0.2336 - categorical_accuracy: 1.0000\n",
      "Epoch 5/20\n",
      "1/1 [==============================] - 0s 464ms/step - loss: 0.2062 - categorical_accuracy: 1.0000\n",
      "Epoch 6/20\n",
      "1/1 [==============================] - 0s 470ms/step - loss: 0.1872 - categorical_accuracy: 1.0000\n",
      "Epoch 7/20\n",
      "1/1 [==============================] - 0s 457ms/step - loss: 0.1732 - categorical_accuracy: 1.0000\n",
      "Epoch 8/20\n",
      "1/1 [==============================] - 0s 454ms/step - loss: 0.1631 - categorical_accuracy: 1.0000\n",
      "Epoch 9/20\n",
      "1/1 [==============================] - 0s 461ms/step - loss: 0.1543 - categorical_accuracy: 1.0000\n",
      "Epoch 10/20\n",
      "1/1 [==============================] - 0s 453ms/step - loss: 0.1462 - categorical_accuracy: 1.0000\n",
      "Epoch 11/20\n",
      "1/1 [==============================] - 0s 444ms/step - loss: 0.1383 - categorical_accuracy: 1.0000\n",
      "Epoch 12/20\n",
      "1/1 [==============================] - 0s 443ms/step - loss: 0.1315 - categorical_accuracy: 1.0000\n",
      "Epoch 13/20\n",
      "1/1 [==============================] - 0s 473ms/step - loss: 0.1254 - categorical_accuracy: 1.0000\n",
      "Epoch 14/20\n",
      "1/1 [==============================] - 0s 440ms/step - loss: 0.1198 - categorical_accuracy: 1.0000\n",
      "Epoch 15/20\n",
      "1/1 [==============================] - 0s 462ms/step - loss: 0.1148 - categorical_accuracy: 1.0000\n",
      "Epoch 16/20\n",
      "1/1 [==============================] - 0s 484ms/step - loss: 0.1102 - categorical_accuracy: 1.0000\n",
      "Epoch 17/20\n",
      "1/1 [==============================] - 0s 466ms/step - loss: 0.1062 - categorical_accuracy: 1.0000\n",
      "Epoch 18/20\n",
      "1/1 [==============================] - 0s 466ms/step - loss: 0.1025 - categorical_accuracy: 1.0000\n",
      "Epoch 19/20\n",
      "1/1 [==============================] - 0s 443ms/step - loss: 0.0991 - categorical_accuracy: 1.0000\n",
      "Epoch 20/20\n",
      "1/1 [==============================] - 0s 478ms/step - loss: 0.0960 - categorical_accuracy: 1.0000\n"
     ]
    },
    {
     "data": {
      "image/png": "[encoded data removed]",
      "text/plain": [
       "<Figure size 432x288 with 1 Axes>"
      ]
     },
     "metadata": {
      "needs_background": "light"
     },
     "output_type": "display_data"
    },
    {
     "data": {
      "image/png": "[encoded data removed]",
      "text/plain": [
       "<Figure size 432x288 with 1 Axes>"
      ]
     },
     "metadata": {
      "needs_background": "light"
     },
     "output_type": "display_data"
    },
    {
     "name": "stdout",
     "output_type": "stream",
     "text": [
      "1/1 [==============================] - 0s 75ms/step - loss: 0.0969 - categorical_accuracy: 1.0000\n"
     ]
    }
   ],
   "source": [
    "b = 64\n",
    "train_history=model.fit(x,\n",
    "                        y,\n",
    "                        epochs=20,\n",
    "                        #validation_data=(test_x, test_y),\n",
    "                        batch_size=b)\n",
    "\n",
    "loss=train_history.history['loss']\n",
    "acc=train_history.history['categorical_accuracy']\n",
    "epochs=range(0,len(loss))\n",
    "plt.title(\"Train loss\")\n",
    "plt.plot(epochs,loss,'b',label='Trainning loss')\n",
    "# val_loss=train_history.history['val_loss']\n",
    "# val_acc=train_history.history['val_categorical_accuracy']\n",
    "# plt.plot(epochs,val_loss,'r',label='Validation loss')\n",
    "plt.legend(loc='best')\n",
    "plt.figure()\n",
    "plt.title(\"Train acc\")\n",
    "plt.plot(epochs,acc,'b',label='Trainning acc')\n",
    "# plt.plot(epochs,val_acc,'r',label='Validation acc')\n",
    "plt.legend(loc='best')\n",
    "plt.show()\n",
    "\n",
    "scores=model.evaluate(test_x,test_y,batch_size=b)"
   ]
  },
  {
   "cell_type": "code",
   "execution_count": null,
   "metadata": {},
   "outputs": [],
   "source": [
    "def model_16(train_x, train_y, test_x, test_y, params):\n",
    "    model = Sequential()\n",
    "    model.add(Dense(params['first_neuron'], input_dim=train_x.shape[1], kernel_initializer='uniform', activation='relu'))\n",
    "    model.add(Dropout(params['dropout']))\n",
    "    model.add(Dense(params['second_neuron'],kernel_initializer='uniform',activation='relu'))\n",
    "    model.add(Dropout(params['dropout']))\n",
    "    model.add(Dense(params['thrid_neuron'],kernel_initializer='uniform',activation='relu'))\n",
    "    model.add(Dense(4,kernel_initializer='uniform',activation='softmax'))\n",
    "\n",
    "    model.compile(loss='categorical_crossentropy', optimizer='sgd', metrics=['categorical_accuracy', talos.utils.metrics.f1score])\n",
    "    sgd = optimizers.SGD(learning_rate=params['lr'])\n",
    "\n",
    "    train_history=model.fit(train_x,\n",
    "                            train_y,epochs=params['epochs'],\n",
    "                            #validation_data=[test_x, test_y],\n",
    "                            validation_split=0.1,\n",
    "                            batch_size=params['batch_size'])\n",
    "\n",
    "    return train_history, model "
   ]
  },
  {
   "cell_type": "code",
   "execution_count": null,
   "metadata": {},
   "outputs": [],
   "source": [
    "p = {'first_neuron': [1024, 2048],\n",
    "     'second_neuron': [128, 256],\n",
    "     'thrid_neuron':[0, 128],\n",
    "     'dropout': [0, .2, .3],\n",
    "     'lr':[.02, .01, .005, .001, .0001],\n",
    "     'epochs': [20, 50, 100],\n",
    "     'batch_size': [16, 32, 64, 96, 128]\n",
    "     }"
   ]
  },
  {
   "cell_type": "code",
   "execution_count": null,
   "metadata": {},
   "outputs": [],
   "source": [
    "out = talos.Scan(x=train_x, y=train_y, model=model_16, params=p, experiment_name='try_64') #, x_val=test_x, y_val=test_y"
   ]
  },
  {
   "cell_type": "code",
   "execution_count": null,
   "metadata": {},
   "outputs": [],
   "source": [
    "hyperp = out.data\n",
    "hyperp.to_csv('/root/work/data/hyp_16.csv')\n"
   ]
  },
  {
   "cell_type": "code",
   "execution_count": null,
   "metadata": {},
   "outputs": [],
   "source": []
  }
 ],
 "metadata": {
  "interpreter": {
   "hash": "31f2aee4e71d21fbe5cf8b01ff0e069b9275f58929596ceb00d14d90e3e16cd6"
  },
  "kernelspec": {
   "display_name": "Python 3.6.9 64-bit",
   "language": "python",
   "name": "python3"
  },
  "language_info": {
   "codemirror_mode": {
    "name": "ipython",
    "version": 3
   },
   "file_extension": ".py",
   "mimetype": "text/x-python",
   "name": "python",
   "nbconvert_exporter": "python",
   "pygments_lexer": "ipython3",
   "version": "3.6.9"
  },
  "orig_nbformat": 4
 },
 "nbformat": 4,
 "nbformat_minor": 2
}
