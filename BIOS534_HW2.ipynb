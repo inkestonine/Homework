{
  "cells": [
    {
      "cell_type": "markdown",
      "metadata": {
        "id": "view-in-github",
        "colab_type": "text"
      },
      "source": [
        "<a href=\"https://colab.research.google.com/github/inkestonine/cancer-patient-classifier/blob/main/BIOS534_HW2.ipynb\" target=\"_parent\"><img src=\"https://colab.research.google.com/assets/colab-badge.svg\" alt=\"Open In Colab\"/></a>"
      ]
    },
    {
      "cell_type": "markdown",
      "source": [
        "***BIOS 534 - HW2***"
      ],
      "metadata": {
        "id": "1ZdIRSLbDMa0"
      }
    },
    {
      "cell_type": "code",
      "execution_count": null,
      "metadata": {
        "colab": {
          "base_uri": "https://localhost:8080/"
        },
        "id": "l6NlsYvlxFd3",
        "outputId": "2d5f6b2f-fac7-46ec-a122-070bde662fe2"
      },
      "outputs": [
        {
          "name": "stdout",
          "output_type": "stream",
          "text": [
            "pytorch version: 2.2.1+cu121\n",
            "numpy version: 1.25.2\n"
          ]
        }
      ],
      "source": [
        "import torch\n",
        "import numpy as np\n",
        "print(f\"pytorch version: {torch.__version__}\")\n",
        "print(f\"numpy version: {np.__version__}\")"
      ]
    },
    {
      "cell_type": "markdown",
      "metadata": {
        "id": "iw-PXwDaycNv"
      },
      "source": [
        "# 1. Tensor operations in PyTorch"
      ]
    },
    {
      "cell_type": "markdown",
      "metadata": {
        "id": "BgbyuV_0ytvD"
      },
      "source": [
        "## a. Create a 2D tensor (elements drawn from standard normal) and then visualize its dimension. Add a dimension of size 1 inserted at dimension 1."
      ]
    },
    {
      "cell_type": "code",
      "execution_count": null,
      "metadata": {
        "colab": {
          "base_uri": "https://localhost:8080/"
        },
        "id": "Qv4YYCNiysdv",
        "outputId": "e8dc1d9f-67e2-48fc-8550-d7c79251eee2"
      },
      "outputs": [
        {
          "name": "stdout",
          "output_type": "stream",
          "text": [
            "2D tensor: tensor([[ 0.8192, -0.6385],\n",
            "        [ 0.0354, -0.8814]], dtype=torch.float64)\n",
            "The dimension of 2D tensor: torch.Size([2, 2])\n",
            "3D tensor: tensor([[[ 0.8192, -0.6385]],\n",
            "\n",
            "        [[ 0.0354, -0.8814]]], dtype=torch.float64)\n"
          ]
        }
      ],
      "source": [
        "# create a 2d tensor from std nor\n",
        "tensor = torch.from_numpy(np.random.randn(2, 2))\n",
        "print(\"2D tensor:\", tensor)\n",
        "# visualize the dim\n",
        "print(\"The dimension of 2D tensor:\",tensor.shape)\n",
        "# add a dimension of size 1 inserted at dimension 1\n",
        "tensor = tensor.unsqueeze(1)\n",
        "print(\"3D tensor:\", tensor)"
      ]
    },
    {
      "cell_type": "markdown",
      "metadata": {
        "id": "Fnc2xr733FJB"
      },
      "source": [
        "## b. Remove the extra dimension you just added to the previous tensor."
      ]
    },
    {
      "cell_type": "code",
      "execution_count": null,
      "metadata": {
        "colab": {
          "base_uri": "https://localhost:8080/"
        },
        "id": "Nt4dIzjUyb2Y",
        "outputId": "12c4fc67-7b09-4b44-c4e3-f2546e76b7ee"
      },
      "outputs": [
        {
          "data": {
            "text/plain": [
              "torch.Size([2, 2])"
            ]
          },
          "execution_count": 13,
          "metadata": {},
          "output_type": "execute_result"
        }
      ],
      "source": [
        "tensor = tensor.squeeze(1)\n",
        "tensor.shape"
      ]
    },
    {
      "cell_type": "markdown",
      "metadata": {
        "id": "lK7I3utd4b4j"
      },
      "source": [
        "## c. Create a random tensor of shape 5x3 drawn from the standard normal distribution."
      ]
    },
    {
      "cell_type": "code",
      "execution_count": null,
      "metadata": {
        "colab": {
          "base_uri": "https://localhost:8080/"
        },
        "id": "8wbM_jygyXAQ",
        "outputId": "92eb5110-fa79-4cd4-bf84-fd753f2f9a67"
      },
      "outputs": [
        {
          "data": {
            "text/plain": [
              "tensor([[ 0.4394,  1.1920,  0.6703],\n",
              "        [-0.2128,  1.6250,  2.2671],\n",
              "        [ 0.1999, -1.3066, -0.5876],\n",
              "        [-1.0069, -0.6051, -1.2374],\n",
              "        [-0.1764,  1.1277, -0.9946]], dtype=torch.float64)"
            ]
          },
          "execution_count": 14,
          "metadata": {},
          "output_type": "execute_result"
        }
      ],
      "source": [
        "# create a tensor of 5*3 from std nor\n",
        "tensor = torch.from_numpy(np.random.randn(5, 3))\n",
        "tensor"
      ]
    },
    {
      "cell_type": "markdown",
      "metadata": {
        "id": "hjvV4k5M4ySb"
      },
      "source": [
        "## d. Create a random tensor of size (3,1) and horizontally stack four copies together. (the shape of the resulting tensor is (3,4))."
      ]
    },
    {
      "cell_type": "code",
      "execution_count": null,
      "metadata": {
        "colab": {
          "base_uri": "https://localhost:8080/"
        },
        "id": "DHXU_ikI2Cs_",
        "outputId": "2ed828ce-5dc3-4be4-9926-b5fc060ba620"
      },
      "outputs": [
        {
          "name": "stdout",
          "output_type": "stream",
          "text": [
            "tensor([[0.3963],\n",
            "        [0.0558],\n",
            "        [0.7638]])\n"
          ]
        },
        {
          "data": {
            "text/plain": [
              "tensor([[0.3963, 0.3963, 0.3963, 0.3963],\n",
              "        [0.0558, 0.0558, 0.0558, 0.0558],\n",
              "        [0.7638, 0.7638, 0.7638, 0.7638]])"
            ]
          },
          "execution_count": 20,
          "metadata": {},
          "output_type": "execute_result"
        }
      ],
      "source": [
        "tensor = torch.rand(size=(3,1))\n",
        "print(tensor)\n",
        "torch.cat([tensor, tensor, tensor, tensor], dim=1)"
      ]
    },
    {
      "cell_type": "markdown",
      "metadata": {
        "id": "JSFaNTGP7Lh2"
      },
      "source": [
        "# 2. Fully connected neural network"
      ]
    },
    {
      "cell_type": "code",
      "execution_count": null,
      "metadata": {
        "id": "nld5WAjI7zrH"
      },
      "outputs": [],
      "source": [
        "import torch\n",
        "import torch.nn as nn\n",
        "import torch.optim as optim\n",
        "import torch.nn.functional as F\n",
        "import torchvision\n",
        "import torchvision.transforms as transforms\n",
        "\n",
        "import pandas as pd\n",
        "import matplotlib.pyplot as plt\n",
        "import os"
      ]
    },
    {
      "cell_type": "code",
      "execution_count": null,
      "metadata": {
        "colab": {
          "base_uri": "https://localhost:8080/"
        },
        "id": "F6rO3jvm7Zcg",
        "outputId": "29d8e933-78ae-4dc5-b9f5-74ab16cecc5e"
      },
      "outputs": [
        {
          "name": "stdout",
          "output_type": "stream",
          "text": [
            "Downloading http://fashion-mnist.s3-website.eu-central-1.amazonaws.com/train-images-idx3-ubyte.gz\n",
            "Downloading http://fashion-mnist.s3-website.eu-central-1.amazonaws.com/train-images-idx3-ubyte.gz to ./data/FashionMNIST/raw/train-images-idx3-ubyte.gz\n"
          ]
        },
        {
          "name": "stderr",
          "output_type": "stream",
          "text": [
            "100%|██████████| 26421880/26421880 [00:03<00:00, 8109181.56it/s] \n"
          ]
        },
        {
          "name": "stdout",
          "output_type": "stream",
          "text": [
            "Extracting ./data/FashionMNIST/raw/train-images-idx3-ubyte.gz to ./data/FashionMNIST/raw\n",
            "\n",
            "Downloading http://fashion-mnist.s3-website.eu-central-1.amazonaws.com/train-labels-idx1-ubyte.gz\n",
            "Downloading http://fashion-mnist.s3-website.eu-central-1.amazonaws.com/train-labels-idx1-ubyte.gz to ./data/FashionMNIST/raw/train-labels-idx1-ubyte.gz\n"
          ]
        },
        {
          "name": "stderr",
          "output_type": "stream",
          "text": [
            "100%|██████████| 29515/29515 [00:00<00:00, 137604.15it/s]\n"
          ]
        },
        {
          "name": "stdout",
          "output_type": "stream",
          "text": [
            "Extracting ./data/FashionMNIST/raw/train-labels-idx1-ubyte.gz to ./data/FashionMNIST/raw\n",
            "\n",
            "Downloading http://fashion-mnist.s3-website.eu-central-1.amazonaws.com/t10k-images-idx3-ubyte.gz\n",
            "Downloading http://fashion-mnist.s3-website.eu-central-1.amazonaws.com/t10k-images-idx3-ubyte.gz to ./data/FashionMNIST/raw/t10k-images-idx3-ubyte.gz\n"
          ]
        },
        {
          "name": "stderr",
          "output_type": "stream",
          "text": [
            "100%|██████████| 4422102/4422102 [00:01<00:00, 2493481.52it/s]\n"
          ]
        },
        {
          "name": "stdout",
          "output_type": "stream",
          "text": [
            "Extracting ./data/FashionMNIST/raw/t10k-images-idx3-ubyte.gz to ./data/FashionMNIST/raw\n",
            "\n",
            "Downloading http://fashion-mnist.s3-website.eu-central-1.amazonaws.com/t10k-labels-idx1-ubyte.gz\n",
            "Downloading http://fashion-mnist.s3-website.eu-central-1.amazonaws.com/t10k-labels-idx1-ubyte.gz to ./data/FashionMNIST/raw/t10k-labels-idx1-ubyte.gz\n"
          ]
        },
        {
          "name": "stderr",
          "output_type": "stream",
          "text": [
            "100%|██████████| 5148/5148 [00:00<00:00, 4889555.48it/s]"
          ]
        },
        {
          "name": "stdout",
          "output_type": "stream",
          "text": [
            "Extracting ./data/FashionMNIST/raw/t10k-labels-idx1-ubyte.gz to ./data/FashionMNIST/raw\n",
            "\n"
          ]
        },
        {
          "name": "stderr",
          "output_type": "stream",
          "text": [
            "\n"
          ]
        }
      ],
      "source": [
        "# download the fashion mnist dataset\n",
        "train_dataset = torchvision.datasets.FashionMNIST(root='./data', train=True, transform=transforms.ToTensor(),download=True)\n",
        "test_dataset = torchvision.datasets.FashionMNIST(root='./data', train=False,transform=transforms.ToTensor(), download=True)"
      ]
    },
    {
      "cell_type": "markdown",
      "metadata": {
        "id": "aPtIt8DQBRnT"
      },
      "source": [
        "## a. Split 20% of the training set as validation set to monitor the training process. Set the seed to guarantee the reproducibility of the experiment. Report the number of samples in your training, validation and testing set."
      ]
    },
    {
      "cell_type": "code",
      "execution_count": null,
      "metadata": {
        "colab": {
          "base_uri": "https://localhost:8080/"
        },
        "id": "pl7hG91XBDD7",
        "outputId": "1c5a1394-4fdc-48e0-b389-e8bf8d317ae8"
      },
      "outputs": [
        {
          "name": "stdout",
          "output_type": "stream",
          "text": [
            "number samples in train: 48000\n",
            "number samples in val: 12000\n",
            "number samples in test: 10000\n"
          ]
        }
      ],
      "source": [
        "val_proportion = 0.2 # the proportion of samples to be used as validation set\n",
        "\n",
        "random_seed = 20220215 # random seed for reproducibility\n",
        "\n",
        "val_size = int(val_proportion*len(train_dataset))\n",
        "train_size = len(train_dataset) - val_size\n",
        "test_size = len(test_dataset)\n",
        "\n",
        "print(f\"number samples in train: {train_size}\")\n",
        "print(f\"number samples in val: {val_size}\")\n",
        "print(f\"number samples in test: {test_size}\")\n",
        "\n",
        "# further split the entire training set to the training and validation set\n",
        "train_dataset, val_dataset = torch.utils.data.random_split(\n",
        "    dataset=train_dataset,\n",
        "    lengths=[train_size, val_size],\n",
        "    generator=torch.Generator().manual_seed(random_seed))"
      ]
    },
    {
      "cell_type": "code",
      "execution_count": null,
      "metadata": {
        "colab": {
          "base_uri": "https://localhost:8080/"
        },
        "id": "29deIKIaDSg3",
        "outputId": "16cbd594-ba37-49af-bc45-eaf12de7340d"
      },
      "outputs": [
        {
          "data": {
            "text/plain": [
              "[8, 6, 9, 9, 6, 8, 1, 7, 9, 1]"
            ]
          },
          "execution_count": 28,
          "metadata": {},
          "output_type": "execute_result"
        }
      ],
      "source": [
        "# t = [train_dataset[i][1] for i in range(10)]\n",
        "# t"
      ]
    },
    {
      "cell_type": "markdown",
      "metadata": {
        "id": "o3y4TJkP7OtP"
      },
      "source": [
        "## b. What is your assessment strategy?"
      ]
    },
    {
      "cell_type": "markdown",
      "metadata": {
        "id": "sRofxc6ICJOQ"
      },
      "source": [
        "To answer this, you may have to specify a fully connected neural network with different number of linear hidden layers (example for building FC network). The number of neurons in each hidden layer is by your decision. Try with different epochs. (at least three). What is the optimal parameters in your case, please report the results in a table.\n",
        "\n",
        "The network architecture is like following:\n",
        "\n",
        "**input layer -> linear hidden layer (n) -> output layer**"
      ]
    },
    {
      "cell_type": "code",
      "execution_count": 67,
      "metadata": {
        "id": "IX9HG3sL5_54"
      },
      "outputs": [],
      "source": [
        "# model training specifications\n",
        "input_size = 784 # 28*28=784\n",
        "num_classes = 10\n",
        "\n",
        "learning_rate = 0.001\n",
        "batch_size = 32\n",
        "num_workers = 16\n",
        "apply_dropout = False\n",
        "dropout_p = 0.20\n",
        "\n",
        "early_stopping_criteria= 5 # the tolerance level before terminating the training\n",
        "\n",
        "# saved_model_fn = os.path.join('./model', \"best_fcn_model.pt\")"
      ]
    },
    {
      "cell_type": "code",
      "execution_count": 68,
      "metadata": {
        "colab": {
          "base_uri": "https://localhost:8080/",
          "height": 0
        },
        "id": "cYmzMW6eQqUL",
        "outputId": "bca2e115-cbdd-4c91-9e91-c455a222c454"
      },
      "outputs": [
        {
          "output_type": "stream",
          "name": "stderr",
          "text": [
            "/usr/local/lib/python3.10/dist-packages/torch/utils/data/dataloader.py:558: UserWarning: This DataLoader will create 16 worker processes in total. Our suggested max number of worker in current system is 2, which is smaller than what this DataLoader is going to create. Please be aware that excessive worker creation might get DataLoader running slow or even freeze, lower the worker number to avoid potential slowness/freeze if necessary.\n",
            "  warnings.warn(_create_warning_msg(\n"
          ]
        }
      ],
      "source": [
        "train_loader = torch.utils.data.DataLoader(dataset=train_dataset, batch_size=batch_size, shuffle=True, num_workers=num_workers)\n",
        "val_loader = torch.utils.data.DataLoader(dataset=val_dataset, batch_size=batch_size, shuffle=False, num_workers=num_workers)\n",
        "test_loader = torch.utils.data.DataLoader(dataset=test_dataset, batch_size=batch_size, shuffle=False, num_workers=num_workers)"
      ]
    },
    {
      "cell_type": "code",
      "execution_count": null,
      "metadata": {
        "id": "zEjEW_VWIQ-A"
      },
      "outputs": [],
      "source": [
        "class fcnn1(nn.Module):\n",
        "  def __init__(self, input_size, num_classes, apply_dropout=False, dropout_p=0.50, apply_bn=False):\n",
        "    super(fcnn1, self).__init__()\n",
        "\n",
        "    self.fc1 = nn.Linear(input_size, 200)\n",
        "    self.fc2 = nn.Linear(200, 50)\n",
        "    self.fc3 = nn.Linear(50, num_classes)\n",
        "\n",
        "  def forward(self, x):\n",
        "    # hidden layer 1\n",
        "    x = self.fc1(x)\n",
        "    x = F.relu(x)\n",
        "    # hidden layer 2\n",
        "    x = self.fc2(x)\n",
        "    x = F.relu(x)\n",
        "    # output layer\n",
        "    x = self.fc3(x)\n",
        "    return x\n",
        "\n",
        "class fcnn2(nn.Module):\n",
        "  def __init__(self, input_size, num_classes, apply_dropout=False, dropout_p=0.50, apply_bn=False):\n",
        "    super(fcnn2, self).__init__()\n",
        "\n",
        "    self.fc1 = nn.Linear(input_size, 256)\n",
        "    self.fc2 = nn.Linear(256, 64)\n",
        "    self.fc3 = nn.Linear(64, 16)\n",
        "    self.fc4 = nn.Linear(16, num_classes)\n",
        "\n",
        "  def forward(self, x):\n",
        "    # hidden layer 1\n",
        "    x = self.fc1(x)\n",
        "    x = F.relu(x)\n",
        "    # hidden layer 2\n",
        "    x = self.fc2(x)\n",
        "    x = F.relu(x)\n",
        "    # hidden layer 3\n",
        "    x = self.fc3(x)\n",
        "    x = F.relu(x)\n",
        "    # output layer\n",
        "    x = self.fc4(x)\n",
        "    return x\n",
        "\n",
        "model_list = []\n",
        "# collect the models\n",
        "model_list.append(\n",
        "    fcnn1(input_size=input_size,num_classes=num_classes,apply_dropout=apply_dropout,dropout_p=dropout_p)\n",
        ")\n",
        "model_list.append(\n",
        "    fcnn2(input_size=input_size,num_classes=num_classes,apply_dropout=apply_dropout,dropout_p=dropout_p)\n",
        ")\n",
        "\n",
        "# print(model_list)\n"
      ]
    },
    {
      "cell_type": "code",
      "execution_count": 69,
      "metadata": {
        "colab": {
          "base_uri": "https://localhost:8080/",
          "height": 0
        },
        "id": "A8vZLC2QHWKv",
        "outputId": "38ec6fd7-49a5-4343-cc87-1bbf0f2ce7c4"
      },
      "outputs": [
        {
          "output_type": "stream",
          "name": "stdout",
          "text": [
            "number of epoch is:  10\n",
            "Training model_0\n",
            "Saved best model to saved_model_model_0_epochs_10.pt\n",
            "testing loss: 0.349, testing accuracy: 88.170%\n",
            "Training model_1\n"
          ]
        },
        {
          "output_type": "stream",
          "name": "stderr",
          "text": [
            "/usr/local/lib/python3.10/dist-packages/torch/utils/data/dataloader.py:558: UserWarning: This DataLoader will create 16 worker processes in total. Our suggested max number of worker in current system is 2, which is smaller than what this DataLoader is going to create. Please be aware that excessive worker creation might get DataLoader running slow or even freeze, lower the worker number to avoid potential slowness/freeze if necessary.\n",
            "  warnings.warn(_create_warning_msg(\n"
          ]
        },
        {
          "output_type": "stream",
          "name": "stdout",
          "text": [
            "Saved best model to saved_model_model_1_epochs_10.pt\n",
            "testing loss: 0.339, testing accuracy: 88.340%\n",
            "number of epoch is:  15\n",
            "Training model_0\n"
          ]
        },
        {
          "output_type": "stream",
          "name": "stderr",
          "text": [
            "/usr/local/lib/python3.10/dist-packages/torch/utils/data/dataloader.py:558: UserWarning: This DataLoader will create 16 worker processes in total. Our suggested max number of worker in current system is 2, which is smaller than what this DataLoader is going to create. Please be aware that excessive worker creation might get DataLoader running slow or even freeze, lower the worker number to avoid potential slowness/freeze if necessary.\n",
            "  warnings.warn(_create_warning_msg(\n"
          ]
        },
        {
          "output_type": "stream",
          "name": "stdout",
          "text": [
            "Saved best model to saved_model_model_0_epochs_15.pt\n",
            "testing loss: 0.388, testing accuracy: 89.200%\n",
            "Training model_1\n"
          ]
        },
        {
          "output_type": "stream",
          "name": "stderr",
          "text": [
            "/usr/local/lib/python3.10/dist-packages/torch/utils/data/dataloader.py:558: UserWarning: This DataLoader will create 16 worker processes in total. Our suggested max number of worker in current system is 2, which is smaller than what this DataLoader is going to create. Please be aware that excessive worker creation might get DataLoader running slow or even freeze, lower the worker number to avoid potential slowness/freeze if necessary.\n",
            "  warnings.warn(_create_warning_msg(\n"
          ]
        },
        {
          "output_type": "stream",
          "name": "stdout",
          "text": [
            "Saved best model to saved_model_model_1_epochs_15.pt\n",
            "testing loss: 0.394, testing accuracy: 88.060%\n",
            "number of epoch is:  20\n",
            "Training model_0\n"
          ]
        },
        {
          "output_type": "stream",
          "name": "stderr",
          "text": [
            "/usr/local/lib/python3.10/dist-packages/torch/utils/data/dataloader.py:558: UserWarning: This DataLoader will create 16 worker processes in total. Our suggested max number of worker in current system is 2, which is smaller than what this DataLoader is going to create. Please be aware that excessive worker creation might get DataLoader running slow or even freeze, lower the worker number to avoid potential slowness/freeze if necessary.\n",
            "  warnings.warn(_create_warning_msg(\n"
          ]
        },
        {
          "output_type": "stream",
          "name": "stdout",
          "text": [
            "Saved best model to saved_model_model_0_epochs_20.pt\n",
            "testing loss: 0.534, testing accuracy: 88.820%\n",
            "Training model_1\n"
          ]
        },
        {
          "output_type": "stream",
          "name": "stderr",
          "text": [
            "/usr/local/lib/python3.10/dist-packages/torch/utils/data/dataloader.py:558: UserWarning: This DataLoader will create 16 worker processes in total. Our suggested max number of worker in current system is 2, which is smaller than what this DataLoader is going to create. Please be aware that excessive worker creation might get DataLoader running slow or even freeze, lower the worker number to avoid potential slowness/freeze if necessary.\n",
            "  warnings.warn(_create_warning_msg(\n"
          ]
        },
        {
          "output_type": "stream",
          "name": "stdout",
          "text": [
            "Saved best model to saved_model_model_1_epochs_20.pt\n",
            "testing loss: 0.526, testing accuracy: 88.670%\n"
          ]
        }
      ],
      "source": [
        "n = [10, 15, 20]\n",
        "\n",
        "test_accuracy = []\n",
        "for i in n:\n",
        "  num_epochs = i\n",
        "  print(\"number of epoch is: \",num_epochs)\n",
        "\n",
        "  for j, clf in enumerate(model_list):\n",
        "    model_id = f\"model_{j}\"\n",
        "    print(f\"Training {model_id}\")\n",
        "\n",
        "    # instantiate the loss and the optimizer\n",
        "    criterion = nn.CrossEntropyLoss()\n",
        "    optimizer = optim.Adam(clf.parameters(), lr=learning_rate)\n",
        "\n",
        "    train_state = {\n",
        "      \"train_loss\": [],\n",
        "      \"train_acc\": [],\n",
        "      \"val_loss\": [],\n",
        "      \"val_acc\": []\n",
        "    }\n",
        "\n",
        "    best_val_loss = float('inf')\n",
        "    early_stopping_step = 0\n",
        "\n",
        "    # set the path\n",
        "    saved_model_fn = f\"saved_model_{model_id}_epochs_{num_epochs}.pt\"\n",
        "\n",
        "    # training loop\n",
        "    for epoch in range(num_epochs):\n",
        "      running_train_loss = 0.0 # running loss for every 200 steps during training\n",
        "      train_loss = 0.0 # accumulated training loss for the entire epoch\n",
        "      num_train_samples = 0\n",
        "      correct = 0\n",
        "      clf.train() # switch to training mode\n",
        "      # loop over batches\n",
        "      for batch_idx, (images, targets) in enumerate(train_loader):\n",
        "\n",
        "          # reshape the images to appropriate shape\n",
        "          batch_size = images.shape[0]\n",
        "          images = images.reshape(batch_size, -1) #(64, 1, 28, 28)->(64, 28*28)\n",
        "\n",
        "          # forward pass\n",
        "          preds = clf(images)\n",
        "          loss = criterion(preds, targets)\n",
        "\n",
        "          # back prop\n",
        "          optimizer.zero_grad() # clear the calculated gradients from the last batch\n",
        "          loss.backward()\n",
        "\n",
        "          # update model params\n",
        "          optimizer.step()\n",
        "\n",
        "          # evaluate performance for each batch\n",
        "          running_train_loss += loss.item()\n",
        "          train_loss += loss.item() * batch_size\n",
        "          num_train_samples += batch_size\n",
        "          _, pred_labels = torch.max(preds, dim=1) #(64, 10)\n",
        "          correct += (pred_labels==targets).sum().item()\n",
        "\n",
        "      epoch_train_loss= train_loss/num_train_samples\n",
        "      epoch_train_acc= correct/num_train_samples\n",
        "\n",
        "      # evaluate on the validation set every epoch\n",
        "      clf.eval() # switch to evaluation mode\n",
        "      val_loss = 0.0\n",
        "      num_val_samples = 0\n",
        "      correct = 0\n",
        "      for images, targets in val_loader:\n",
        "          # load and reshape the data\n",
        "          batch_size = images.shape[0]\n",
        "          images = images.reshape(batch_size, -1)\n",
        "\n",
        "          # forward pass\n",
        "          preds = clf(images)\n",
        "\n",
        "          loss = criterion(preds, targets)\n",
        "          val_loss += loss.item() * images.shape[0]\n",
        "          num_val_samples += batch_size\n",
        "          # calculate accuracy\n",
        "          preds = clf(images) # shape: [batch, #classes]\n",
        "          _, pred_labels = torch.max(preds, dim=1)\n",
        "          correct += (pred_labels==targets).sum().item()\n",
        "      epoch_val_loss= val_loss/num_val_samples\n",
        "      epoch_val_acc= correct/num_val_samples\n",
        "      # print(f\"[epoch {epoch}] val loss: {epoch_val_loss:.3f}, accuracy: {100*epoch_val_acc:.3f}%\")\n",
        "\n",
        "      # update train_state dict\n",
        "      train_state['train_loss'].append(epoch_train_loss)\n",
        "      train_state['train_acc'].append(epoch_train_acc)\n",
        "      train_state['val_loss'].append(epoch_val_loss)\n",
        "      train_state['val_acc'].append(epoch_val_acc)\n",
        "\n",
        "    # saved best model\n",
        "    torch.save(clf.state_dict(), saved_model_fn)\n",
        "    print(f\"Saved best model to {saved_model_fn}\")\n",
        "\n",
        "    # evaluate on testing set\n",
        "    clf.eval()\n",
        "    test_loss = 0.0\n",
        "    num_test_samples = 0\n",
        "    correct = 0\n",
        "    for images, targets in test_loader:\n",
        "        batch_size = images.shape[0]\n",
        "        images = images.reshape(batch_size, -1)\n",
        "        preds = clf(images)\n",
        "        loss = criterion(preds, targets)\n",
        "        test_loss += loss.item() * images.shape[0]\n",
        "        num_test_samples += batch_size\n",
        "        # calculate accuracy\n",
        "        preds = clf(images)\n",
        "        _, pred_labels = torch.max(preds, dim=1)\n",
        "        correct += (pred_labels==targets).sum().item()\n",
        "    print(f\"testing loss: {test_loss/num_test_samples:.3f}, testing accuracy: {100*correct/num_test_samples:.3f}%\")\n",
        "    train_state_df = pd.DataFrame(train_state)\n",
        "    # print(train_state_df.round(3))\n",
        "    test_accuracy.append((i,clf,correct/num_test_samples))"
      ]
    },
    {
      "cell_type": "code",
      "execution_count": 72,
      "metadata": {
        "colab": {
          "base_uri": "https://localhost:8080/",
          "height": 398
        },
        "id": "bh64l1QxySth",
        "outputId": "b670b77c-df17-486a-e6af-93319926175f"
      },
      "outputs": [
        {
          "output_type": "execute_result",
          "data": {
            "text/plain": [
              "    0                                                  1       2\n",
              "0  10  fcnn1(\\n  (fc1): Linear(in_features=784, out_f...  0.8817\n",
              "1  10  fcnn2(\\n  (fc1): Linear(in_features=784, out_f...  0.8834\n",
              "2  15  fcnn1(\\n  (fc1): Linear(in_features=784, out_f...  0.8920\n",
              "3  15  fcnn2(\\n  (fc1): Linear(in_features=784, out_f...  0.8806\n",
              "4  20  fcnn1(\\n  (fc1): Linear(in_features=784, out_f...  0.8882\n",
              "5  20  fcnn2(\\n  (fc1): Linear(in_features=784, out_f...  0.8867"
            ],
            "text/html": [
              "\n",
              "  <div id=\"df-0b631195-90da-4dbe-8924-64549cd25a36\" class=\"colab-df-container\">\n",
              "    <div>\n",
              "<style scoped>\n",
              "    .dataframe tbody tr th:only-of-type {\n",
              "        vertical-align: middle;\n",
              "    }\n",
              "\n",
              "    .dataframe tbody tr th {\n",
              "        vertical-align: top;\n",
              "    }\n",
              "\n",
              "    .dataframe thead th {\n",
              "        text-align: right;\n",
              "    }\n",
              "</style>\n",
              "<table border=\"1\" class=\"dataframe\">\n",
              "  <thead>\n",
              "    <tr style=\"text-align: right;\">\n",
              "      <th></th>\n",
              "      <th>0</th>\n",
              "      <th>1</th>\n",
              "      <th>2</th>\n",
              "    </tr>\n",
              "  </thead>\n",
              "  <tbody>\n",
              "    <tr>\n",
              "      <th>0</th>\n",
              "      <td>10</td>\n",
              "      <td>fcnn1(\\n  (fc1): Linear(in_features=784, out_f...</td>\n",
              "      <td>0.8817</td>\n",
              "    </tr>\n",
              "    <tr>\n",
              "      <th>1</th>\n",
              "      <td>10</td>\n",
              "      <td>fcnn2(\\n  (fc1): Linear(in_features=784, out_f...</td>\n",
              "      <td>0.8834</td>\n",
              "    </tr>\n",
              "    <tr>\n",
              "      <th>2</th>\n",
              "      <td>15</td>\n",
              "      <td>fcnn1(\\n  (fc1): Linear(in_features=784, out_f...</td>\n",
              "      <td>0.8920</td>\n",
              "    </tr>\n",
              "    <tr>\n",
              "      <th>3</th>\n",
              "      <td>15</td>\n",
              "      <td>fcnn2(\\n  (fc1): Linear(in_features=784, out_f...</td>\n",
              "      <td>0.8806</td>\n",
              "    </tr>\n",
              "    <tr>\n",
              "      <th>4</th>\n",
              "      <td>20</td>\n",
              "      <td>fcnn1(\\n  (fc1): Linear(in_features=784, out_f...</td>\n",
              "      <td>0.8882</td>\n",
              "    </tr>\n",
              "    <tr>\n",
              "      <th>5</th>\n",
              "      <td>20</td>\n",
              "      <td>fcnn2(\\n  (fc1): Linear(in_features=784, out_f...</td>\n",
              "      <td>0.8867</td>\n",
              "    </tr>\n",
              "  </tbody>\n",
              "</table>\n",
              "</div>\n",
              "    <div class=\"colab-df-buttons\">\n",
              "\n",
              "  <div class=\"colab-df-container\">\n",
              "    <button class=\"colab-df-convert\" onclick=\"convertToInteractive('df-0b631195-90da-4dbe-8924-64549cd25a36')\"\n",
              "            title=\"Convert this dataframe to an interactive table.\"\n",
              "            style=\"display:none;\">\n",
              "\n",
              "  <svg xmlns=\"http://www.w3.org/2000/svg\" height=\"24px\" viewBox=\"0 -960 960 960\">\n",
              "    <path d=\"M120-120v-720h720v720H120Zm60-500h600v-160H180v160Zm220 220h160v-160H400v160Zm0 220h160v-160H400v160ZM180-400h160v-160H180v160Zm440 0h160v-160H620v160ZM180-180h160v-160H180v160Zm440 0h160v-160H620v160Z\"/>\n",
              "  </svg>\n",
              "    </button>\n",
              "\n",
              "  <style>\n",
              "    .colab-df-container {\n",
              "      display:flex;\n",
              "      gap: 12px;\n",
              "    }\n",
              "\n",
              "    .colab-df-convert {\n",
              "      background-color: #E8F0FE;\n",
              "      border: none;\n",
              "      border-radius: 50%;\n",
              "      cursor: pointer;\n",
              "      display: none;\n",
              "      fill: #1967D2;\n",
              "      height: 32px;\n",
              "      padding: 0 0 0 0;\n",
              "      width: 32px;\n",
              "    }\n",
              "\n",
              "    .colab-df-convert:hover {\n",
              "      background-color: #E2EBFA;\n",
              "      box-shadow: 0px 1px 2px rgba(60, 64, 67, 0.3), 0px 1px 3px 1px rgba(60, 64, 67, 0.15);\n",
              "      fill: #174EA6;\n",
              "    }\n",
              "\n",
              "    .colab-df-buttons div {\n",
              "      margin-bottom: 4px;\n",
              "    }\n",
              "\n",
              "    [theme=dark] .colab-df-convert {\n",
              "      background-color: #3B4455;\n",
              "      fill: #D2E3FC;\n",
              "    }\n",
              "\n",
              "    [theme=dark] .colab-df-convert:hover {\n",
              "      background-color: #434B5C;\n",
              "      box-shadow: 0px 1px 3px 1px rgba(0, 0, 0, 0.15);\n",
              "      filter: drop-shadow(0px 1px 2px rgba(0, 0, 0, 0.3));\n",
              "      fill: #FFFFFF;\n",
              "    }\n",
              "  </style>\n",
              "\n",
              "    <script>\n",
              "      const buttonEl =\n",
              "        document.querySelector('#df-0b631195-90da-4dbe-8924-64549cd25a36 button.colab-df-convert');\n",
              "      buttonEl.style.display =\n",
              "        google.colab.kernel.accessAllowed ? 'block' : 'none';\n",
              "\n",
              "      async function convertToInteractive(key) {\n",
              "        const element = document.querySelector('#df-0b631195-90da-4dbe-8924-64549cd25a36');\n",
              "        const dataTable =\n",
              "          await google.colab.kernel.invokeFunction('convertToInteractive',\n",
              "                                                    [key], {});\n",
              "        if (!dataTable) return;\n",
              "\n",
              "        const docLinkHtml = 'Like what you see? Visit the ' +\n",
              "          '<a target=\"_blank\" href=https://colab.research.google.com/notebooks/data_table.ipynb>data table notebook</a>'\n",
              "          + ' to learn more about interactive tables.';\n",
              "        element.innerHTML = '';\n",
              "        dataTable['output_type'] = 'display_data';\n",
              "        await google.colab.output.renderOutput(dataTable, element);\n",
              "        const docLink = document.createElement('div');\n",
              "        docLink.innerHTML = docLinkHtml;\n",
              "        element.appendChild(docLink);\n",
              "      }\n",
              "    </script>\n",
              "  </div>\n",
              "\n",
              "\n",
              "<div id=\"df-1edbe946-7ca5-4018-b84e-63844f7f0280\">\n",
              "  <button class=\"colab-df-quickchart\" onclick=\"quickchart('df-1edbe946-7ca5-4018-b84e-63844f7f0280')\"\n",
              "            title=\"Suggest charts\"\n",
              "            style=\"display:none;\">\n",
              "\n",
              "<svg xmlns=\"http://www.w3.org/2000/svg\" height=\"24px\"viewBox=\"0 0 24 24\"\n",
              "     width=\"24px\">\n",
              "    <g>\n",
              "        <path d=\"M19 3H5c-1.1 0-2 .9-2 2v14c0 1.1.9 2 2 2h14c1.1 0 2-.9 2-2V5c0-1.1-.9-2-2-2zM9 17H7v-7h2v7zm4 0h-2V7h2v10zm4 0h-2v-4h2v4z\"/>\n",
              "    </g>\n",
              "</svg>\n",
              "  </button>\n",
              "\n",
              "<style>\n",
              "  .colab-df-quickchart {\n",
              "      --bg-color: #E8F0FE;\n",
              "      --fill-color: #1967D2;\n",
              "      --hover-bg-color: #E2EBFA;\n",
              "      --hover-fill-color: #174EA6;\n",
              "      --disabled-fill-color: #AAA;\n",
              "      --disabled-bg-color: #DDD;\n",
              "  }\n",
              "\n",
              "  [theme=dark] .colab-df-quickchart {\n",
              "      --bg-color: #3B4455;\n",
              "      --fill-color: #D2E3FC;\n",
              "      --hover-bg-color: #434B5C;\n",
              "      --hover-fill-color: #FFFFFF;\n",
              "      --disabled-bg-color: #3B4455;\n",
              "      --disabled-fill-color: #666;\n",
              "  }\n",
              "\n",
              "  .colab-df-quickchart {\n",
              "    background-color: var(--bg-color);\n",
              "    border: none;\n",
              "    border-radius: 50%;\n",
              "    cursor: pointer;\n",
              "    display: none;\n",
              "    fill: var(--fill-color);\n",
              "    height: 32px;\n",
              "    padding: 0;\n",
              "    width: 32px;\n",
              "  }\n",
              "\n",
              "  .colab-df-quickchart:hover {\n",
              "    background-color: var(--hover-bg-color);\n",
              "    box-shadow: 0 1px 2px rgba(60, 64, 67, 0.3), 0 1px 3px 1px rgba(60, 64, 67, 0.15);\n",
              "    fill: var(--button-hover-fill-color);\n",
              "  }\n",
              "\n",
              "  .colab-df-quickchart-complete:disabled,\n",
              "  .colab-df-quickchart-complete:disabled:hover {\n",
              "    background-color: var(--disabled-bg-color);\n",
              "    fill: var(--disabled-fill-color);\n",
              "    box-shadow: none;\n",
              "  }\n",
              "\n",
              "  .colab-df-spinner {\n",
              "    border: 2px solid var(--fill-color);\n",
              "    border-color: transparent;\n",
              "    border-bottom-color: var(--fill-color);\n",
              "    animation:\n",
              "      spin 1s steps(1) infinite;\n",
              "  }\n",
              "\n",
              "  @keyframes spin {\n",
              "    0% {\n",
              "      border-color: transparent;\n",
              "      border-bottom-color: var(--fill-color);\n",
              "      border-left-color: var(--fill-color);\n",
              "    }\n",
              "    20% {\n",
              "      border-color: transparent;\n",
              "      border-left-color: var(--fill-color);\n",
              "      border-top-color: var(--fill-color);\n",
              "    }\n",
              "    30% {\n",
              "      border-color: transparent;\n",
              "      border-left-color: var(--fill-color);\n",
              "      border-top-color: var(--fill-color);\n",
              "      border-right-color: var(--fill-color);\n",
              "    }\n",
              "    40% {\n",
              "      border-color: transparent;\n",
              "      border-right-color: var(--fill-color);\n",
              "      border-top-color: var(--fill-color);\n",
              "    }\n",
              "    60% {\n",
              "      border-color: transparent;\n",
              "      border-right-color: var(--fill-color);\n",
              "    }\n",
              "    80% {\n",
              "      border-color: transparent;\n",
              "      border-right-color: var(--fill-color);\n",
              "      border-bottom-color: var(--fill-color);\n",
              "    }\n",
              "    90% {\n",
              "      border-color: transparent;\n",
              "      border-bottom-color: var(--fill-color);\n",
              "    }\n",
              "  }\n",
              "</style>\n",
              "\n",
              "  <script>\n",
              "    async function quickchart(key) {\n",
              "      const quickchartButtonEl =\n",
              "        document.querySelector('#' + key + ' button');\n",
              "      quickchartButtonEl.disabled = true;  // To prevent multiple clicks.\n",
              "      quickchartButtonEl.classList.add('colab-df-spinner');\n",
              "      try {\n",
              "        const charts = await google.colab.kernel.invokeFunction(\n",
              "            'suggestCharts', [key], {});\n",
              "      } catch (error) {\n",
              "        console.error('Error during call to suggestCharts:', error);\n",
              "      }\n",
              "      quickchartButtonEl.classList.remove('colab-df-spinner');\n",
              "      quickchartButtonEl.classList.add('colab-df-quickchart-complete');\n",
              "    }\n",
              "    (() => {\n",
              "      let quickchartButtonEl =\n",
              "        document.querySelector('#df-1edbe946-7ca5-4018-b84e-63844f7f0280 button');\n",
              "      quickchartButtonEl.style.display =\n",
              "        google.colab.kernel.accessAllowed ? 'block' : 'none';\n",
              "    })();\n",
              "  </script>\n",
              "</div>\n",
              "\n",
              "    </div>\n",
              "  </div>\n"
            ],
            "application/vnd.google.colaboratory.intrinsic+json": {
              "type": "dataframe",
              "summary": "{\n  \"name\": \"pd\",\n  \"rows\": 6,\n  \"fields\": [\n    {\n      \"column\": 0,\n      \"properties\": {\n        \"dtype\": \"number\",\n        \"std\": 4,\n        \"min\": 10,\n        \"max\": 20,\n        \"num_unique_values\": 3,\n        \"samples\": [\n          10,\n          15,\n          20\n        ],\n        \"semantic_type\": \"\",\n        \"description\": \"\"\n      }\n    },\n    {\n      \"column\": 1,\n      \"properties\": {\n        \"dtype\": \"category\",\n        \"num_unique_values\": 2,\n        \"samples\": [\n          \"fcnn2(\\n  (fc1): Linear(in_features=784, out_features=256, bias=True)\\n  (fc2): Linear(in_features=256, out_features=64, bias=True)\\n  (fc3): Linear(in_features=64, out_features=16, bias=True)\\n  (fc4): Linear(in_features=16, out_features=10, bias=True)\\n)\",\n          \"fcnn1(\\n  (fc1): Linear(in_features=784, out_features=200, bias=True)\\n  (fc2): Linear(in_features=200, out_features=50, bias=True)\\n  (fc3): Linear(in_features=50, out_features=10, bias=True)\\n)\"\n        ],\n        \"semantic_type\": \"\",\n        \"description\": \"\"\n      }\n    },\n    {\n      \"column\": 2,\n      \"properties\": {\n        \"dtype\": \"number\",\n        \"std\": 0.0043315893926671525,\n        \"min\": 0.8806,\n        \"max\": 0.892,\n        \"num_unique_values\": 6,\n        \"samples\": [\n          0.8817,\n          0.8834\n        ],\n        \"semantic_type\": \"\",\n        \"description\": \"\"\n      }\n    }\n  ]\n}"
            }
          },
          "metadata": {},
          "execution_count": 72
        }
      ],
      "source": [
        "pd.DataFrame(test_accuracy)"
      ]
    },
    {
      "cell_type": "markdown",
      "metadata": {
        "id": "8nuP9NtQHfUU"
      },
      "source": [
        "**Based on the above table, I choose model with index of 3 (number of epochs=15, number of neurons in hidden layer = 200/50)**"
      ]
    },
    {
      "cell_type": "markdown",
      "metadata": {
        "id": "KIakt91ZqVcC"
      },
      "source": [
        "## c. Please state the following reasoning for building your classifier: your choice of non-linear activation function (choice from 'sigmoid', 'relu', 'tanh', etc.) and the loss function for back-propagation."
      ]
    },
    {
      "cell_type": "markdown",
      "metadata": {
        "id": "3wYNcspIqkmy"
      },
      "source": [
        "Activation function: Relu for hidden layers (quick & effective), Softmax for output layers (already built into CrossEntropyLoss)\n",
        "\n",
        "Loss function: CrossEntropyLoss (multiclassifier)"
      ]
    },
    {
      "cell_type": "markdown",
      "metadata": {
        "id": "Gzbtjitr7ATj"
      },
      "source": [
        "## d. Plot the learning curves of loss and report the testing accuracy. You can use the average loss from each epoch to plot it."
      ]
    },
    {
      "cell_type": "code",
      "execution_count": 60,
      "metadata": {
        "id": "KF9lwwivf81T"
      },
      "outputs": [],
      "source": [
        "def plot_learning_curves(train_hist_df, title):\n",
        "    num_epoch = train_hist_df.shape[0]\n",
        "    train_hist_df.plot(figsize=(8, 5), title=title, xticks=range(1, num_epoch+1, 3))\n",
        "    plt.grid(True)\n",
        "    ymin, ymax = 0.95 * train_hist_df.values.min(), min(1.1 * train_hist_df.values.max(), 1.0)\n",
        "    plt.gca().set_ylim(ymin, ymax)\n",
        "    plt.show()"
      ]
    },
    {
      "cell_type": "code",
      "execution_count": 62,
      "metadata": {
        "colab": {
          "base_uri": "https://localhost:8080/",
          "height": 938
        },
        "id": "g42i6bw2CFqY",
        "outputId": "1b6359fa-50b3-4fb8-94d4-3bf2f86e74a6"
      },
      "outputs": [
        {
          "output_type": "stream",
          "name": "stdout",
          "text": [
            "testing loss: 0.417, testing accuracy: 88.420%\n"
          ]
        },
        {
          "output_type": "display_data",
          "data": {
            "text/plain": [
              "<Figure size 800x500 with 1 Axes>"
            ],
            "image/png": "[encoded data removed]"
          },
          "metadata": {}
        },
        {
          "output_type": "display_data",
          "data": {
            "text/plain": [
              "<Figure size 800x500 with 1 Axes>"
            ],
            "image/png": "[encoded data removed]"
          },
          "metadata": {}
        }
      ],
      "source": [
        "num_epochs = 15\n",
        "\n",
        "clf = fcnn1(input_size=input_size,num_classes=num_classes,apply_dropout=apply_dropout,dropout_p=dropout_p)\n",
        "\n",
        "criterion = nn.CrossEntropyLoss()\n",
        "optimizer = optim.Adam(clf.parameters(), lr=learning_rate)\n",
        "\n",
        "train_state = {\n",
        "    \"train_loss\": [],\n",
        "    \"train_acc\": [],\n",
        "    \"val_loss\": [],\n",
        "    \"val_acc\": []\n",
        "    }\n",
        "\n",
        "best_val_loss = float('inf')\n",
        "\n",
        "# training loop\n",
        "for epoch in range(num_epochs):\n",
        "  running_train_loss = 0.0\n",
        "  train_loss = 0.0\n",
        "  num_train_samples = 0\n",
        "  correct = 0\n",
        "  clf.train() # switch to training mode\n",
        "  # loop over batches\n",
        "  for batch_idx, (images, targets) in enumerate(train_loader):\n",
        "\n",
        "    # reshape the images to appropriate shape\n",
        "    batch_size = images.shape[0]\n",
        "    images = images.reshape(batch_size, -1) #(64, 1, 28, 28)->(64, 28*28)\n",
        "\n",
        "    # forward pass\n",
        "    preds = clf(images)\n",
        "    loss = criterion(preds, targets)\n",
        "\n",
        "    # back prop\n",
        "    optimizer.zero_grad() # clear the calculated gradients from the last batch\n",
        "    loss.backward()\n",
        "\n",
        "    # update model params\n",
        "    optimizer.step()\n",
        "\n",
        "    # evaluate performance for each batch\n",
        "    running_train_loss += loss.item()\n",
        "    train_loss += loss.item() * batch_size\n",
        "    num_train_samples += batch_size\n",
        "    _, pred_labels = torch.max(preds, dim=1) #(64, 10)\n",
        "    correct += (pred_labels==targets).sum().item()\n",
        "\n",
        "  epoch_train_loss= train_loss/num_train_samples\n",
        "  epoch_train_acc= correct/num_train_samples\n",
        "\n",
        "  # evaluate on the validation set every epoch\n",
        "  clf.eval() # switch to evaluation mode\n",
        "  val_loss = 0.0\n",
        "  num_val_samples = 0\n",
        "  correct = 0\n",
        "  for images, targets in val_loader:\n",
        "    # load and reshape the data\n",
        "    batch_size = images.shape[0]\n",
        "    images = images.reshape(batch_size, -1)\n",
        "\n",
        "    # forward pass\n",
        "    preds = clf(images)\n",
        "\n",
        "    loss = criterion(preds, targets)\n",
        "    val_loss += loss.item() * images.shape[0]\n",
        "    num_val_samples += batch_size\n",
        "    # calculate accuracy\n",
        "    preds = clf(images) # shape: [batch, #classes]\n",
        "    _, pred_labels = torch.max(preds, dim=1)\n",
        "    correct += (pred_labels==targets).sum().item()\n",
        "  epoch_val_loss= val_loss/num_val_samples\n",
        "  epoch_val_acc= correct/num_val_samples\n",
        "\n",
        "  # update train_state dict\n",
        "  train_state['train_loss'].append(epoch_train_loss)\n",
        "  train_state['train_acc'].append(epoch_train_acc)\n",
        "  train_state['val_loss'].append(epoch_val_loss)\n",
        "  train_state['val_acc'].append(epoch_val_acc)\n",
        "\n",
        "# evaluate on testing set\n",
        "clf.eval()\n",
        "test_loss = 0.0\n",
        "num_test_samples = 0\n",
        "correct = 0\n",
        "for images, targets in test_loader:\n",
        "  batch_size = images.shape[0]\n",
        "  images = images.reshape(batch_size, -1)\n",
        "  preds = clf(images)\n",
        "  loss = criterion(preds, targets)\n",
        "  test_loss += loss.item() * images.shape[0]\n",
        "  num_test_samples += batch_size\n",
        "  # calculate accuracy\n",
        "  preds = clf(images)\n",
        "  _, pred_labels = torch.max(preds, dim=1)\n",
        "  correct += (pred_labels==targets).sum().item()\n",
        "print(f\"testing loss: {test_loss/num_test_samples:.3f}, testing accuracy: {100*correct/num_test_samples:.3f}%\")\n",
        "\n",
        "train_state_df = pd.DataFrame(train_state)\n",
        "# print(train_state_df.round(3))\n",
        "plot_learning_curves(train_state_df[['train_loss', 'val_loss']], \"Loss Curve\")\n",
        "plot_learning_curves(train_state_df[['train_acc', 'val_acc']], \"Accuracy Curve\")"
      ]
    },
    {
      "cell_type": "markdown",
      "metadata": {
        "id": "Hj7bwtpOCSlj"
      },
      "source": [
        "## e. Keep the same setting of hyper-parameters you have in your optimal model from problem 2. (number of neurons, non-linear activation function, optimizer, learning rate) and Answer the following questions:"
      ]
    },
    {
      "cell_type": "markdown",
      "metadata": {
        "id": "GnMAyPocCeJS"
      },
      "source": [
        "### 1) Have you observed the overfitting problem in your model? Why does this happen?"
      ]
    },
    {
      "cell_type": "markdown",
      "metadata": {
        "id": "kRKieRnnRGBZ"
      },
      "source": [
        "Yes, the feature dataset is too small, and probably the model is correspondingly too complex."
      ]
    },
    {
      "cell_type": "markdown",
      "metadata": {
        "id": "JRbfx_lDChOE"
      },
      "source": [
        "### 2) Please add dropout with your preferred drop rate in your model. Show the difference of learning curves after you have experimented with your workaround in the model."
      ]
    },
    {
      "cell_type": "code",
      "execution_count": 57,
      "metadata": {
        "id": "AjUdO7FaLlrJ"
      },
      "outputs": [],
      "source": [
        "class fcnn3(nn.Module):\n",
        "  def __init__(self, input_size, num_classes, apply_dropout=False, dropout_p=0.20, apply_bn=False):\n",
        "    super(fcnn3, self).__init__()\n",
        "    self.apply_dropout = True\n",
        "\n",
        "    self.fc1 = nn.Linear(input_size, 200)\n",
        "    self.fc2 = nn.Linear(200, 50)\n",
        "    self.fc3 = nn.Linear(50, num_classes)\n",
        "    self.dropout = nn.Dropout(p=dropout_p)\n",
        "\n",
        "  def forward(self, x):\n",
        "    # hidden layer 1\n",
        "    x = self.fc1(x)\n",
        "    x = F.relu(x)\n",
        "    if self.apply_dropout: x = self.dropout(x)\n",
        "    # hidden layer 2\n",
        "    x = self.fc2(x)\n",
        "    x = F.relu(x)\n",
        "    if self.apply_dropout: x = self.dropout(x)\n",
        "    # output layer\n",
        "    x = self.fc3(x)\n",
        "    return x"
      ]
    },
    {
      "cell_type": "code",
      "execution_count": 63,
      "metadata": {
        "colab": {
          "base_uri": "https://localhost:8080/",
          "height": 995
        },
        "id": "FE1REOm1LR4p",
        "outputId": "6403e8c7-1f52-4d19-9914-a67c3b17b3c1"
      },
      "outputs": [
        {
          "output_type": "stream",
          "name": "stderr",
          "text": [
            "/usr/local/lib/python3.10/dist-packages/torch/utils/data/dataloader.py:558: UserWarning: This DataLoader will create 16 worker processes in total. Our suggested max number of worker in current system is 2, which is smaller than what this DataLoader is going to create. Please be aware that excessive worker creation might get DataLoader running slow or even freeze, lower the worker number to avoid potential slowness/freeze if necessary.\n",
            "  warnings.warn(_create_warning_msg(\n"
          ]
        },
        {
          "output_type": "stream",
          "name": "stdout",
          "text": [
            "testing loss: 0.352, testing accuracy: 88.260%\n"
          ]
        },
        {
          "output_type": "display_data",
          "data": {
            "text/plain": [
              "<Figure size 800x500 with 1 Axes>"
            ],
            "image/png": "[encoded data removed]"
          },
          "metadata": {}
        },
        {
          "output_type": "display_data",
          "data": {
            "text/plain": [
              "<Figure size 800x500 with 1 Axes>"
            ],
            "image/png": "[encoded data removed]"
          },
          "metadata": {}
        }
      ],
      "source": [
        "num_epochs = 15\n",
        "\n",
        "clf = fcnn3(input_size=input_size,num_classes=num_classes,apply_dropout=apply_dropout,dropout_p=dropout_p)\n",
        "\n",
        "criterion = nn.CrossEntropyLoss()\n",
        "optimizer = optim.Adam(clf.parameters(), lr=learning_rate)\n",
        "\n",
        "train_state = {\n",
        "    \"train_loss\": [],\n",
        "    \"train_acc\": [],\n",
        "    \"val_loss\": [],\n",
        "    \"val_acc\": []\n",
        "    }\n",
        "\n",
        "best_val_loss = float('inf')\n",
        "\n",
        "# training loop\n",
        "for epoch in range(num_epochs):\n",
        "  running_train_loss = 0.0\n",
        "  train_loss = 0.0\n",
        "  num_train_samples = 0\n",
        "  correct = 0\n",
        "  clf.train() # switch to training mode\n",
        "  # loop over batches\n",
        "  for batch_idx, (images, targets) in enumerate(train_loader):\n",
        "\n",
        "    # reshape the images to appropriate shape\n",
        "    batch_size = images.shape[0]\n",
        "    images = images.reshape(batch_size, -1) #(64, 1, 28, 28)->(64, 28*28)\n",
        "\n",
        "    # forward pass\n",
        "    preds = clf(images)\n",
        "    loss = criterion(preds, targets)\n",
        "\n",
        "    # back prop\n",
        "    optimizer.zero_grad() # clear the calculated gradients from the last batch\n",
        "    loss.backward()\n",
        "\n",
        "    # update model params\n",
        "    optimizer.step()\n",
        "\n",
        "    # evaluate performance for each batch\n",
        "    running_train_loss += loss.item()\n",
        "    train_loss += loss.item() * batch_size\n",
        "    num_train_samples += batch_size\n",
        "    _, pred_labels = torch.max(preds, dim=1) #(64, 10)\n",
        "    correct += (pred_labels==targets).sum().item()\n",
        "\n",
        "  epoch_train_loss= train_loss/num_train_samples\n",
        "  epoch_train_acc= correct/num_train_samples\n",
        "\n",
        "  # evaluate on the validation set every epoch\n",
        "  clf.eval() # switch to evaluation mode\n",
        "  val_loss = 0.0\n",
        "  num_val_samples = 0\n",
        "  correct = 0\n",
        "  for images, targets in val_loader:\n",
        "    # load and reshape the data\n",
        "    batch_size = images.shape[0]\n",
        "    images = images.reshape(batch_size, -1)\n",
        "\n",
        "    # forward pass\n",
        "    preds = clf(images)\n",
        "\n",
        "    loss = criterion(preds, targets)\n",
        "    val_loss += loss.item() * images.shape[0]\n",
        "    num_val_samples += batch_size\n",
        "    # calculate accuracy\n",
        "    preds = clf(images) # shape: [batch, #classes]\n",
        "    _, pred_labels = torch.max(preds, dim=1)\n",
        "    correct += (pred_labels==targets).sum().item()\n",
        "  epoch_val_loss= val_loss/num_val_samples\n",
        "  epoch_val_acc= correct/num_val_samples\n",
        "  # print(f\"[epoch {epoch}] val loss: {epoch_val_loss:.3f}, accuracy: {100*epoch_val_acc:.3f}%\")\n",
        "\n",
        "  # update train_state dict\n",
        "  train_state['train_loss'].append(epoch_train_loss)\n",
        "  train_state['train_acc'].append(epoch_train_acc)\n",
        "  train_state['val_loss'].append(epoch_val_loss)\n",
        "  train_state['val_acc'].append(epoch_val_acc)\n",
        "\n",
        "\n",
        "\n",
        "# evaluate on testing set\n",
        "clf.eval()\n",
        "test_loss = 0.0\n",
        "num_test_samples = 0\n",
        "correct = 0\n",
        "for images, targets in test_loader:\n",
        "  batch_size = images.shape[0]\n",
        "  images = images.reshape(batch_size, -1)\n",
        "  preds = clf(images)\n",
        "  loss = criterion(preds, targets)\n",
        "  test_loss += loss.item() * images.shape[0]\n",
        "  num_test_samples += batch_size\n",
        "  # calculate accuracy\n",
        "  preds = clf(images)\n",
        "  _, pred_labels = torch.max(preds, dim=1)\n",
        "  correct += (pred_labels==targets).sum().item()\n",
        "print(f\"testing loss: {test_loss/num_test_samples:.3f}, testing accuracy: {100*correct/num_test_samples:.3f}%\")\n",
        "\n",
        "train_state_df = pd.DataFrame(train_state)\n",
        "# print(train_state_df.round(3))\n",
        "plot_learning_curves(train_state_df[['train_loss', 'val_loss']], \"Loss Curve\")\n",
        "plot_learning_curves(train_state_df[['train_acc', 'val_acc']], \"Accuracy Curve\")"
      ]
    },
    {
      "cell_type": "markdown",
      "metadata": {
        "id": "P6pHtbPbCkxE"
      },
      "source": [
        "### 3) Why can dropout alleviate overfitting problem? What is the difference when you apply dropout during the training and the testing (evaluation) phase?"
      ]
    },
    {
      "cell_type": "markdown",
      "metadata": {
        "id": "MzcAPTL4SL_P"
      },
      "source": [
        "The dropout could decrease the complexity of the model, then alleviate overfitting.\n",
        "\n",
        "There was no overfitting observed. The trend of validation loss was generally downward with dropout, while it was a little upward without dropout. The training and validation accuracy tended to be the same with dropout, while they were more seperated without dropout."
      ]
    },
    {
      "cell_type": "markdown",
      "metadata": {
        "id": "17Tilk4KWkQL"
      },
      "source": [
        "# 3. Convolutional neural network\n",
        "In this section, you will build a convolutional neural network with following architecture (example for building CNN):\n",
        "\n",
        "**input -> conv1 -> max pool -> flatten -> fc1 -> output**\n",
        "\n",
        "Remember to set the same seed that you have for question 2 (fully connected neural network) so that the experiment result is comparable."
      ]
    },
    {
      "cell_type": "code",
      "execution_count": null,
      "metadata": {
        "id": "2Nfdhfc1WY9t"
      },
      "outputs": [],
      "source": [
        "class cnn1(nn.Module):\n",
        "    def __init__(self, in_channels, num_classes):\n",
        "        super(cnn1, self).__init__()\n",
        "\n",
        "        self.conv1 = nn.Conv2d(in_channels=in_channels, out_channels=12, kernel_size=3)\n",
        "\n",
        "        self.pool = nn.MaxPool2d(2, 2)\n",
        "\n",
        "        self.fc1 = nn.Linear(12 * 13 * 13, num_classes)\n",
        "\n",
        "    def forward(self, x):\n",
        "        # conv layer\n",
        "        x = F.relu(self.conv1(x))\n",
        "        x = self.pool(x)\n",
        "        # flatten\n",
        "        x = x.view(-1, 12 * 13 * 13)\n",
        "        # fc layer\n",
        "        x = self.fc1(x)\n",
        "        return x"
      ]
    },
    {
      "cell_type": "code",
      "execution_count": null,
      "metadata": {
        "colab": {
          "base_uri": "https://localhost:8080/"
        },
        "id": "QPaSXxZ2i-MR",
        "outputId": "6bf43f36-ae78-4f60-88d2-389dffde54aa"
      },
      "outputs": [
        {
          "name": "stdout",
          "output_type": "stream",
          "text": [
            "torch.Size([64, 10])\n"
          ]
        }
      ],
      "source": [
        "x = torch.randn(64, 1, 28, 28) # fake data with the same shape as batch input\n",
        "model = cnn1(in_channels=1, num_classes=10)\n",
        "out = model(x)\n",
        "print(out.shape)"
      ]
    },
    {
      "cell_type": "markdown",
      "metadata": {
        "id": "NSiqcqIPXBE7"
      },
      "source": [
        "## a. Build and train the convolutional neural network as requested. Draw the learning curves of average loss over epochs and report the testing accuracy."
      ]
    },
    {
      "cell_type": "code",
      "execution_count": 64,
      "metadata": {
        "id": "XsH8Po86dvc_"
      },
      "outputs": [],
      "source": [
        "batch_size = 64\n",
        "num_epochs = 20\n",
        "\n",
        "in_channels = 1 # fashion-mnist image only has 1 channel\n",
        "\n",
        "random_seed = 20220215 # random seed same with fcnn"
      ]
    },
    {
      "cell_type": "code",
      "execution_count": 65,
      "metadata": {
        "colab": {
          "base_uri": "https://localhost:8080/",
          "height": 0
        },
        "id": "QdT7f2CXZ5IV",
        "outputId": "05c5309b-e70e-4100-b090-72af4f75b0ff"
      },
      "outputs": [
        {
          "output_type": "stream",
          "name": "stderr",
          "text": [
            "/usr/local/lib/python3.10/dist-packages/torch/utils/data/dataloader.py:558: UserWarning: This DataLoader will create 16 worker processes in total. Our suggested max number of worker in current system is 2, which is smaller than what this DataLoader is going to create. Please be aware that excessive worker creation might get DataLoader running slow or even freeze, lower the worker number to avoid potential slowness/freeze if necessary.\n",
            "  warnings.warn(_create_warning_msg(\n"
          ]
        }
      ],
      "source": [
        "train_loader = torch.utils.data.DataLoader(dataset=train_dataset, batch_size=batch_size, shuffle=True, num_workers=num_workers)\n",
        "val_loader = torch.utils.data.DataLoader(dataset=val_dataset, batch_size=batch_size, shuffle=False, num_workers=num_workers)\n",
        "test_loader = torch.utils.data.DataLoader(dataset=test_dataset, batch_size=batch_size, shuffle=False, num_workers=num_workers)"
      ]
    },
    {
      "cell_type": "code",
      "execution_count": null,
      "metadata": {
        "colab": {
          "background_save": true
        },
        "id": "ztTz6BWCelyn",
        "outputId": "c4900bc3-c36f-42d4-e6e2-c40880f0b93e"
      },
      "outputs": [
        {
          "name": "stdout",
          "output_type": "stream",
          "text": [
            "testing loss: 0.295, testing accuracy: 89.710%\n"
          ]
        },
        {
          "data": {
            "image/png": "[encoded data removed]",
            "text/plain": [
              "<Figure size 800x500 with 1 Axes>"
            ]
          },
          "metadata": {},
          "output_type": "display_data"
        },
        {
          "data": {
            "image/png": "[encoded data removed]",
            "text/plain": [
              "<Figure size 800x500 with 1 Axes>"
            ]
          },
          "metadata": {},
          "output_type": "display_data"
        }
      ],
      "source": [
        "clf = cnn1(in_channels=in_channels, num_classes=num_classes)\n",
        "\n",
        "criterion = nn.CrossEntropyLoss()\n",
        "optimizer = optim.Adam(clf.parameters(), lr=learning_rate)\n",
        "\n",
        "train_state = {\n",
        "    \"train_loss\": [],\n",
        "    \"train_acc\": [],\n",
        "    \"val_loss\": [],\n",
        "    \"val_acc\": []\n",
        "}\n",
        "\n",
        "best_val_loss = float('inf')\n",
        "early_stopping_step = 0\n",
        "\n",
        "for epoch in range(num_epochs):\n",
        "    running_train_loss = 0.0 # running loss for every 200 steps during training\n",
        "    train_loss = 0.0 # accumulated training loss for the entire epoch\n",
        "    num_train_samples = 0\n",
        "    correct = 0\n",
        "    clf.train() # switch to training mode\n",
        "    for batch_idx, (images, targets) in enumerate(train_loader):\n",
        "\n",
        "        # reshape the images to proper shape\n",
        "        batch_size = images.shape[0]\n",
        "\n",
        "        # forward pass\n",
        "        preds = clf(images)\n",
        "        loss = criterion(preds, targets)\n",
        "\n",
        "        # back prop\n",
        "        optimizer.zero_grad()\n",
        "        loss.backward()\n",
        "\n",
        "        # update model params\n",
        "        optimizer.step()\n",
        "\n",
        "        # evaluate performance for each batch\n",
        "        running_train_loss += loss.item()\n",
        "        train_loss += loss.item() * batch_size\n",
        "        num_train_samples += batch_size\n",
        "        _, pred_labels = torch.max(preds, dim=1)\n",
        "        correct += (pred_labels==targets).sum().item()\n",
        "\n",
        "    epoch_train_loss= train_loss/num_train_samples\n",
        "    epoch_train_acc= correct/num_train_samples\n",
        "\n",
        "    # evaluate on the validation set every epoch\n",
        "    clf.eval() # switch to evaluation mode\n",
        "    val_loss = 0.0\n",
        "    num_val_samples = 0\n",
        "    correct = 0\n",
        "    for images, targets in val_loader:\n",
        "        batch_size = images.shape[0]\n",
        "        preds = clf(images)\n",
        "        loss = criterion(preds, targets)\n",
        "        val_loss += loss.item() * images.shape[0]\n",
        "        num_val_samples += batch_size\n",
        "        # calculate accuracy\n",
        "        preds = clf(images)\n",
        "        _, pred_labels = torch.max(preds, dim=1)\n",
        "        correct += (pred_labels==targets).sum().item()\n",
        "    epoch_val_loss= val_loss/num_val_samples\n",
        "    epoch_val_acc= correct/num_val_samples\n",
        "    # print(f\"[epoch {epoch}] val loss: {epoch_val_loss:.3f}, accuracy: {100*epoch_val_acc:.3f}%\")\n",
        "\n",
        "    # update train_state dict\n",
        "    train_state['train_loss'].append(epoch_train_loss)\n",
        "    train_state['train_acc'].append(epoch_train_acc)\n",
        "    train_state['val_loss'].append(epoch_val_loss)\n",
        "    train_state['val_acc'].append(epoch_val_acc)\n",
        "\n",
        "clf.eval()\n",
        "test_loss = 0.0\n",
        "num_test_samples = 0\n",
        "correct = 0\n",
        "for images, targets in test_loader:\n",
        "    batch_size = images.shape[0]\n",
        "    preds = clf(images)\n",
        "    loss = criterion(preds, targets)\n",
        "    test_loss += loss.item() * images.shape[0]\n",
        "    num_test_samples += batch_size\n",
        "    # calculate accuracy\n",
        "    preds = clf(images)\n",
        "    _, pred_labels = torch.max(preds, dim=1)\n",
        "    correct += (pred_labels==targets).sum().item()\n",
        "print(f\"testing loss: {test_loss/num_test_samples:.3f}, testing accuracy: {100*correct/num_test_samples:.3f}%\")\n",
        "\n",
        "train_state_df = pd.DataFrame(train_state)\n",
        "# print(train_state_df.round(3))\n",
        "plot_learning_curves(train_state_df[['train_loss', 'val_loss']], \"Loss Curve\")\n",
        "plot_learning_curves(train_state_df[['train_acc', 'val_acc']], \"Accuracy Curve\")"
      ]
    },
    {
      "cell_type": "markdown",
      "metadata": {
        "id": "RVpyvMxqXFKH"
      },
      "source": [
        "## b. Add another convolutional layer and pool layer to your current model. Do you notice any difference between these two CNN models?"
      ]
    },
    {
      "cell_type": "code",
      "execution_count": null,
      "metadata": {
        "id": "JOWXlCGWmfz1"
      },
      "outputs": [],
      "source": [
        "class cnn2(nn.Module):\n",
        "    def __init__(self, in_channels, num_classes):\n",
        "        super(cnn2, self).__init__()\n",
        "\n",
        "        self.conv1 = nn.Conv2d(in_channels=in_channels, out_channels=12, kernel_size=3)\n",
        "        self.conv2 = nn.Conv2d(12, 48, 4)\n",
        "        self.pool = nn.MaxPool2d(2, 2)\n",
        "        self.fc1 = nn.Linear(48 * 5 * 5, 100)\n",
        "        self.fc2 = nn.Linear(100, num_classes)\n",
        "\n",
        "    def forward(self, x):\n",
        "        x = F.relu(self.conv1(x)) #（1,28,28）->(12,26,26)\n",
        "        x = self.pool(x) #(12,26,26)->(12,13,13)\n",
        "        x = F.relu(self.conv2(x)) #（12,13,13）->(48,10,10)\n",
        "        x = self.pool(x) #(48,10,10)->(48,5,5)\n",
        "        x = x.view(-1, 48 * 5 * 5)\n",
        "        x = F.relu(self.fc1(x))\n",
        "        x = self.fc2(x)\n",
        "        return x"
      ]
    },
    {
      "cell_type": "code",
      "execution_count": null,
      "metadata": {
        "colab": {
          "base_uri": "https://localhost:8080/"
        },
        "id": "nVm3QQSqmfot",
        "outputId": "4c607a6c-8a79-4a81-edb3-08f1db29f190"
      },
      "outputs": [
        {
          "name": "stdout",
          "output_type": "stream",
          "text": [
            "torch.Size([64, 10])\n"
          ]
        }
      ],
      "source": [
        "x = torch.randn(64, 1, 28, 28) # fake data with the same shape as batch input\n",
        "model = cnn2(in_channels=1, num_classes=10)\n",
        "out = model(x)\n",
        "print(out.shape)"
      ]
    },
    {
      "cell_type": "code",
      "execution_count": 66,
      "metadata": {
        "colab": {
          "base_uri": "https://localhost:8080/",
          "height": 938
        },
        "id": "JEl_rrvfmfe5",
        "outputId": "19015612-a92e-401f-bc77-060e0bfc5661"
      },
      "outputs": [
        {
          "output_type": "stream",
          "name": "stdout",
          "text": [
            "testing loss: 0.325, testing accuracy: 91.230%\n"
          ]
        },
        {
          "output_type": "display_data",
          "data": {
            "text/plain": [
              "<Figure size 800x500 with 1 Axes>"
            ],
            "image/png": "[encoded data removed]"
          },
          "metadata": {}
        },
        {
          "output_type": "display_data",
          "data": {
            "text/plain": [
              "<Figure size 800x500 with 1 Axes>"
            ],
            "image/png": "[encoded data removed]"
          },
          "metadata": {}
        }
      ],
      "source": [
        "clf = cnn2(in_channels=in_channels, num_classes=num_classes)\n",
        "\n",
        "criterion = nn.CrossEntropyLoss()\n",
        "optimizer = optim.Adam(clf.parameters(), lr=learning_rate)\n",
        "\n",
        "train_state = {\n",
        "    \"train_loss\": [],\n",
        "    \"train_acc\": [],\n",
        "    \"val_loss\": [],\n",
        "    \"val_acc\": []\n",
        "}\n",
        "\n",
        "best_val_loss = float('inf')\n",
        "early_stopping_step = 0\n",
        "\n",
        "for epoch in range(num_epochs):\n",
        "    running_train_loss = 0.0 # running loss for every 200 steps during training\n",
        "    train_loss = 0.0 # accumulated training loss for the entire epoch\n",
        "    num_train_samples = 0\n",
        "    correct = 0\n",
        "    clf.train() # switch to training mode\n",
        "    for batch_idx, (images, targets) in enumerate(train_loader):\n",
        "\n",
        "        # reshape the images to proper shape\n",
        "        batch_size = images.shape[0]\n",
        "\n",
        "        # forward pass\n",
        "        preds = clf(images)\n",
        "        loss = criterion(preds, targets)\n",
        "\n",
        "        # back prop\n",
        "        optimizer.zero_grad()\n",
        "        loss.backward()\n",
        "\n",
        "        # update model params\n",
        "        optimizer.step()\n",
        "\n",
        "        # evaluate performance for each batch\n",
        "        running_train_loss += loss.item()\n",
        "        train_loss += loss.item() * batch_size\n",
        "        num_train_samples += batch_size\n",
        "        _, pred_labels = torch.max(preds, dim=1)\n",
        "        correct += (pred_labels==targets).sum().item()\n",
        "\n",
        "    epoch_train_loss= train_loss/num_train_samples\n",
        "    epoch_train_acc= correct/num_train_samples\n",
        "\n",
        "    # evaluate on the validation set every epoch\n",
        "    clf.eval() # switch to evaluation mode\n",
        "    val_loss = 0.0\n",
        "    num_val_samples = 0\n",
        "    correct = 0\n",
        "    for images, targets in val_loader:\n",
        "        batch_size = images.shape[0]\n",
        "        preds = clf(images)\n",
        "        loss = criterion(preds, targets)\n",
        "        val_loss += loss.item() * images.shape[0]\n",
        "        num_val_samples += batch_size\n",
        "        # calculate accuracy\n",
        "        preds = clf(images)\n",
        "        _, pred_labels = torch.max(preds, dim=1)\n",
        "        correct += (pred_labels==targets).sum().item()\n",
        "    epoch_val_loss= val_loss/num_val_samples\n",
        "    epoch_val_acc= correct/num_val_samples\n",
        "    # print(f\"[epoch {epoch}] val loss: {epoch_val_loss:.3f}, accuracy: {100*epoch_val_acc:.3f}%\")\n",
        "\n",
        "    # update train_state dict\n",
        "    train_state['train_loss'].append(epoch_train_loss)\n",
        "    train_state['train_acc'].append(epoch_train_acc)\n",
        "    train_state['val_loss'].append(epoch_val_loss)\n",
        "    train_state['val_acc'].append(epoch_val_acc)\n",
        "\n",
        "clf.eval()\n",
        "test_loss = 0.0\n",
        "num_test_samples = 0\n",
        "correct = 0\n",
        "for images, targets in test_loader:\n",
        "    batch_size = images.shape[0]\n",
        "    preds = clf(images)\n",
        "    loss = criterion(preds, targets)\n",
        "    test_loss += loss.item() * images.shape[0]\n",
        "    num_test_samples += batch_size\n",
        "    # calculate accuracy\n",
        "    preds = clf(images)\n",
        "    _, pred_labels = torch.max(preds, dim=1)\n",
        "    correct += (pred_labels==targets).sum().item()\n",
        "print(f\"testing loss: {test_loss/num_test_samples:.3f}, testing accuracy: {100*correct/num_test_samples:.3f}%\")\n",
        "\n",
        "train_state_df = pd.DataFrame(train_state)\n",
        "# print(train_state_df.round(3))\n",
        "plot_learning_curves(train_state_df[['train_loss', 'val_loss']], \"Loss Curve\")\n",
        "plot_learning_curves(train_state_df[['train_acc', 'val_acc']], \"Accuracy Curve\")"
      ]
    },
    {
      "cell_type": "markdown",
      "metadata": {
        "id": "fAKAMLgTpZ1v"
      },
      "source": [
        "The second CNN have higher test accuracy, but tends to overfitting."
      ]
    },
    {
      "cell_type": "markdown",
      "metadata": {
        "id": "Qbu9XG8oXIhq"
      },
      "source": [
        "## c. Do you observe any improvement for the evaluation result compared to problem 2? Why does convolutional neural network have advantages over feedforward fully connected neural network in this task (Please state at least two reasons)"
      ]
    },
    {
      "cell_type": "markdown",
      "metadata": {
        "id": "AhzHV3BInOH8"
      },
      "source": [
        "Yes, the test accuracy is higher, the loss is lower and the model is still underfitting with the same number of epoch in the CNN compared with FCNN.\n",
        "\n",
        "CNN connect and share parameters to reduce workload, which makes it quicker.\n",
        "Plus, CNN could break down images into simple pieces and put them together to recognize complex stuff, making them great at handling different angles and sizes of objects in images."
      ]
    }
  ],
  "metadata": {
    "colab": {
      "provenance": [],
      "authorship_tag": "ABX9TyPeKEAYYDyg7WosuXFm730I",
      "include_colab_link": true
    },
    "kernelspec": {
      "display_name": "Python 3",
      "name": "python3"
    },
    "language_info": {
      "name": "python"
    }
  },
  "nbformat": 4,
  "nbformat_minor": 0
}
