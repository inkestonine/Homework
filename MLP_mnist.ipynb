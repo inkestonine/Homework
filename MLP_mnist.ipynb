{
 "cells": [
  {
   "cell_type": "code",
   "execution_count": 1,
   "metadata": {},
   "outputs": [
    {
     "name": "stderr",
     "output_type": "stream",
     "text": [
      "/usr/lib/python3.6/importlib/_bootstrap.py:219: RuntimeWarning: numpy.ufunc size changed, may indicate binary incompatibility. Expected 192 from C header, got 216 from PyObject\n",
      "  return f(*args, **kwds)\n"
     ]
    }
   ],
   "source": [
    "import numpy as np\n",
    "import pandas as pd\n",
    "\n",
    "from tensorflow import keras as kr\n",
    "from tensorflow.keras import optimizers\n",
    "from tensorflow.keras.models import Sequential\n",
    "from tensorflow.keras.layers import Dense, Dropout\n",
    "\n",
    "from tensorflow.keras.datasets import mnist\n",
    "from keras.utils import np_utils\n",
    "\n",
    "import talos\n",
    "\n",
    "import matplotlib.pyplot as plt"
   ]
  },
  {
   "cell_type": "code",
   "execution_count": 5,
   "metadata": {},
   "outputs": [],
   "source": [
    "(X_train, y_train), (X_test, y_test) = mnist.load_data()\n",
    "num_pixels = X_train.shape[1] * X_train.shape[2]\n",
    "X_train = X_train.reshape(X_train.shape[0], num_pixels).astype('float32')\n",
    "X_test = X_test.reshape(X_test.shape[0], num_pixels).astype('float32')\n",
    "X_train = X_train / 255\n",
    "X_test = X_test / 255\n",
    "y_train = np_utils.to_categorical(y_train)\n",
    "y_test = np_utils.to_categorical(y_test)\n",
    "num_classes = y_test.shape[1]\n"
   ]
  },
  {
   "cell_type": "code",
   "execution_count": 13,
   "metadata": {},
   "outputs": [],
   "source": [
    "model = Sequential()\n",
    "model.add(Dense(1024, input_dim=X_train.shape[1], kernel_initializer='uniform', activation='relu'))\n",
    "model.add(Dropout(0.1))\n",
    "model.add(Dense(512,kernel_initializer='uniform',activation='relu'))\n",
    "model.add(Dropout(0.1))\n",
    "model.add(Dense(128,kernel_initializer='uniform',activation='tanh'))\n",
    "model.add(Dense(num_classes,kernel_initializer='uniform',activation='softmax'))\n",
    "\n",
    "model.compile(loss=kr.losses.CategoricalCrossentropy(), optimizer='sgd', metrics=['categorical_accuracy'])\n",
    "sgd = optimizers.SGD(learning_rate=0.0001)"
   ]
  },
  {
   "cell_type": "code",
   "execution_count": 14,
   "metadata": {},
   "outputs": [
    {
     "name": "stdout",
     "output_type": "stream",
     "text": [
      "Epoch 1/5\n",
      "3375/3375 [==============================] - 19s 6ms/step - loss: 0.8509 - categorical_accuracy: 0.7782 - val_loss: 0.2633 - val_categorical_accuracy: 0.9252\n",
      "Epoch 2/5\n",
      "3375/3375 [==============================] - 19s 6ms/step - loss: 0.2695 - categorical_accuracy: 0.9208 - val_loss: 0.1642 - val_categorical_accuracy: 0.9525\n",
      "Epoch 3/5\n",
      "3375/3375 [==============================] - 19s 6ms/step - loss: 0.1870 - categorical_accuracy: 0.9452 - val_loss: 0.1266 - val_categorical_accuracy: 0.9638\n",
      "Epoch 4/5\n",
      "3375/3375 [==============================] - 19s 6ms/step - loss: 0.1421 - categorical_accuracy: 0.9584 - val_loss: 0.1031 - val_categorical_accuracy: 0.9707\n",
      "Epoch 5/5\n",
      "3375/3375 [==============================] - 19s 6ms/step - loss: 0.1137 - categorical_accuracy: 0.9667 - val_loss: 0.0940 - val_categorical_accuracy: 0.9735\n"
     ]
    },
    {
     "data": {
      "image/png": "[encoded data removed]",
      "text/plain": [
       "<Figure size 432x288 with 1 Axes>"
      ]
     },
     "metadata": {
      "needs_background": "light"
     },
     "output_type": "display_data"
    },
    {
     "data": {
      "image/png": "[encoded data removed]",
      "text/plain": [
       "<Figure size 432x288 with 1 Axes>"
      ]
     },
     "metadata": {
      "needs_background": "light"
     },
     "output_type": "display_data"
    },
    {
     "ename": "NameError",
     "evalue": "name 'test_x' is not defined",
     "output_type": "error",
     "traceback": [
      "\u001b[0;31m---------------------------------------------------------------------------\u001b[0m",
      "\u001b[0;31mNameError\u001b[0m                                 Traceback (most recent call last)",
      "\u001b[0;32m<ipython-input-14-7e82d6b105d9>\u001b[0m in \u001b[0;36m<module>\u001b[0;34m\u001b[0m\n\u001b[1;32m     23\u001b[0m \u001b[0mplt\u001b[0m\u001b[0;34m.\u001b[0m\u001b[0mshow\u001b[0m\u001b[0;34m(\u001b[0m\u001b[0;34m)\u001b[0m\u001b[0;34m\u001b[0m\u001b[0;34m\u001b[0m\u001b[0m\n\u001b[1;32m     24\u001b[0m \u001b[0;34m\u001b[0m\u001b[0m\n\u001b[0;32m---> 25\u001b[0;31m \u001b[0mscores\u001b[0m\u001b[0;34m=\u001b[0m\u001b[0mmodel\u001b[0m\u001b[0;34m.\u001b[0m\u001b[0mevaluate\u001b[0m\u001b[0;34m(\u001b[0m\u001b[0mtest_x\u001b[0m\u001b[0;34m,\u001b[0m\u001b[0mtest_y\u001b[0m\u001b[0;34m,\u001b[0m\u001b[0mbatch_size\u001b[0m\u001b[0;34m=\u001b[0m\u001b[0mb\u001b[0m\u001b[0;34m)\u001b[0m\u001b[0;34m\u001b[0m\u001b[0;34m\u001b[0m\u001b[0m\n\u001b[0m",
      "\u001b[0;31mNameError\u001b[0m: name 'test_x' is not defined"
     ]
    }
   ],
   "source": [
    "b = 16\n",
    "train_history=model.fit(X_train,\n",
    "                        y_train,\n",
    "                        epochs=5,\n",
    "                        validation_data=(X_test, y_train),\n",
    "                        batch_size=b)\n",
    "\n",
    "loss=train_history.history['loss']\n",
    "acc=train_history.history['categorical_accuracy']\n",
    "epochs=range(0,len(loss))\n",
    "plt.title(\"Train loss\")\n",
    "plt.plot(epochs,loss,'b',label='Trainning loss')\n",
    "val_loss=train_history.history['val_loss']\n",
    "val_acc=train_history.history['val_categorical_accuracy']\n",
    "plt.plot(epochs,val_loss,'r',label='Validation loss')\n",
    "plt.legend(loc='best')\n",
    "plt.figure()\n",
    "plt.title(\"Train acc\")\n",
    "plt.plot(epochs,acc,'b',label='Trainning acc')\n",
    "plt.plot(epochs,val_acc,'r',label='Validation acc')\n",
    "plt.legend(loc='best')\n",
    "plt.show()\n",
    "\n",
    "scores=model.evaluate(X_test,y_train,batch_size=b)"
   ]
  },
  {
   "cell_type": "code",
   "execution_count": 10,
   "metadata": {},
   "outputs": [],
   "source": [
    "def model_minst(train_x, train_y, test_x, test_y, params):\n",
    "    model = Sequential()\n",
    "    model.add(Dense(params['first_neuron'], input_dim=train_x.shape[1], kernel_initializer='uniform', activation='relu'))\n",
    "    model.add(Dropout(params['dropout']))\n",
    "    model.add(Dense(params['second_neuron'],kernel_initializer='uniform',activation='relu'))\n",
    "    model.add(Dropout(params['dropout']))\n",
    "    model.add(Dense(params['thrid_neuron'],kernel_initializer='uniform',activation='relu'))\n",
    "    model.add(Dense(num_classes,kernel_initializer='uniform',activation='softmax'))\n",
    "\n",
    "    model.compile(loss='categorical_crossentropy', optimizer='sgd', metrics=['categorical_accuracy', talos.utils.metrics.f1score])\n",
    "    sgd = optimizers.SGD(learning_rate=params['lr'])\n",
    "\n",
    "    train_history=model.fit(train_x,\n",
    "                            train_y,epochs=params['epochs'],\n",
    "                            validation_data=(test_x, test_y),\n",
    "                            batch_size=params['batch_size'])\n",
    "\n",
    "    return train_history, model "
   ]
  },
  {
   "cell_type": "code",
   "execution_count": 11,
   "metadata": {},
   "outputs": [],
   "source": [
    "p = {'first_neuron': [1024, 2048],\n",
    "     'second_neuron': [128, 256],\n",
    "     'thrid_neuron':[0, 128],\n",
    "     'dropout': [0, .2, .5],\n",
    "     'lr':[.02, .01, .001, .0001],\n",
    "     'epochs': [20, 50],\n",
    "     'batch_size': [32, 64, 96, 128]\n",
    "     }"
   ]
  },
  {
   "cell_type": "code",
   "execution_count": 12,
   "metadata": {},
   "outputs": [
    {
     "name": "stderr",
     "output_type": "stream",
     "text": []
    },
    {
     "name": "stdout",
     "output_type": "stream",
     "text": [
      "Epoch 1/10\n",
      "7/7 [==============================] - 2s 206ms/step - loss: 1.9188 - acc: 0.4902 - f1score: 0.3630 - val_loss: 1.3697 - val_acc: 0.5000 - val_f1score: 0.0000e+00\n",
      "Epoch 2/10\n",
      "7/7 [==============================] - 1s 179ms/step - loss: 1.2698 - acc: 0.4804 - f1score: 0.3032 - val_loss: 1.3435 - val_acc: 0.5000 - val_f1score: 0.1250\n",
      "Epoch 3/10\n",
      "7/7 [==============================] - 1s 182ms/step - loss: 1.1735 - acc: 0.5392 - f1score: 0.4025 - val_loss: 1.3558 - val_acc: 0.5000 - val_f1score: 0.5000\n",
      "Epoch 4/10\n",
      "7/7 [==============================] - 1s 180ms/step - loss: 1.2029 - acc: 0.5490 - f1score: 0.3757 - val_loss: 1.5638 - val_acc: 0.5000 - val_f1score: 0.5000\n",
      "Epoch 5/10\n",
      "7/7 [==============================] - 1s 178ms/step - loss: 1.1732 - acc: 0.5588 - f1score: 0.4229 - val_loss: 1.4142 - val_acc: 0.5000 - val_f1score: 0.5000\n",
      "Epoch 6/10\n",
      "7/7 [==============================] - 1s 177ms/step - loss: 1.1140 - acc: 0.5294 - f1score: 0.3867 - val_loss: 1.3360 - val_acc: 0.5000 - val_f1score: 0.0000e+00\n",
      "Epoch 7/10\n",
      "7/7 [==============================] - 1s 174ms/step - loss: 1.1151 - acc: 0.5392 - f1score: 0.3892 - val_loss: 1.2145 - val_acc: 0.5000 - val_f1score: 0.5000\n",
      "Epoch 8/10\n",
      "7/7 [==============================] - 1s 213ms/step - loss: 1.1154 - acc: 0.5588 - f1score: 0.4338 - val_loss: 1.5767 - val_acc: 0.3333 - val_f1score: 0.0000e+00\n",
      "Epoch 9/10\n",
      "7/7 [==============================] - 1s 183ms/step - loss: 1.1015 - acc: 0.5392 - f1score: 0.4747 - val_loss: 1.2250 - val_acc: 0.5000 - val_f1score: 0.1538\n",
      "Epoch 10/10\n",
      "7/7 [==============================] - 1s 177ms/step - loss: 1.0280 - acc: 0.6176 - f1score: 0.4987 - val_loss: 1.7220 - val_acc: 0.5000 - val_f1score: 0.5000\n"
     ]
    },
    {
     "name": "stderr",
     "output_type": "stream",
     "text": []
    },
    {
     "name": "stdout",
     "output_type": "stream",
     "text": [
      "Epoch 1/10\n",
      "7/7 [==============================] - 2s 201ms/step - loss: 2.3910 - acc: 0.4216 - f1score: 0.2980 - val_loss: 1.2896 - val_acc: 0.5000 - val_f1score: 0.0000e+00\n",
      "Epoch 2/10\n",
      "7/7 [==============================] - 1s 176ms/step - loss: 1.2632 - acc: 0.5294 - f1score: 0.3408 - val_loss: 1.1878 - val_acc: 0.5000 - val_f1score: 0.1538\n",
      "Epoch 3/10\n",
      "7/7 [==============================] - 1s 174ms/step - loss: 1.1857 - acc: 0.5392 - f1score: 0.3869 - val_loss: 1.3968 - val_acc: 0.2500 - val_f1score: 0.0000e+00\n",
      "Epoch 4/10\n",
      "7/7 [==============================] - 1s 192ms/step - loss: 1.3227 - acc: 0.4804 - f1score: 0.1940 - val_loss: 1.3446 - val_acc: 0.3333 - val_f1score: 0.0000e+00\n",
      "Epoch 5/10\n",
      "7/7 [==============================] - 1s 171ms/step - loss: 1.2014 - acc: 0.5392 - f1score: 0.2492 - val_loss: 1.3034 - val_acc: 0.5000 - val_f1score: 0.1538\n",
      "Epoch 6/10\n",
      "7/7 [==============================] - 1s 177ms/step - loss: 1.1571 - acc: 0.5196 - f1score: 0.4141 - val_loss: 1.3393 - val_acc: 0.2500 - val_f1score: 0.0000e+00\n",
      "Epoch 7/10\n",
      "7/7 [==============================] - 1s 182ms/step - loss: 1.1610 - acc: 0.4608 - f1score: 0.3792 - val_loss: 1.2398 - val_acc: 0.5833 - val_f1score: 0.0000e+00\n",
      "Epoch 8/10\n",
      "7/7 [==============================] - 1s 177ms/step - loss: 1.1162 - acc: 0.5490 - f1score: 0.4624 - val_loss: 1.5577 - val_acc: 0.5000 - val_f1score: 0.5000\n",
      "Epoch 9/10\n",
      "7/7 [==============================] - 1s 176ms/step - loss: 1.2337 - acc: 0.5196 - f1score: 0.2320 - val_loss: 1.4454 - val_acc: 0.5000 - val_f1score: 0.5000\n",
      "Epoch 10/10\n",
      "7/7 [==============================] - 1s 190ms/step - loss: 1.2358 - acc: 0.4706 - f1score: 0.3758 - val_loss: 1.9505 - val_acc: 0.5000 - val_f1score: 0.5000\n"
     ]
    },
    {
     "name": "stderr",
     "output_type": "stream",
     "text": [
      "100%|██████████| 2/2 [00:28<00:00, 14.01s/it]\n"
     ]
    }
   ],
   "source": [
    "out = talos.Scan(x=X_train, y=y_train, x_val=X_test, y_val=y_test, model=model_minst, params=p, experiment_name='minst_model_try') "
   ]
  },
  {
   "cell_type": "code",
   "execution_count": 51,
   "metadata": {},
   "outputs": [],
   "source": [
    "hyperp = out.data\n",
    "hyperp.to_csv('/root/work/data/hyp_mnist.csv')\n"
   ]
  },
  {
   "cell_type": "code",
   "execution_count": null,
   "metadata": {},
   "outputs": [],
   "source": []
  }
 ],
 "metadata": {
  "interpreter": {
   "hash": "31f2aee4e71d21fbe5cf8b01ff0e069b9275f58929596ceb00d14d90e3e16cd6"
  },
  "kernelspec": {
   "display_name": "Python 3.6.9 64-bit",
   "language": "python",
   "name": "python3"
  },
  "language_info": {
   "codemirror_mode": {
    "name": "ipython",
    "version": 3
   },
   "file_extension": ".py",
   "mimetype": "text/x-python",
   "name": "python",
   "nbconvert_exporter": "python",
   "pygments_lexer": "ipython3",
   "version": "3.6.9"
  },
  "orig_nbformat": 4
 },
 "nbformat": 4,
 "nbformat_minor": 2
}
