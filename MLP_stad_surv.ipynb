{
 "cells": [
  {
   "cell_type": "code",
   "execution_count": 1,
   "metadata": {},
   "outputs": [],
   "source": [
    "import numpy as np\n",
    "import pandas as pd\n",
    "\n",
    "from sklearn.model_selection import train_test_split\n",
    "\n",
    "from tensorflow import keras as kr\n",
    "from tensorflow.keras.models import Sequential\n",
    "from tensorflow.keras.layers import Dense, Dropout\n",
    "import tensorflow as tf\n",
    "\n",
    "import matplotlib.pyplot as plt"
   ]
  },
  {
   "cell_type": "code",
   "execution_count": 2,
   "metadata": {},
   "outputs": [
    {
     "name": "stdout",
     "output_type": "stream",
     "text": [
      "Uploading...\n",
      "Uploading done!\n"
     ]
    }
   ],
   "source": [
    "# upload\n",
    "print('Uploading...')\n",
    "exp_matrix = pd.read_csv('/root/work/data/survival/stad_exp_surv', index_col=0)\n",
    "label = pd.read_csv('/root/work/data/survival/stad_label_surv', index_col=0)\n",
    "print('Uploading done!')"
   ]
  },
  {
   "cell_type": "code",
   "execution_count": 3,
   "metadata": {},
   "outputs": [],
   "source": [
    "def show_train_history(train_history, train, validation):\n",
    "\n",
    "    plt.plot(train_history.history[train])\n",
    "    plt.plot(train_history.history[validation])\n",
    "    plt.title(train)\n",
    "    plt.ylabel(train)\n",
    "    plt.xlabel('Epoch')\n",
    "    plt.legend(['train', 'validation'], loc='upper left')\n",
    "    plt.show()"
   ]
  },
  {
   "cell_type": "code",
   "execution_count": 3,
   "metadata": {},
   "outputs": [],
   "source": [
    "# data preprocessing\n",
    "x = exp_matrix.T\n",
    "\n",
    "# str -> int\n",
    "y = np.array(label['survival_label'].map({'LTS':0, 'STS':1}).astype(int)).reshape(label.shape[0],1)"
   ]
  },
  {
   "cell_type": "code",
   "execution_count": 12,
   "metadata": {},
   "outputs": [
    {
     "name": "stdout",
     "output_type": "stream",
     "text": [
      "(218, 12411) (94, 12411) (218, 1) (94, 1)\n"
     ]
    }
   ],
   "source": [
    "train_x, test_x, train_y, test_y = train_test_split(x, y, test_size=0.3, random_state=np.random.seed())\n",
    "print(train_x.shape, test_x.shape, train_y.shape, test_y.shape)"
   ]
  },
  {
   "cell_type": "code",
   "execution_count": 11,
   "metadata": {},
   "outputs": [],
   "source": [
    "model = Sequential()\n",
    "model.add(Dense(8192, input_dim=train_x.shape[1], kernel_initializer='uniform', activation='LeakyReLU'))\n",
    "# model.add(Dropout(0.1))\n",
    "model.add(Dense(4096, kernel_initializer='uniform', activation='ReLU'))\n",
    "model.add(Dense(1,kernel_initializer='uniform',activation='sigmoid'))\n",
    "\n",
    "model.compile(loss=kr.losses.BinaryCrossentropy(), optimizer='adam', metrics=['accuracy'])\n",
    "# model.compile(loss=[focal_loss(alpha=.5, gamma=2)], optimizer='adam', metrics=['accuracy'])"
   ]
  },
  {
   "cell_type": "code",
   "execution_count": 12,
   "metadata": {},
   "outputs": [
    {
     "name": "stdout",
     "output_type": "stream",
     "text": [
      "Epoch 1/30\n",
      "7/7 [==============================] - 2s 204ms/step - loss: 93.5673 - accuracy: 0.6531 - val_loss: 9.6203 - val_accuracy: 0.8182\n",
      "Epoch 2/30\n",
      "7/7 [==============================] - 1s 184ms/step - loss: 24.7167 - accuracy: 0.7041 - val_loss: 7.2729 - val_accuracy: 0.8182\n",
      "Epoch 3/30\n",
      "7/7 [==============================] - 1s 193ms/step - loss: 11.8004 - accuracy: 0.7296 - val_loss: 16.6052 - val_accuracy: 0.7273\n",
      "Epoch 4/30\n",
      "7/7 [==============================] - 1s 185ms/step - loss: 9.1162 - accuracy: 0.7500 - val_loss: 8.7178 - val_accuracy: 0.5909\n",
      "Epoch 5/30\n",
      "7/7 [==============================] - 1s 183ms/step - loss: 5.0959 - accuracy: 0.7908 - val_loss: 5.8780 - val_accuracy: 0.8182\n",
      "Epoch 6/30\n",
      "7/7 [==============================] - 2s 257ms/step - loss: 2.8237 - accuracy: 0.8571 - val_loss: 36.9296 - val_accuracy: 0.0455\n",
      "Epoch 7/30\n",
      "7/7 [==============================] - 1s 189ms/step - loss: 10.4443 - accuracy: 0.7041 - val_loss: 4.8024 - val_accuracy: 0.8636\n",
      "Epoch 8/30\n",
      "7/7 [==============================] - 1s 186ms/step - loss: 5.2414 - accuracy: 0.8112 - val_loss: 6.1972 - val_accuracy: 0.5909\n",
      "Epoch 9/30\n",
      "7/7 [==============================] - 1s 181ms/step - loss: 2.6302 - accuracy: 0.8776 - val_loss: 10.9921 - val_accuracy: 0.3182\n",
      "Epoch 10/30\n",
      "7/7 [==============================] - 1s 198ms/step - loss: 4.1138 - accuracy: 0.7602 - val_loss: 5.4172 - val_accuracy: 0.8636\n",
      "Epoch 11/30\n",
      "7/7 [==============================] - 1s 184ms/step - loss: 2.6910 - accuracy: 0.8571 - val_loss: 5.0958 - val_accuracy: 0.7273\n",
      "Epoch 12/30\n",
      "7/7 [==============================] - 1s 182ms/step - loss: 0.8937 - accuracy: 0.9286 - val_loss: 5.7078 - val_accuracy: 0.7727\n",
      "Epoch 13/30\n",
      "7/7 [==============================] - 1s 183ms/step - loss: 0.6657 - accuracy: 0.9337 - val_loss: 6.0487 - val_accuracy: 0.6364\n",
      "Epoch 14/30\n",
      "7/7 [==============================] - 1s 183ms/step - loss: 0.2698 - accuracy: 0.9541 - val_loss: 8.8169 - val_accuracy: 0.4545\n",
      "Epoch 15/30\n",
      "7/7 [==============================] - 2s 234ms/step - loss: 0.3489 - accuracy: 0.9541 - val_loss: 7.9004 - val_accuracy: 0.8636\n",
      "Epoch 16/30\n",
      "7/7 [==============================] - 1s 184ms/step - loss: 0.3816 - accuracy: 0.9694 - val_loss: 6.7286 - val_accuracy: 0.5909\n",
      "Epoch 17/30\n",
      "7/7 [==============================] - 1s 182ms/step - loss: 0.4379 - accuracy: 0.9541 - val_loss: 5.0256 - val_accuracy: 0.7727\n",
      "Epoch 18/30\n",
      "7/7 [==============================] - 1s 179ms/step - loss: 0.2032 - accuracy: 0.9541 - val_loss: 6.4707 - val_accuracy: 0.5909\n",
      "Epoch 19/30\n",
      "7/7 [==============================] - 1s 181ms/step - loss: 0.0868 - accuracy: 0.9847 - val_loss: 7.5542 - val_accuracy: 0.4545\n",
      "Epoch 20/30\n",
      "7/7 [==============================] - 1s 181ms/step - loss: 0.0061 - accuracy: 0.9949 - val_loss: 5.0117 - val_accuracy: 0.6818\n",
      "Epoch 21/30\n",
      "7/7 [==============================] - 1s 177ms/step - loss: 1.5276e-06 - accuracy: 1.0000 - val_loss: 4.3951 - val_accuracy: 0.7273\n",
      "Epoch 22/30\n",
      "7/7 [==============================] - 1s 182ms/step - loss: 1.3927e-06 - accuracy: 1.0000 - val_loss: 4.2258 - val_accuracy: 0.7727\n",
      "Epoch 23/30\n",
      "7/7 [==============================] - 1s 180ms/step - loss: 2.0191e-05 - accuracy: 1.0000 - val_loss: 4.2105 - val_accuracy: 0.8182\n",
      "Epoch 24/30\n",
      "7/7 [==============================] - 1s 195ms/step - loss: 4.8199e-05 - accuracy: 1.0000 - val_loss: 4.2116 - val_accuracy: 0.8182\n",
      "Epoch 25/30\n",
      "7/7 [==============================] - 1s 183ms/step - loss: 8.9386e-05 - accuracy: 1.0000 - val_loss: 4.2110 - val_accuracy: 0.8182\n",
      "Epoch 26/30\n",
      "7/7 [==============================] - 1s 183ms/step - loss: 7.8264e-05 - accuracy: 1.0000 - val_loss: 4.2069 - val_accuracy: 0.8182\n",
      "Epoch 27/30\n",
      "7/7 [==============================] - 1s 181ms/step - loss: 4.5258e-05 - accuracy: 1.0000 - val_loss: 4.2039 - val_accuracy: 0.8182\n",
      "Epoch 28/30\n",
      "7/7 [==============================] - 1s 185ms/step - loss: 3.2412e-05 - accuracy: 1.0000 - val_loss: 4.2011 - val_accuracy: 0.8182\n",
      "Epoch 29/30\n",
      "7/7 [==============================] - 1s 188ms/step - loss: 2.8703e-05 - accuracy: 1.0000 - val_loss: 4.1985 - val_accuracy: 0.8182\n",
      "Epoch 30/30\n",
      "7/7 [==============================] - 1s 178ms/step - loss: 2.0287e-05 - accuracy: 1.0000 - val_loss: 4.1962 - val_accuracy: 0.8182\n"
     ]
    },
    {
     "data": {
      "image/png": "[encoded data removed]",
      "text/plain": [
       "<Figure size 432x288 with 1 Axes>"
      ]
     },
     "metadata": {
      "needs_background": "light"
     },
     "output_type": "display_data"
    },
    {
     "data": {
      "image/png": "[encoded data removed]",
      "text/plain": [
       "<Figure size 432x288 with 1 Axes>"
      ]
     },
     "metadata": {
      "needs_background": "light"
     },
     "output_type": "display_data"
    }
   ],
   "source": [
    "b = 32\n",
    "train_history=model.fit(train_x,\n",
    "                        train_y,\n",
    "                        epochs=30,\n",
    "                        validation_split=0.1,\n",
    "                        batch_size=b,\n",
    "                        shuffle=True)\n",
    "\n",
    "show_train_history(train_history, 'accuracy', 'val_accuracy')\n",
    "show_train_history(train_history, 'loss', 'val_loss')"
   ]
  },
  {
   "cell_type": "code",
   "execution_count": 13,
   "metadata": {},
   "outputs": [
    {
     "name": "stdout",
     "output_type": "stream",
     "text": [
      "3/3 [==============================] - 0s 27ms/step - loss: 1.8242 - accuracy: 0.9149\n",
      "test loss:  1.824231743812561\n",
      "test accuracy:  0.914893627166748\n"
     ]
    }
   ],
   "source": [
    "loss, accuracy = model.evaluate(test_x, test_y)\n",
    "print('test loss: ', loss)\n",
    "print('test accuracy: ', accuracy)"
   ]
  },
  {
   "cell_type": "code",
   "execution_count": 5,
   "metadata": {},
   "outputs": [],
   "source": [
    "from keras.models import load_model\n",
    "\n",
    "# # 保存训练好的model为hdf5文件\n",
    "# model.save('/root/work/model/stad_surv_model.h5')  \n",
    "# 重新加载模型\n",
    "model = load_model('/root/work/model/stad_surv_model.h5')"
   ]
  },
  {
   "cell_type": "code",
   "execution_count": 6,
   "metadata": {},
   "outputs": [],
   "source": [
    "# from tensorflow.keras.utils import plot_model\n",
    "# plot_model(model, show_shapes=True)"
   ]
  },
  {
   "cell_type": "code",
   "execution_count": 14,
   "metadata": {},
   "outputs": [
    {
     "data": {
      "text/html": [
       "<div>\n",
       "<style scoped>\n",
       "    .dataframe tbody tr th:only-of-type {\n",
       "        vertical-align: middle;\n",
       "    }\n",
       "\n",
       "    .dataframe tbody tr th {\n",
       "        vertical-align: top;\n",
       "    }\n",
       "\n",
       "    .dataframe thead th {\n",
       "        text-align: right;\n",
       "    }\n",
       "</style>\n",
       "<table border=\"1\" class=\"dataframe\">\n",
       "  <thead>\n",
       "    <tr style=\"text-align: right;\">\n",
       "      <th></th>\n",
       "      <th>LTS</th>\n",
       "      <th>STS</th>\n",
       "    </tr>\n",
       "  </thead>\n",
       "  <tbody>\n",
       "    <tr>\n",
       "      <th>LTS</th>\n",
       "      <td>70</td>\n",
       "      <td>0</td>\n",
       "    </tr>\n",
       "    <tr>\n",
       "      <th>STS</th>\n",
       "      <td>12</td>\n",
       "      <td>12</td>\n",
       "    </tr>\n",
       "  </tbody>\n",
       "</table>\n",
       "</div>"
      ],
      "text/plain": [
       "     LTS  STS\n",
       "LTS   70    0\n",
       "STS   12   12"
      ]
     },
     "execution_count": 14,
     "metadata": {},
     "output_type": "execute_result"
    }
   ],
   "source": [
    "from sklearn.metrics import confusion_matrix\n",
    "import seaborn as sns\n",
    "y_true = test_y\n",
    "y_pred = model.predict(test_x).astype(np.int64)\n",
    "cm = confusion_matrix(y_true,y_pred)\n",
    "cm = pd.DataFrame(cm, columns=['LTS','STS'], index=['LTS','STS'])\n",
    "cm"
   ]
  },
  {
   "cell_type": "code",
   "execution_count": 16,
   "metadata": {},
   "outputs": [
    {
     "name": "stderr",
     "output_type": "stream",
     "text": [
      "/usr/local/lib/python3.6/dist-packages/ipykernel_launcher.py:1: FutureWarning: Support for multi-dimensional indexing (e.g. `obj[:, None]`) is deprecated and will be removed in a future version.  Convert to a numpy array before indexing instead.\n",
      "  \"\"\"Entry point for launching an IPython kernel.\n"
     ]
    },
    {
     "data": {
      "text/html": [
       "<div>\n",
       "<style scoped>\n",
       "    .dataframe tbody tr th:only-of-type {\n",
       "        vertical-align: middle;\n",
       "    }\n",
       "\n",
       "    .dataframe tbody tr th {\n",
       "        vertical-align: top;\n",
       "    }\n",
       "\n",
       "    .dataframe thead th {\n",
       "        text-align: right;\n",
       "    }\n",
       "</style>\n",
       "<table border=\"1\" class=\"dataframe\">\n",
       "  <thead>\n",
       "    <tr style=\"text-align: right;\">\n",
       "      <th></th>\n",
       "      <th>LTS</th>\n",
       "      <th>STS</th>\n",
       "    </tr>\n",
       "  </thead>\n",
       "  <tbody>\n",
       "    <tr>\n",
       "      <th>LTS</th>\n",
       "      <td>1.0</td>\n",
       "      <td>0.0</td>\n",
       "    </tr>\n",
       "    <tr>\n",
       "      <th>STS</th>\n",
       "      <td>0.5</td>\n",
       "      <td>0.5</td>\n",
       "    </tr>\n",
       "  </tbody>\n",
       "</table>\n",
       "</div>"
      ],
      "text/plain": [
       "     LTS  STS\n",
       "LTS  1.0  0.0\n",
       "STS  0.5  0.5"
      ]
     },
     "execution_count": 16,
     "metadata": {},
     "output_type": "execute_result"
    }
   ],
   "source": [
    "cm = cm.astype(\"float\") / cm.sum(axis=1)[:, np.newaxis]\n",
    "np.set_printoptions(formatter={\"float\": \"{: 0.2f}\".format})\n",
    "cm"
   ]
  },
  {
   "cell_type": "code",
   "execution_count": 18,
   "metadata": {},
   "outputs": [
    {
     "data": {
      "image/png": "[encoded data removed]",
      "text/plain": [
       "<Figure size 720x576 with 2 Axes>"
      ]
     },
     "metadata": {},
     "output_type": "display_data"
    }
   ],
   "source": [
    "sns.set(font_scale=1.5)\n",
    "plt.figure(figsize=(10, 8))\n",
    "plt.rc('font', size=15)\n",
    "sns.heatmap(cm,cmap=\"Blues_r\", annot=True , fmt='.2f')\n",
    "plt.ylabel('True label')\n",
    "plt.xlabel('Predicted label')\n",
    "plt.show()"
   ]
  },
  {
   "cell_type": "code",
   "execution_count": 19,
   "metadata": {},
   "outputs": [],
   "source": [
    "import keras.backend as K\n",
    "def Precision(model,test_x,test_y):\n",
    "    y_pred = model.predict(test_x)\n",
    "    tp = K.sum(K.round(K.clip(test_y * y_pred, 0, 1)))  # true positives\n",
    "    tp = tf.cast(tp,dtype=tf.float64)\n",
    "    pp = K.sum(K.round(K.clip(y_pred, 0, 1)))  # predicted positives\n",
    "    pp = tf.cast(pp,dtype=tf.float64)\n",
    "    precision = tp / (pp + K.epsilon())\n",
    "    return precision\n",
    "\n",
    "def Recall(model,test_x,test_y):\n",
    "    y_pred = model.predict(test_x)\n",
    "    tp = K.sum(K.round(K.clip(test_y * y_pred, 0, 1)))  # true positives\n",
    "    tp = tf.cast(tp,dtype=tf.float64)\n",
    "    pp = K.sum(K.round(K.clip(test_y, 0, 1)))  # possible positives\n",
    "    pp = tf.cast(pp,dtype=tf.float64)\n",
    "    recall = tp / (pp + K.epsilon())\n",
    "    return recall\n",
    "\n",
    "def F1(model,test_x,test_y):\n",
    "    precision = Precision(model,test_x,test_y)\n",
    "    recall = Recall(model,test_x,test_y)\n",
    "    f1 = 2 * ((precision * recall) / (precision + recall + K.epsilon()))\n",
    "    return f1"
   ]
  },
  {
   "cell_type": "code",
   "execution_count": 21,
   "metadata": {},
   "outputs": [
    {
     "data": {
      "text/html": [
       "<div>\n",
       "<style scoped>\n",
       "    .dataframe tbody tr th:only-of-type {\n",
       "        vertical-align: middle;\n",
       "    }\n",
       "\n",
       "    .dataframe tbody tr th {\n",
       "        vertical-align: top;\n",
       "    }\n",
       "\n",
       "    .dataframe thead th {\n",
       "        text-align: right;\n",
       "    }\n",
       "</style>\n",
       "<table border=\"1\" class=\"dataframe\">\n",
       "  <thead>\n",
       "    <tr style=\"text-align: right;\">\n",
       "      <th></th>\n",
       "      <th>0</th>\n",
       "      <th>1</th>\n",
       "    </tr>\n",
       "  </thead>\n",
       "  <tbody>\n",
       "    <tr>\n",
       "      <th>Precision</th>\n",
       "      <td>NaN</td>\n",
       "      <td>NaN</td>\n",
       "    </tr>\n",
       "    <tr>\n",
       "      <th>Recall</th>\n",
       "      <td>NaN</td>\n",
       "      <td>NaN</td>\n",
       "    </tr>\n",
       "    <tr>\n",
       "      <th>F1</th>\n",
       "      <td>0.904762</td>\n",
       "      <td>0.909091</td>\n",
       "    </tr>\n",
       "  </tbody>\n",
       "</table>\n",
       "</div>"
      ],
      "text/plain": [
       "                  0         1\n",
       "Precision       NaN       NaN\n",
       "Recall          NaN       NaN\n",
       "F1         0.904762  0.909091"
      ]
     },
     "execution_count": 21,
     "metadata": {},
     "output_type": "execute_result"
    }
   ],
   "source": [
    "p = []\n",
    "r = []\n",
    "f1 = []\n",
    "for i in range(2):\n",
    "    train_x, test_x, train_y, test_y = train_test_split(x, y, test_size=0.3, random_state=np.random.seed())\n",
    "    # p.append(Precision(model,test_x,test_y).numpy())\n",
    "    # r.append(Recall(model,test_x,test_y).numpy())\n",
    "    f1.append(Recall(model,test_x,test_y).numpy())\n",
    "\n",
    "e_result = pd.DataFrame([p,r,f1], index=['Precision', 'Recall', 'F1'])\n",
    "e_result"
   ]
  },
  {
   "cell_type": "code",
   "execution_count": 22,
   "metadata": {},
   "outputs": [],
   "source": [
    "from sklearn.ensemble import RandomForestClassifier\n",
    "from sklearn import tree\n",
    "from sklearn.svm import SVC\n",
    "from sklearn import metrics\n",
    "from sklearn import linear_model\n",
    "from sklearn.neighbors import KNeighborsClassifier\n",
    "from sklearn.naive_bayes import GaussianNB"
   ]
  },
  {
   "cell_type": "code",
   "execution_count": 24,
   "metadata": {},
   "outputs": [
    {
     "name": "stderr",
     "output_type": "stream",
     "text": [
      "/usr/local/lib/python3.6/dist-packages/ipykernel_launcher.py:19: DataConversionWarning: A column-vector y was passed when a 1d array was expected. Please change the shape of y to (n_samples,), for example using ravel().\n",
      "/usr/local/lib/python3.6/dist-packages/sklearn/utils/validation.py:63: DataConversionWarning: A column-vector y was passed when a 1d array was expected. Please change the shape of y to (n_samples, ), for example using ravel().\n",
      "  return f(*args, **kwargs)\n",
      "/usr/local/lib/python3.6/dist-packages/sklearn/utils/validation.py:63: DataConversionWarning: A column-vector y was passed when a 1d array was expected. Please change the shape of y to (n_samples, ), for example using ravel().\n",
      "  return f(*args, **kwargs)\n",
      "/usr/local/lib/python3.6/dist-packages/sklearn/neighbors/_classification.py:179: DataConversionWarning: A column-vector y was passed when a 1d array was expected. Please change the shape of y to (n_samples,), for example using ravel().\n",
      "  return self._fit(X, y)\n",
      "/usr/local/lib/python3.6/dist-packages/sklearn/utils/validation.py:63: DataConversionWarning: A column-vector y was passed when a 1d array was expected. Please change the shape of y to (n_samples, ), for example using ravel().\n",
      "  return f(*args, **kwargs)\n",
      "/usr/local/lib/python3.6/dist-packages/ipykernel_launcher.py:19: DataConversionWarning: A column-vector y was passed when a 1d array was expected. Please change the shape of y to (n_samples,), for example using ravel().\n",
      "/usr/local/lib/python3.6/dist-packages/sklearn/utils/validation.py:63: DataConversionWarning: A column-vector y was passed when a 1d array was expected. Please change the shape of y to (n_samples, ), for example using ravel().\n",
      "  return f(*args, **kwargs)\n",
      "/usr/local/lib/python3.6/dist-packages/sklearn/utils/validation.py:63: DataConversionWarning: A column-vector y was passed when a 1d array was expected. Please change the shape of y to (n_samples, ), for example using ravel().\n",
      "  return f(*args, **kwargs)\n",
      "/usr/local/lib/python3.6/dist-packages/sklearn/neighbors/_classification.py:179: DataConversionWarning: A column-vector y was passed when a 1d array was expected. Please change the shape of y to (n_samples,), for example using ravel().\n",
      "  return self._fit(X, y)\n",
      "/usr/local/lib/python3.6/dist-packages/sklearn/utils/validation.py:63: DataConversionWarning: A column-vector y was passed when a 1d array was expected. Please change the shape of y to (n_samples, ), for example using ravel().\n",
      "  return f(*args, **kwargs)\n"
     ]
    },
    {
     "data": {
      "text/html": [
       "<div>\n",
       "<style scoped>\n",
       "    .dataframe tbody tr th:only-of-type {\n",
       "        vertical-align: middle;\n",
       "    }\n",
       "\n",
       "    .dataframe tbody tr th {\n",
       "        vertical-align: top;\n",
       "    }\n",
       "\n",
       "    .dataframe thead th {\n",
       "        text-align: right;\n",
       "    }\n",
       "</style>\n",
       "<table border=\"1\" class=\"dataframe\">\n",
       "  <thead>\n",
       "    <tr style=\"text-align: right;\">\n",
       "      <th></th>\n",
       "      <th>0</th>\n",
       "      <th>1</th>\n",
       "    </tr>\n",
       "  </thead>\n",
       "  <tbody>\n",
       "    <tr>\n",
       "      <th>my</th>\n",
       "      <td>1.0</td>\n",
       "      <td>1.000000</td>\n",
       "    </tr>\n",
       "    <tr>\n",
       "      <th>rf</th>\n",
       "      <td>21.0</td>\n",
       "      <td>25.999999</td>\n",
       "    </tr>\n",
       "    <tr>\n",
       "      <th>dt</th>\n",
       "      <td>21.0</td>\n",
       "      <td>26.000000</td>\n",
       "    </tr>\n",
       "    <tr>\n",
       "      <th>svm</th>\n",
       "      <td>21.0</td>\n",
       "      <td>26.000000</td>\n",
       "    </tr>\n",
       "    <tr>\n",
       "      <th>lr</th>\n",
       "      <td>21.0</td>\n",
       "      <td>26.000000</td>\n",
       "    </tr>\n",
       "    <tr>\n",
       "      <th>knn</th>\n",
       "      <td>21.0</td>\n",
       "      <td>26.000000</td>\n",
       "    </tr>\n",
       "    <tr>\n",
       "      <th>nb</th>\n",
       "      <td>21.0</td>\n",
       "      <td>26.000000</td>\n",
       "    </tr>\n",
       "  </tbody>\n",
       "</table>\n",
       "</div>"
      ],
      "text/plain": [
       "        0          1\n",
       "my    1.0   1.000000\n",
       "rf   21.0  25.999999\n",
       "dt   21.0  26.000000\n",
       "svm  21.0  26.000000\n",
       "lr   21.0  26.000000\n",
       "knn  21.0  26.000000\n",
       "nb   21.0  26.000000"
      ]
     },
     "execution_count": 24,
     "metadata": {},
     "output_type": "execute_result"
    }
   ],
   "source": [
    "# Precision & Recall\n",
    "my = []\n",
    "rf = []\n",
    "dt = []\n",
    "svm = []\n",
    "lr = []\n",
    "knn = []\n",
    "nb = []\n",
    "for i in range(2):\n",
    "    # my\n",
    "\n",
    "    train_x, test_x, train_y, test_y = train_test_split(x, y, test_size=0.3, random_state=np.random.seed())\n",
    "    # # int -> onthot\n",
    "    # train_y = kr.utils.to_categorical(train_y_t)\n",
    "    # test_y = kr.utils.to_categorical(test_y_t)\n",
    "    my.append(Precision(model,test_x,test_y).numpy())\n",
    "\n",
    "    clf=RandomForestClassifier()  \n",
    "    clf = clf.fit(train_x,train_y)\n",
    "    rf.append(Precision(clf,test_x,test_y).numpy())\n",
    "\n",
    "    clf2 = tree.DecisionTreeClassifier()\n",
    "    clf2 = clf2.fit(train_x, train_y)\n",
    "    dt.append(Precision(clf2,test_x,test_y).numpy())\n",
    "\n",
    "    clf3 = SVC(kernel='linear')\n",
    "    clf3.fit(train_x,train_y)\n",
    "    y_pred = clf3.predict(test_x)\n",
    "    svm.append(Precision(clf3,test_x,test_y).numpy())\n",
    "\n",
    "    clf4 = linear_model.LogisticRegression(C=1e5)\n",
    "    clf4.fit(train_x,train_y)\n",
    "    lr.append(Precision(clf4,test_x,test_y).numpy())\n",
    "\n",
    "    clf5 = KNeighborsClassifier()\n",
    "    clf5.fit(train_x,train_y)\n",
    "    y_pred = clf5.predict(test_x)\n",
    "    knn.append(Precision(clf5,test_x,test_y).numpy())\n",
    "\n",
    "    clf6 = GaussianNB()\n",
    "    clf6 = clf6.fit(train_x,train_y)\n",
    "    y_pred = clf6.predict(test_x)\n",
    "    nb.append(Precision(clf6,test_x,test_y).numpy())\n",
    "\n",
    "PR_result = pd.DataFrame([my,rf,dt,svm,lr,knn,nb], index=['my','rf','dt','svm','lr','knn','nb'])\n",
    "PR_result"
   ]
  },
  {
   "cell_type": "code",
   "execution_count": 124,
   "metadata": {},
   "outputs": [
    {
     "name": "stderr",
     "output_type": "stream",
     "text": [
      "/usr/local/lib/python3.6/dist-packages/ipykernel_launcher.py:2: DataConversionWarning: A column-vector y was passed when a 1d array was expected. Please change the shape of y to (n_samples,), for example using ravel().\n",
      "  \n"
     ]
    },
    {
     "data": {
      "text/plain": [
       "<tf.Tensor: shape=(), dtype=float64, numpy=3.652173865406427>"
      ]
     },
     "execution_count": 124,
     "metadata": {},
     "output_type": "execute_result"
    }
   ],
   "source": [
    "clf=RandomForestClassifier()  \n",
    "clf = clf.fit(train_x,train_y)\n",
    "F1(clf,test_x,test_y)"
   ]
  },
  {
   "cell_type": "code",
   "execution_count": null,
   "metadata": {},
   "outputs": [],
   "source": [
    "# accuracy\n",
    "\n",
    "my = []\n",
    "rf = []\n",
    "dt = []\n",
    "svm = []\n",
    "lr = []\n",
    "knn = []\n",
    "nb = []\n",
    "\n",
    "for i in range(1):\n",
    "    \n",
    "    train_x, test_x, train_y, test_y = train_test_split(x, y, test_size=0.3, random_state=np.random.seed())\n",
    "    print(train_x.shape, test_x.shape, train_y.shape, test_y.shape)\n",
    "\n",
    "    # my\n",
    "    my.append(F1(model,test_x,test_y).numpy())\n",
    "\n",
    "    clf=RandomForestClassifier()  \n",
    "    clf = clf.fit(train_x,train_y)\n",
    "    rf.append(F1(clf,test_x,test_y).numpy())\n",
    "\n",
    "    clf2 = tree.DecisionTreeClassifier()\n",
    "    clf2 = clf2.fit(train_x, train_y)\n",
    "    dt.append(F1(clf2,test_x,test_y).numpy())\n",
    "\n",
    "    clf3 = SVC(kernel='rbf', probability=True)\n",
    "    clf3.fit(train_x,train_y)\n",
    "    svm.append(F1(clf3,test_x,test_y).numpy())\n",
    "\n",
    "    clf4 = linear_model.LogisticRegression(C=1e5)\n",
    "    clf4.fit(train_x,train_y)\n",
    "    lr.append(F1(clf4,test_x,test_y).numpy())\n",
    "\n",
    "    clf5 = KNeighborsClassifier()\n",
    "    clf5.fit(train_x,train_y)\n",
    "    knn.append(F1(clf5,test_x,test_y).numpy())\n",
    "\n",
    "    clf6 = GaussianNB()\n",
    "    clf6 = clf6.fit(train_x,train_y)\n",
    "    nb.append(F1(clf6,test_x,test_y).numpy())\n",
    "\n",
    "f1_result = pd.DataFrame([my,rf,dt,svm,lr,knn,nb], index=['my','rf','dt','svm','lr','knn','nb'])\n",
    "f1_result"
   ]
  },
  {
   "cell_type": "code",
   "execution_count": 87,
   "metadata": {},
   "outputs": [
    {
     "name": "stdout",
     "output_type": "stream",
     "text": [
      "(218, 12411) (94, 12411) (218, 1) (94, 1)\n",
      "3/3 [==============================] - 0s 27ms/step - loss: 0.2984 - accuracy: 0.9681\n"
     ]
    },
    {
     "name": "stderr",
     "output_type": "stream",
     "text": [
      "/usr/local/lib/python3.6/dist-packages/ipykernel_launcher.py:25: DataConversionWarning: A column-vector y was passed when a 1d array was expected. Please change the shape of y to (n_samples,), for example using ravel().\n",
      "/usr/local/lib/python3.6/dist-packages/sklearn/utils/validation.py:63: DataConversionWarning: A column-vector y was passed when a 1d array was expected. Please change the shape of y to (n_samples, ), for example using ravel().\n",
      "  return f(*args, **kwargs)\n",
      "/usr/local/lib/python3.6/dist-packages/sklearn/utils/validation.py:63: DataConversionWarning: A column-vector y was passed when a 1d array was expected. Please change the shape of y to (n_samples, ), for example using ravel().\n",
      "  return f(*args, **kwargs)\n",
      "/usr/local/lib/python3.6/dist-packages/sklearn/neighbors/_classification.py:179: DataConversionWarning: A column-vector y was passed when a 1d array was expected. Please change the shape of y to (n_samples,), for example using ravel().\n",
      "  return self._fit(X, y)\n",
      "/usr/local/lib/python3.6/dist-packages/sklearn/utils/validation.py:63: DataConversionWarning: A column-vector y was passed when a 1d array was expected. Please change the shape of y to (n_samples, ), for example using ravel().\n",
      "  return f(*args, **kwargs)\n"
     ]
    },
    {
     "name": "stdout",
     "output_type": "stream",
     "text": [
      "(218, 12411) (94, 12411) (218, 1) (94, 1)\n",
      "3/3 [==============================] - 0s 26ms/step - loss: 0.4418 - accuracy: 0.9681\n"
     ]
    },
    {
     "name": "stderr",
     "output_type": "stream",
     "text": [
      "/usr/local/lib/python3.6/dist-packages/ipykernel_launcher.py:25: DataConversionWarning: A column-vector y was passed when a 1d array was expected. Please change the shape of y to (n_samples,), for example using ravel().\n",
      "/usr/local/lib/python3.6/dist-packages/sklearn/utils/validation.py:63: DataConversionWarning: A column-vector y was passed when a 1d array was expected. Please change the shape of y to (n_samples, ), for example using ravel().\n",
      "  return f(*args, **kwargs)\n",
      "/usr/local/lib/python3.6/dist-packages/sklearn/utils/validation.py:63: DataConversionWarning: A column-vector y was passed when a 1d array was expected. Please change the shape of y to (n_samples, ), for example using ravel().\n",
      "  return f(*args, **kwargs)\n",
      "/usr/local/lib/python3.6/dist-packages/sklearn/neighbors/_classification.py:179: DataConversionWarning: A column-vector y was passed when a 1d array was expected. Please change the shape of y to (n_samples,), for example using ravel().\n",
      "  return self._fit(X, y)\n",
      "/usr/local/lib/python3.6/dist-packages/sklearn/utils/validation.py:63: DataConversionWarning: A column-vector y was passed when a 1d array was expected. Please change the shape of y to (n_samples, ), for example using ravel().\n",
      "  return f(*args, **kwargs)\n"
     ]
    },
    {
     "name": "stdout",
     "output_type": "stream",
     "text": [
      "(218, 12411) (94, 12411) (218, 1) (94, 1)\n",
      "3/3 [==============================] - 0s 26ms/step - loss: 1.0048 - accuracy: 0.9681\n"
     ]
    },
    {
     "name": "stderr",
     "output_type": "stream",
     "text": [
      "/usr/local/lib/python3.6/dist-packages/ipykernel_launcher.py:25: DataConversionWarning: A column-vector y was passed when a 1d array was expected. Please change the shape of y to (n_samples,), for example using ravel().\n",
      "/usr/local/lib/python3.6/dist-packages/sklearn/utils/validation.py:63: DataConversionWarning: A column-vector y was passed when a 1d array was expected. Please change the shape of y to (n_samples, ), for example using ravel().\n",
      "  return f(*args, **kwargs)\n",
      "/usr/local/lib/python3.6/dist-packages/sklearn/utils/validation.py:63: DataConversionWarning: A column-vector y was passed when a 1d array was expected. Please change the shape of y to (n_samples, ), for example using ravel().\n",
      "  return f(*args, **kwargs)\n",
      "/usr/local/lib/python3.6/dist-packages/sklearn/neighbors/_classification.py:179: DataConversionWarning: A column-vector y was passed when a 1d array was expected. Please change the shape of y to (n_samples,), for example using ravel().\n",
      "  return self._fit(X, y)\n"
     ]
    },
    {
     "name": "stdout",
     "output_type": "stream",
     "text": [
      "(218, 12411) (94, 12411) (218, 1) (94, 1)\n",
      "1/3 [=========>....................] - ETA: 0s - loss: 2.5574 - accuracy: 0.9375"
     ]
    },
    {
     "name": "stderr",
     "output_type": "stream",
     "text": [
      "/usr/local/lib/python3.6/dist-packages/sklearn/utils/validation.py:63: DataConversionWarning: A column-vector y was passed when a 1d array was expected. Please change the shape of y to (n_samples, ), for example using ravel().\n",
      "  return f(*args, **kwargs)\n"
     ]
    },
    {
     "name": "stdout",
     "output_type": "stream",
     "text": [
      "3/3 [==============================] - 0s 27ms/step - loss: 1.3206 - accuracy: 0.9468\n"
     ]
    },
    {
     "name": "stderr",
     "output_type": "stream",
     "text": [
      "/usr/local/lib/python3.6/dist-packages/ipykernel_launcher.py:25: DataConversionWarning: A column-vector y was passed when a 1d array was expected. Please change the shape of y to (n_samples,), for example using ravel().\n",
      "/usr/local/lib/python3.6/dist-packages/sklearn/utils/validation.py:63: DataConversionWarning: A column-vector y was passed when a 1d array was expected. Please change the shape of y to (n_samples, ), for example using ravel().\n",
      "  return f(*args, **kwargs)\n",
      "/usr/local/lib/python3.6/dist-packages/sklearn/utils/validation.py:63: DataConversionWarning: A column-vector y was passed when a 1d array was expected. Please change the shape of y to (n_samples, ), for example using ravel().\n",
      "  return f(*args, **kwargs)\n",
      "/usr/local/lib/python3.6/dist-packages/sklearn/neighbors/_classification.py:179: DataConversionWarning: A column-vector y was passed when a 1d array was expected. Please change the shape of y to (n_samples,), for example using ravel().\n",
      "  return self._fit(X, y)\n"
     ]
    },
    {
     "name": "stdout",
     "output_type": "stream",
     "text": [
      "(218, 12411) (94, 12411) (218, 1) (94, 1)\n",
      "1/3 [=========>....................] - ETA: 0s - loss: 9.6675e-06 - accuracy: 1.0000"
     ]
    },
    {
     "name": "stderr",
     "output_type": "stream",
     "text": [
      "/usr/local/lib/python3.6/dist-packages/sklearn/utils/validation.py:63: DataConversionWarning: A column-vector y was passed when a 1d array was expected. Please change the shape of y to (n_samples, ), for example using ravel().\n",
      "  return f(*args, **kwargs)\n"
     ]
    },
    {
     "name": "stdout",
     "output_type": "stream",
     "text": [
      "3/3 [==============================] - 0s 26ms/step - loss: 1.0951 - accuracy: 0.9362\n"
     ]
    },
    {
     "name": "stderr",
     "output_type": "stream",
     "text": [
      "/usr/local/lib/python3.6/dist-packages/ipykernel_launcher.py:25: DataConversionWarning: A column-vector y was passed when a 1d array was expected. Please change the shape of y to (n_samples,), for example using ravel().\n",
      "/usr/local/lib/python3.6/dist-packages/sklearn/utils/validation.py:63: DataConversionWarning: A column-vector y was passed when a 1d array was expected. Please change the shape of y to (n_samples, ), for example using ravel().\n",
      "  return f(*args, **kwargs)\n",
      "/usr/local/lib/python3.6/dist-packages/sklearn/utils/validation.py:63: DataConversionWarning: A column-vector y was passed when a 1d array was expected. Please change the shape of y to (n_samples, ), for example using ravel().\n",
      "  return f(*args, **kwargs)\n",
      "/usr/local/lib/python3.6/dist-packages/sklearn/neighbors/_classification.py:179: DataConversionWarning: A column-vector y was passed when a 1d array was expected. Please change the shape of y to (n_samples,), for example using ravel().\n",
      "  return self._fit(X, y)\n",
      "/usr/local/lib/python3.6/dist-packages/sklearn/utils/validation.py:63: DataConversionWarning: A column-vector y was passed when a 1d array was expected. Please change the shape of y to (n_samples, ), for example using ravel().\n",
      "  return f(*args, **kwargs)\n"
     ]
    },
    {
     "name": "stdout",
     "output_type": "stream",
     "text": [
      "(218, 12411) (94, 12411) (218, 1) (94, 1)\n",
      "3/3 [==============================] - 0s 27ms/step - loss: 1.0322 - accuracy: 0.9574\n"
     ]
    },
    {
     "name": "stderr",
     "output_type": "stream",
     "text": [
      "/usr/local/lib/python3.6/dist-packages/ipykernel_launcher.py:25: DataConversionWarning: A column-vector y was passed when a 1d array was expected. Please change the shape of y to (n_samples,), for example using ravel().\n",
      "/usr/local/lib/python3.6/dist-packages/sklearn/utils/validation.py:63: DataConversionWarning: A column-vector y was passed when a 1d array was expected. Please change the shape of y to (n_samples, ), for example using ravel().\n",
      "  return f(*args, **kwargs)\n",
      "/usr/local/lib/python3.6/dist-packages/sklearn/utils/validation.py:63: DataConversionWarning: A column-vector y was passed when a 1d array was expected. Please change the shape of y to (n_samples, ), for example using ravel().\n",
      "  return f(*args, **kwargs)\n",
      "/usr/local/lib/python3.6/dist-packages/sklearn/neighbors/_classification.py:179: DataConversionWarning: A column-vector y was passed when a 1d array was expected. Please change the shape of y to (n_samples,), for example using ravel().\n",
      "  return self._fit(X, y)\n"
     ]
    },
    {
     "name": "stdout",
     "output_type": "stream",
     "text": [
      "(218, 12411) (94, 12411) (218, 1) (94, 1)\n",
      "1/3 [=========>....................] - ETA: 0s - loss: 0.3231 - accuracy: 0.9688"
     ]
    },
    {
     "name": "stderr",
     "output_type": "stream",
     "text": [
      "/usr/local/lib/python3.6/dist-packages/sklearn/utils/validation.py:63: DataConversionWarning: A column-vector y was passed when a 1d array was expected. Please change the shape of y to (n_samples, ), for example using ravel().\n",
      "  return f(*args, **kwargs)\n"
     ]
    },
    {
     "name": "stdout",
     "output_type": "stream",
     "text": [
      "3/3 [==============================] - 0s 27ms/step - loss: 0.5509 - accuracy: 0.9681\n"
     ]
    },
    {
     "name": "stderr",
     "output_type": "stream",
     "text": [
      "/usr/local/lib/python3.6/dist-packages/ipykernel_launcher.py:25: DataConversionWarning: A column-vector y was passed when a 1d array was expected. Please change the shape of y to (n_samples,), for example using ravel().\n",
      "/usr/local/lib/python3.6/dist-packages/sklearn/utils/validation.py:63: DataConversionWarning: A column-vector y was passed when a 1d array was expected. Please change the shape of y to (n_samples, ), for example using ravel().\n",
      "  return f(*args, **kwargs)\n",
      "/usr/local/lib/python3.6/dist-packages/sklearn/utils/validation.py:63: DataConversionWarning: A column-vector y was passed when a 1d array was expected. Please change the shape of y to (n_samples, ), for example using ravel().\n",
      "  return f(*args, **kwargs)\n",
      "/usr/local/lib/python3.6/dist-packages/sklearn/neighbors/_classification.py:179: DataConversionWarning: A column-vector y was passed when a 1d array was expected. Please change the shape of y to (n_samples,), for example using ravel().\n",
      "  return self._fit(X, y)\n"
     ]
    },
    {
     "name": "stdout",
     "output_type": "stream",
     "text": [
      "(218, 12411) (94, 12411) (218, 1) (94, 1)\n",
      "1/3 [=========>....................] - ETA: 0s - loss: 1.2293e-04 - accuracy: 1.0000"
     ]
    },
    {
     "name": "stderr",
     "output_type": "stream",
     "text": [
      "/usr/local/lib/python3.6/dist-packages/sklearn/utils/validation.py:63: DataConversionWarning: A column-vector y was passed when a 1d array was expected. Please change the shape of y to (n_samples, ), for example using ravel().\n",
      "  return f(*args, **kwargs)\n"
     ]
    },
    {
     "name": "stdout",
     "output_type": "stream",
     "text": [
      "3/3 [==============================] - 0s 25ms/step - loss: 0.3656 - accuracy: 0.9681\n"
     ]
    },
    {
     "name": "stderr",
     "output_type": "stream",
     "text": [
      "/usr/local/lib/python3.6/dist-packages/ipykernel_launcher.py:25: DataConversionWarning: A column-vector y was passed when a 1d array was expected. Please change the shape of y to (n_samples,), for example using ravel().\n",
      "/usr/local/lib/python3.6/dist-packages/sklearn/utils/validation.py:63: DataConversionWarning: A column-vector y was passed when a 1d array was expected. Please change the shape of y to (n_samples, ), for example using ravel().\n",
      "  return f(*args, **kwargs)\n",
      "/usr/local/lib/python3.6/dist-packages/sklearn/utils/validation.py:63: DataConversionWarning: A column-vector y was passed when a 1d array was expected. Please change the shape of y to (n_samples, ), for example using ravel().\n",
      "  return f(*args, **kwargs)\n",
      "/usr/local/lib/python3.6/dist-packages/sklearn/neighbors/_classification.py:179: DataConversionWarning: A column-vector y was passed when a 1d array was expected. Please change the shape of y to (n_samples,), for example using ravel().\n",
      "  return self._fit(X, y)\n",
      "/usr/local/lib/python3.6/dist-packages/sklearn/utils/validation.py:63: DataConversionWarning: A column-vector y was passed when a 1d array was expected. Please change the shape of y to (n_samples, ), for example using ravel().\n",
      "  return f(*args, **kwargs)\n"
     ]
    },
    {
     "name": "stdout",
     "output_type": "stream",
     "text": [
      "(218, 12411) (94, 12411) (218, 1) (94, 1)\n",
      "3/3 [==============================] - 0s 24ms/step - loss: 0.6065 - accuracy: 0.9574\n"
     ]
    },
    {
     "name": "stderr",
     "output_type": "stream",
     "text": [
      "/usr/local/lib/python3.6/dist-packages/ipykernel_launcher.py:25: DataConversionWarning: A column-vector y was passed when a 1d array was expected. Please change the shape of y to (n_samples,), for example using ravel().\n",
      "/usr/local/lib/python3.6/dist-packages/sklearn/utils/validation.py:63: DataConversionWarning: A column-vector y was passed when a 1d array was expected. Please change the shape of y to (n_samples, ), for example using ravel().\n",
      "  return f(*args, **kwargs)\n",
      "/usr/local/lib/python3.6/dist-packages/sklearn/utils/validation.py:63: DataConversionWarning: A column-vector y was passed when a 1d array was expected. Please change the shape of y to (n_samples, ), for example using ravel().\n",
      "  return f(*args, **kwargs)\n",
      "/usr/local/lib/python3.6/dist-packages/sklearn/neighbors/_classification.py:179: DataConversionWarning: A column-vector y was passed when a 1d array was expected. Please change the shape of y to (n_samples,), for example using ravel().\n",
      "  return self._fit(X, y)\n",
      "/usr/local/lib/python3.6/dist-packages/sklearn/utils/validation.py:63: DataConversionWarning: A column-vector y was passed when a 1d array was expected. Please change the shape of y to (n_samples, ), for example using ravel().\n",
      "  return f(*args, **kwargs)\n"
     ]
    },
    {
     "name": "stdout",
     "output_type": "stream",
     "text": [
      "(218, 12411) (94, 12411) (218, 1) (94, 1)\n",
      "3/3 [==============================] - 0s 24ms/step - loss: 0.3999 - accuracy: 0.9681\n"
     ]
    },
    {
     "name": "stderr",
     "output_type": "stream",
     "text": [
      "/usr/local/lib/python3.6/dist-packages/ipykernel_launcher.py:25: DataConversionWarning: A column-vector y was passed when a 1d array was expected. Please change the shape of y to (n_samples,), for example using ravel().\n",
      "/usr/local/lib/python3.6/dist-packages/sklearn/utils/validation.py:63: DataConversionWarning: A column-vector y was passed when a 1d array was expected. Please change the shape of y to (n_samples, ), for example using ravel().\n",
      "  return f(*args, **kwargs)\n",
      "/usr/local/lib/python3.6/dist-packages/sklearn/utils/validation.py:63: DataConversionWarning: A column-vector y was passed when a 1d array was expected. Please change the shape of y to (n_samples, ), for example using ravel().\n",
      "  return f(*args, **kwargs)\n",
      "/usr/local/lib/python3.6/dist-packages/sklearn/neighbors/_classification.py:179: DataConversionWarning: A column-vector y was passed when a 1d array was expected. Please change the shape of y to (n_samples,), for example using ravel().\n",
      "  return self._fit(X, y)\n",
      "/usr/local/lib/python3.6/dist-packages/sklearn/utils/validation.py:63: DataConversionWarning: A column-vector y was passed when a 1d array was expected. Please change the shape of y to (n_samples, ), for example using ravel().\n",
      "  return f(*args, **kwargs)\n"
     ]
    },
    {
     "data": {
      "text/html": [
       "<div>\n",
       "<style scoped>\n",
       "    .dataframe tbody tr th:only-of-type {\n",
       "        vertical-align: middle;\n",
       "    }\n",
       "\n",
       "    .dataframe tbody tr th {\n",
       "        vertical-align: top;\n",
       "    }\n",
       "\n",
       "    .dataframe thead th {\n",
       "        text-align: right;\n",
       "    }\n",
       "</style>\n",
       "<table border=\"1\" class=\"dataframe\">\n",
       "  <thead>\n",
       "    <tr style=\"text-align: right;\">\n",
       "      <th></th>\n",
       "      <th>0</th>\n",
       "      <th>1</th>\n",
       "      <th>2</th>\n",
       "      <th>3</th>\n",
       "      <th>4</th>\n",
       "      <th>5</th>\n",
       "      <th>6</th>\n",
       "      <th>7</th>\n",
       "      <th>8</th>\n",
       "      <th>9</th>\n",
       "    </tr>\n",
       "  </thead>\n",
       "  <tbody>\n",
       "    <tr>\n",
       "      <th>my</th>\n",
       "      <td>0.968085</td>\n",
       "      <td>0.968085</td>\n",
       "      <td>0.968085</td>\n",
       "      <td>0.946809</td>\n",
       "      <td>0.936170</td>\n",
       "      <td>0.957447</td>\n",
       "      <td>0.968085</td>\n",
       "      <td>0.968085</td>\n",
       "      <td>0.957447</td>\n",
       "      <td>0.968085</td>\n",
       "    </tr>\n",
       "    <tr>\n",
       "      <th>rf</th>\n",
       "      <td>0.734043</td>\n",
       "      <td>0.819149</td>\n",
       "      <td>0.787234</td>\n",
       "      <td>0.691489</td>\n",
       "      <td>0.702128</td>\n",
       "      <td>0.712766</td>\n",
       "      <td>0.723404</td>\n",
       "      <td>0.712766</td>\n",
       "      <td>0.723404</td>\n",
       "      <td>0.744681</td>\n",
       "    </tr>\n",
       "    <tr>\n",
       "      <th>dt</th>\n",
       "      <td>0.574468</td>\n",
       "      <td>0.617021</td>\n",
       "      <td>0.638298</td>\n",
       "      <td>0.638298</td>\n",
       "      <td>0.648936</td>\n",
       "      <td>0.617021</td>\n",
       "      <td>0.574468</td>\n",
       "      <td>0.627660</td>\n",
       "      <td>0.670213</td>\n",
       "      <td>0.723404</td>\n",
       "    </tr>\n",
       "    <tr>\n",
       "      <th>svm</th>\n",
       "      <td>0.723404</td>\n",
       "      <td>0.819149</td>\n",
       "      <td>0.787234</td>\n",
       "      <td>0.702128</td>\n",
       "      <td>0.691489</td>\n",
       "      <td>0.702128</td>\n",
       "      <td>0.723404</td>\n",
       "      <td>0.702128</td>\n",
       "      <td>0.734043</td>\n",
       "      <td>0.744681</td>\n",
       "    </tr>\n",
       "    <tr>\n",
       "      <th>lr</th>\n",
       "      <td>0.702128</td>\n",
       "      <td>0.744681</td>\n",
       "      <td>0.702128</td>\n",
       "      <td>0.670213</td>\n",
       "      <td>0.702128</td>\n",
       "      <td>0.712766</td>\n",
       "      <td>0.723404</td>\n",
       "      <td>0.648936</td>\n",
       "      <td>0.702128</td>\n",
       "      <td>0.702128</td>\n",
       "    </tr>\n",
       "    <tr>\n",
       "      <th>knn</th>\n",
       "      <td>0.734043</td>\n",
       "      <td>0.755319</td>\n",
       "      <td>0.776596</td>\n",
       "      <td>0.702128</td>\n",
       "      <td>0.691489</td>\n",
       "      <td>0.744681</td>\n",
       "      <td>0.734043</td>\n",
       "      <td>0.712766</td>\n",
       "      <td>0.734043</td>\n",
       "      <td>0.702128</td>\n",
       "    </tr>\n",
       "    <tr>\n",
       "      <th>nb</th>\n",
       "      <td>0.734043</td>\n",
       "      <td>0.659574</td>\n",
       "      <td>0.734043</td>\n",
       "      <td>0.659574</td>\n",
       "      <td>0.670213</td>\n",
       "      <td>0.638298</td>\n",
       "      <td>0.648936</td>\n",
       "      <td>0.659574</td>\n",
       "      <td>0.648936</td>\n",
       "      <td>0.553191</td>\n",
       "    </tr>\n",
       "  </tbody>\n",
       "</table>\n",
       "</div>"
      ],
      "text/plain": [
       "            0         1         2         3         4         5         6  \\\n",
       "my   0.968085  0.968085  0.968085  0.946809  0.936170  0.957447  0.968085   \n",
       "rf   0.734043  0.819149  0.787234  0.691489  0.702128  0.712766  0.723404   \n",
       "dt   0.574468  0.617021  0.638298  0.638298  0.648936  0.617021  0.574468   \n",
       "svm  0.723404  0.819149  0.787234  0.702128  0.691489  0.702128  0.723404   \n",
       "lr   0.702128  0.744681  0.702128  0.670213  0.702128  0.712766  0.723404   \n",
       "knn  0.734043  0.755319  0.776596  0.702128  0.691489  0.744681  0.734043   \n",
       "nb   0.734043  0.659574  0.734043  0.659574  0.670213  0.638298  0.648936   \n",
       "\n",
       "            7         8         9  \n",
       "my   0.968085  0.957447  0.968085  \n",
       "rf   0.712766  0.723404  0.744681  \n",
       "dt   0.627660  0.670213  0.723404  \n",
       "svm  0.702128  0.734043  0.744681  \n",
       "lr   0.648936  0.702128  0.702128  \n",
       "knn  0.712766  0.734043  0.702128  \n",
       "nb   0.659574  0.648936  0.553191  "
      ]
     },
     "execution_count": 87,
     "metadata": {},
     "output_type": "execute_result"
    }
   ],
   "source": [
    "from sklearn.ensemble import RandomForestClassifier\n",
    "from sklearn import tree\n",
    "from sklearn.svm import SVC\n",
    "from sklearn import metrics\n",
    "from sklearn import linear_model\n",
    "from sklearn.neighbors import KNeighborsClassifier\n",
    "from sklearn.naive_bayes import GaussianNB\n",
    "\n",
    "my = []\n",
    "rf = []\n",
    "dt = []\n",
    "svm = []\n",
    "lr = []\n",
    "knn = []\n",
    "nb = []\n",
    "\n",
    "for i in range(10):\n",
    "    # my\n",
    "    train_x, test_x, train_y, test_y = train_test_split(x, y, test_size=0.3, random_state=np.random.seed())\n",
    "    print(train_x.shape, test_x.shape, train_y.shape, test_y.shape)\n",
    "    loss, accuracy = model.evaluate(test_x, test_y)\n",
    "    my.append(accuracy)\n",
    "\n",
    "    clf=RandomForestClassifier()  \n",
    "    clf = clf.fit(train_x,train_y)\n",
    "    score1 = clf.score(test_x,test_y)\n",
    "    rf.append(score1)\n",
    "\n",
    "    clf2 = tree.DecisionTreeClassifier()\n",
    "    clf2 = clf2.fit(train_x, train_y)\n",
    "    score2 = clf2.score(test_x,test_y)\n",
    "    dt.append(score2)\n",
    "\n",
    "    clf3 = SVC(kernel='rbf', probability=True)\n",
    "    clf3.fit(train_x,train_y)\n",
    "    y_pred = clf3.predict(test_x)\n",
    "    score3 = metrics.accuracy_score(test_y, y_pred)\n",
    "    svm.append(score3)\n",
    "\n",
    "    clf4 = linear_model.LogisticRegression(C=1e5)\n",
    "    clf4.fit(train_x,train_y)\n",
    "    score4 = clf4.score(test_x,test_y)\n",
    "    lr.append(score4)\n",
    "\n",
    "    clf5 = KNeighborsClassifier()\n",
    "    clf5.fit(train_x,train_y)\n",
    "    y_pred = clf5.predict(test_x)\n",
    "    score5 = metrics.accuracy_score(test_y, y_pred)\n",
    "    knn.append(score5)\n",
    "\n",
    "    clf6 = GaussianNB()\n",
    "    clf6 = clf6.fit(train_x,train_y)\n",
    "    \n",
    "    y_pred = clf6.predict(test_x)\n",
    "    score6 = metrics.accuracy_score(test_y, y_pred)\n",
    "    nb.append(score6)\n",
    "\n",
    "evaluate_result = pd.DataFrame([my,rf,dt,svm,lr,knn,nb], index=['my','rf','dt','svm','lr','knn','nb'])\n",
    "evaluate_result"
   ]
  },
  {
   "cell_type": "code",
   "execution_count": 84,
   "metadata": {},
   "outputs": [],
   "source": [
    "from sklearn.metrics import roc_curve\n",
    "y_pred = model.predict(test_x).ravel()\n",
    "fpr_keras, tpr_keras, thresholds_keras = roc_curve(test_y, y_pred)\n",
    "\n",
    "from sklearn.metrics import auc\n",
    "auc_keras = auc(fpr_keras, tpr_keras)"
   ]
  },
  {
   "cell_type": "code",
   "execution_count": 75,
   "metadata": {},
   "outputs": [
    {
     "name": "stderr",
     "output_type": "stream",
     "text": [
      "/usr/local/lib/python3.6/dist-packages/sklearn/utils/validation.py:63: DataConversionWarning: A column-vector y was passed when a 1d array was expected. Please change the shape of y to (n_samples, ), for example using ravel().\n",
      "  return f(*args, **kwargs)\n",
      "/usr/local/lib/python3.6/dist-packages/sklearn/utils/validation.py:63: DataConversionWarning: A column-vector y was passed when a 1d array was expected. Please change the shape of y to (n_samples, ), for example using ravel().\n",
      "  return f(*args, **kwargs)\n",
      "/usr/local/lib/python3.6/dist-packages/sklearn/linear_model/_logistic.py:765: ConvergenceWarning: lbfgs failed to converge (status=1):\n",
      "STOP: TOTAL NO. of ITERATIONS REACHED LIMIT.\n",
      "\n",
      "Increase the number of iterations (max_iter) or scale the data as shown in:\n",
      "    https://scikit-learn.org/stable/modules/preprocessing.html\n",
      "Please also refer to the documentation for alternative solver options:\n",
      "    https://scikit-learn.org/stable/modules/linear_model.html#logistic-regression\n",
      "  extra_warning_msg=_LOGISTIC_SOLVER_CONVERGENCE_MSG)\n",
      "/usr/local/lib/python3.6/dist-packages/sklearn/neighbors/_classification.py:179: DataConversionWarning: A column-vector y was passed when a 1d array was expected. Please change the shape of y to (n_samples,), for example using ravel().\n",
      "  return self._fit(X, y)\n",
      "/usr/local/lib/python3.6/dist-packages/sklearn/utils/validation.py:63: DataConversionWarning: A column-vector y was passed when a 1d array was expected. Please change the shape of y to (n_samples, ), for example using ravel().\n",
      "  return f(*args, **kwargs)\n"
     ]
    }
   ],
   "source": [
    "# rf\n",
    "rf = RandomForestClassifier()\n",
    "rf.fit(train_x, train_y.reshape(train_y.shape[0],))\n",
    "\n",
    "y_pred_rf = rf.predict_proba(test_x)[:, 1]\n",
    "fpr_rf, tpr_rf, thresholds_rf = roc_curve(test_y, y_pred_rf)\n",
    "auc_rf = auc(fpr_rf, tpr_rf)\n",
    "\n",
    "# dt\n",
    "clf2 = tree.DecisionTreeClassifier()\n",
    "clf2.fit(train_x, train_y)\n",
    "\n",
    "y_pred_dt = clf2.predict_proba(test_x)[:, 1]\n",
    "fpr_dt, tpr_dt, thresholds_dt = roc_curve(test_y, y_pred_dt)\n",
    "auc_dt = auc(fpr_dt, tpr_dt)\n",
    "\n",
    "# svm\n",
    "clf3 = SVC(kernel='linear', probability=True)\n",
    "clf3.fit(train_x,train_y)\n",
    "\n",
    "y_pred_svm = clf3.predict_proba(test_x)[:, 1]\n",
    "fpr_svm, tpr_svm, thresholds_svm = roc_curve(test_y, y_pred_svm)\n",
    "auc_svm = auc(fpr_svm, tpr_svm)\n",
    "\n",
    "# lr\n",
    "clf4 = linear_model.LogisticRegression()\n",
    "clf4.fit(train_x,train_y)\n",
    "\n",
    "y_pred_lr = clf4.predict_proba(test_x)[:, 1]\n",
    "fpr_lr, tpr_lr, thresholds_lr = roc_curve(test_y, y_pred_lr)\n",
    "auc_lr = auc(fpr_lr, tpr_lr)\n",
    "\n",
    "# knn\n",
    "clf5 = KNeighborsClassifier()\n",
    "clf5.fit(train_x,train_y)\n",
    "\n",
    "y_pred_knn = clf5.predict_proba(test_x)[:, 1]\n",
    "fpr_knn, tpr_knn, thresholds_knn = roc_curve(test_y, y_pred_knn)\n",
    "auc_knn = auc(fpr_knn, tpr_knn)\n",
    "\n",
    "# nb\n",
    "clf6 = GaussianNB()\n",
    "clf6 = clf6.fit(train_x,train_y)\n",
    "\n",
    "y_pred_nb = clf6.predict_proba(test_x)[:, 1]\n",
    "fpr_nb, tpr_nb, thresholds_nb = roc_curve(test_y, y_pred_nb)\n",
    "auc_nb = auc(fpr_nb, tpr_nb)"
   ]
  },
  {
   "cell_type": "code",
   "execution_count": 85,
   "metadata": {},
   "outputs": [
    {
     "data": {
      "image/png": "[encoded data removed]",
      "text/plain": [
       "<Figure size 720x720 with 1 Axes>"
      ]
     },
     "metadata": {},
     "output_type": "display_data"
    }
   ],
   "source": [
    "lw = 5\n",
    "plt.figure(figsize=(10, 10))\n",
    "plt.subplots_adjust(left=0.095, bottom=0.08, right=0.96, top=0.98)\n",
    "plt.plot([0, 1], [0, 1], 'k--')\n",
    "plt.plot(fpr_keras, tpr_keras, label='Keras (area = {:.3f})'.format(auc_keras))\n",
    "# plt.plot(fpr_rf, tpr_rf, label='RF (area = {:.3f})'.format(auc_rf))\n",
    "# plt.plot(fpr_dt, tpr_dt, label='DT (area = {:.3f})'.format(auc_dt))\n",
    "# plt.plot(fpr_svm, tpr_svm, label='SVM (area = {:.3f})'.format(auc_svm))\n",
    "# plt.plot(fpr_lr, tpr_lr, label='LR (area = {:.3f})'.format(auc_lr))\n",
    "# plt.plot(fpr_knn, tpr_knn, label='KNN (area = {:.3f})'.format(auc_knn))\n",
    "# plt.plot(fpr_nb, tpr_nb, label='NB (area = {:.3f})'.format(auc_nb))\n",
    "plt.xlabel('False positive rate')\n",
    "plt.ylabel('True positive rate')\n",
    "plt.title('ROC curve')\n",
    "plt.legend(loc='best')\n",
    "plt.show()\n",
    "# # Zoom in view of the upper left corner.\n",
    "# plt.figure(2)\n",
    "# plt.xlim(0, 0.2)\n",
    "# plt.ylim(0.4, 1)\n",
    "# plt.plot([0, 1], [0, 1], 'k--')\n",
    "# plt.plot(fpr_keras, tpr_keras, label='Keras (area = {:.3f})'.format(auc_keras))\n",
    "# plt.plot(fpr_rf, tpr_rf, label='RF (area = {:.3f})'.format(auc_rf))\n",
    "# plt.xlabel('False positive rate')\n",
    "# plt.ylabel('True positive rate')\n",
    "# plt.title('ROC curve (zoomed in at top left)')\n",
    "# plt.legend(loc='best')\n",
    "# plt.show()"
   ]
  },
  {
   "cell_type": "code",
   "execution_count": 41,
   "metadata": {},
   "outputs": [
    {
     "name": "stderr",
     "output_type": "stream",
     "text": [
      "/usr/local/lib/python3.6/dist-packages/ipykernel_launcher.py:3: DataConversionWarning: A column-vector y was passed when a 1d array was expected. Please change the shape of y to (n_samples,), for example using ravel().\n",
      "  This is separate from the ipykernel package so we can avoid doing imports until\n"
     ]
    },
    {
     "data": {
      "text/plain": [
       "0.7553191489361702"
      ]
     },
     "execution_count": 41,
     "metadata": {},
     "output_type": "execute_result"
    }
   ],
   "source": [
    "from sklearn.ensemble import RandomForestClassifier\n",
    "clf=RandomForestClassifier()  \n",
    "clf = clf.fit(train_x,train_y)\n",
    "score1 = clf.score(test_x,test_y)\n",
    "score1"
   ]
  },
  {
   "cell_type": "code",
   "execution_count": 42,
   "metadata": {},
   "outputs": [
    {
     "data": {
      "text/plain": [
       "0.5531914893617021"
      ]
     },
     "execution_count": 42,
     "metadata": {},
     "output_type": "execute_result"
    }
   ],
   "source": [
    "from sklearn import tree\n",
    "clf2 = tree.DecisionTreeClassifier()\n",
    "clf2 = clf2.fit(train_x, train_y)\n",
    "score2 = clf2.score(test_x,test_y)\n",
    "score2"
   ]
  },
  {
   "cell_type": "code",
   "execution_count": 28,
   "metadata": {},
   "outputs": [],
   "source": [
    "import lime\n",
    "import lime.lime_tabular"
   ]
  },
  {
   "cell_type": "code",
   "execution_count": 7,
   "metadata": {},
   "outputs": [],
   "source": [
    "import tensorflow as tf\n",
    "def get_gradients(img_input, top_pred_idx):\n",
    "    \"\"\"Computes the gradients of outputs w.r.t input image.\n",
    "\n",
    "    Args:\n",
    "        img_input: 4D image tensor\n",
    "        top_pred_idx: Predicted label for the input image\n",
    "\n",
    "    Returns:\n",
    "        Gradients of the predictions w.r.t img_input\n",
    "    \"\"\"\n",
    "    images = tf.cast(img_input, tf.float32)\n",
    "\n",
    "    with tf.GradientTape() as tape:\n",
    "        tape.watch(images)\n",
    "        preds = model(images)\n",
    "        top_class = preds[:, top_pred_idx]\n",
    "\n",
    "    grads = tape.gradient(top_class, images)\n",
    "    return grads\n",
    "\n",
    "\n",
    "def get_integrated_gradients(img_input, top_pred_idx, baseline=None, num_steps=50):\n",
    "    \"\"\"Computes Integrated Gradients for a predicted label.\n",
    "\n",
    "    Args:\n",
    "        img_input (ndarray): Original image\n",
    "        top_pred_idx: Predicted label for the input image\n",
    "        baseline (ndarray): The baseline image to start with for interpolation\n",
    "        num_steps: Number of interpolation steps between the baseline\n",
    "            and the input used in the computation of integrated gradients. These\n",
    "            steps along determine the integral approximation error. By default,\n",
    "            num_steps is set to 50.\n",
    "\n",
    "    Returns:\n",
    "        Integrated gradients w.r.t input image\n",
    "    \"\"\"\n",
    "    # If baseline is not provided, start with a black image\n",
    "    # having same size as the input image.\n",
    "    if baseline is None:\n",
    "        baseline = np.zeros(img_size).astype(np.float32)\n",
    "    else:\n",
    "        baseline = baseline.astype(np.float32)\n",
    "\n",
    "    # 1. Do interpolation.\n",
    "    img_input = img_input.astype(np.float32)\n",
    "    interpolated_image = [\n",
    "        baseline + (step / num_steps) * (img_input - baseline)\n",
    "        for step in range(num_steps + 1)\n",
    "    ]\n",
    "    interpolated_image = np.array(interpolated_image).astype(np.float32)\n",
    "\n",
    "    # # 2. Preprocess the interpolated images\n",
    "    # interpolated_image = xception.preprocess_input(interpolated_image)\n",
    "\n",
    "    # 3. Get the gradients\n",
    "    grads = []\n",
    "    for i, img in enumerate(interpolated_image):\n",
    "        img = tf.expand_dims(img, axis=0)\n",
    "        grad = get_gradients(img, top_pred_idx=top_pred_idx)\n",
    "        grads.append(grad[0])\n",
    "    grads = tf.convert_to_tensor(grads, dtype=tf.float32)\n",
    "\n",
    "    # 4. Approximate the integral using the trapezoidal rule\n",
    "    grads = (grads[:-1] + grads[1:]) / 2.0\n",
    "    avg_grads = tf.reduce_mean(grads, axis=0)\n",
    "\n",
    "    # 5. Calculate integrated gradients and return\n",
    "    integrated_grads = (img_input - baseline) * avg_grads\n",
    "    return integrated_grads\n",
    "\n",
    "\n",
    "def random_baseline_integrated_gradients(\n",
    "    img_input, top_pred_idx, num_steps=50, num_runs=2\n",
    "):\n",
    "    \"\"\"Generates a number of random baseline images.\n",
    "\n",
    "    Args:\n",
    "        img_input (ndarray): 3D image\n",
    "        top_pred_idx: Predicted label for the input image\n",
    "        num_steps: Number of interpolation steps between the baseline\n",
    "            and the input used in the computation of integrated gradients. These\n",
    "            steps along determine the integral approximation error. By default,\n",
    "            num_steps is set to 50.\n",
    "        num_runs: number of baseline images to generate\n",
    "\n",
    "    Returns:\n",
    "        Averaged integrated gradients for `num_runs` baseline images\n",
    "    \"\"\"\n",
    "    # 1. List to keep track of Integrated Gradients (IG) for all the images\n",
    "    integrated_grads = []\n",
    "\n",
    "    # 2. Get the integrated gradients for all the baselines\n",
    "    for run in range(num_runs):\n",
    "        baseline = np.random.random(img_size) * 255\n",
    "        igrads = get_integrated_gradients(\n",
    "            img_input=img_input,\n",
    "            top_pred_idx=top_pred_idx,\n",
    "            baseline=baseline,\n",
    "            num_steps=num_steps,\n",
    "        )\n",
    "        integrated_grads.append(igrads)\n",
    "\n",
    "    # 3. Return the average integrated gradients for the image\n",
    "    integrated_grads = tf.convert_to_tensor(integrated_grads)\n",
    "    return tf.reduce_mean(integrated_grads, axis=0)"
   ]
  },
  {
   "cell_type": "code",
   "execution_count": 2,
   "metadata": {},
   "outputs": [
    {
     "ename": "NameError",
     "evalue": "name 'np' is not defined",
     "output_type": "error",
     "traceback": [
      "\u001b[0;31m---------------------------------------------------------------------------\u001b[0m",
      "\u001b[0;31mNameError\u001b[0m                                 Traceback (most recent call last)",
      "\u001b[0;32m<ipython-input-2-c1702cf90cf4>\u001b[0m in \u001b[0;36m<module>\u001b[0;34m\u001b[0m\n\u001b[0;32m----> 1\u001b[0;31m \u001b[0mx\u001b[0m \u001b[0;34m=\u001b[0m \u001b[0mnp\u001b[0m\u001b[0;34m.\u001b[0m\u001b[0marray\u001b[0m\u001b[0;34m(\u001b[0m\u001b[0mtest_x\u001b[0m\u001b[0;34m.\u001b[0m\u001b[0miloc\u001b[0m\u001b[0;34m[\u001b[0m\u001b[0;36m0\u001b[0m\u001b[0;34m]\u001b[0m\u001b[0;34m)\u001b[0m\u001b[0;34m\u001b[0m\u001b[0;34m\u001b[0m\u001b[0m\n\u001b[0m\u001b[1;32m      2\u001b[0m \u001b[0mimg_size\u001b[0m \u001b[0;34m=\u001b[0m \u001b[0mx\u001b[0m\u001b[0;34m.\u001b[0m\u001b[0mshape\u001b[0m\u001b[0;34m\u001b[0m\u001b[0;34m\u001b[0m\u001b[0m\n\u001b[1;32m      3\u001b[0m \u001b[0mtop_k\u001b[0m \u001b[0;34m=\u001b[0m \u001b[0mint\u001b[0m\u001b[0;34m(\u001b[0m\u001b[0mlen\u001b[0m\u001b[0;34m(\u001b[0m\u001b[0mx\u001b[0m\u001b[0;34m)\u001b[0m\u001b[0;34m/\u001b[0m\u001b[0;36m100\u001b[0m\u001b[0;34m)\u001b[0m\u001b[0;34m\u001b[0m\u001b[0;34m\u001b[0m\u001b[0m\n\u001b[1;32m      4\u001b[0m \u001b[0;34m\u001b[0m\u001b[0m\n\u001b[1;32m      5\u001b[0m \u001b[0;31m# for num in range(len(test_x)):\u001b[0m\u001b[0;34m\u001b[0m\u001b[0;34m\u001b[0m\u001b[0;34m\u001b[0m\u001b[0m\n",
      "\u001b[0;31mNameError\u001b[0m: name 'np' is not defined"
     ]
    }
   ],
   "source": [
    "x = np.array(test_x.iloc[0])\n",
    "img_size = x.shape\n",
    "top_k = int(len(x)/100)\n",
    "\n",
    "for num in range(len(test_x)):\n",
    "    print(num)\n",
    "    s = np.array(test_x.iloc[num]).reshape(1,test_x.shape[1])\n",
    "    x = np.array(test_x.iloc[num])\n",
    "    preds = model.predict(s)\n",
    "\n",
    "    top_pred_idx = tf.argmax(preds[0])\n",
    "    igrads = random_baseline_integrated_gradients(np.copy(x), top_pred_idx=top_pred_idx, num_steps=50, num_runs=2)\n",
    "    igrads = np.array(igrads).reshape(1,test_x.shape[1])\n",
    "\n",
    "    if num == 0:\n",
    "        igs = igrads\n",
    "    else:\n",
    "        igs = np.concatenate((igs, igrads), axis=0)\n",
    "preds = model.predict(test_x)\n",
    "preds_y = pd.DataFrame(np.where(preds>0.5, 1, 0), columns=['class'])"
   ]
  },
  {
   "cell_type": "code",
   "execution_count": 9,
   "metadata": {},
   "outputs": [],
   "source": [
    "idx_0 = preds_y.index[preds_y['class']==0].to_list()\n",
    "idx_1 = preds_y.index[preds_y['class']==1].to_list()\n",
    "\n",
    "igs = pd.DataFrame(igs, columns=test_x.columns)\n",
    "\n",
    "surv_0 = igs.loc[idx_0]\n",
    "surv_1 = igs.loc[idx_1]"
   ]
  },
  {
   "cell_type": "code",
   "execution_count": 11,
   "metadata": {},
   "outputs": [],
   "source": [
    "# LTS\n",
    "row_mean = pd.DataFrame(surv_0.mean(axis=0), columns=['mean']).sort_values('mean', inplace=False)\n",
    "row_mean.to_csv('/root/work/data/explanation/stad_surv0_igs_mean')\n",
    "\n",
    "# STS\n",
    "row_mean = pd.DataFrame(surv_1.mean(axis=0), columns=['mean']).sort_values('mean', inplace=False)\n",
    "row_mean.to_csv('/root/work/data/explanation/stad_surv1_igs_mean')"
   ]
  },
  {
   "cell_type": "code",
   "execution_count": null,
   "metadata": {},
   "outputs": [],
   "source": []
  }
 ],
 "metadata": {
  "interpreter": {
   "hash": "31f2aee4e71d21fbe5cf8b01ff0e069b9275f58929596ceb00d14d90e3e16cd6"
  },
  "kernelspec": {
   "display_name": "Python 3.6.9 64-bit",
   "language": "python",
   "name": "python3"
  },
  "language_info": {
   "codemirror_mode": {
    "name": "ipython",
    "version": 3
   },
   "file_extension": ".py",
   "mimetype": "text/x-python",
   "name": "python",
   "nbconvert_exporter": "python",
   "pygments_lexer": "ipython3",
   "version": "3.6.9"
  },
  "orig_nbformat": 4
 },
 "nbformat": 4,
 "nbformat_minor": 2
}
